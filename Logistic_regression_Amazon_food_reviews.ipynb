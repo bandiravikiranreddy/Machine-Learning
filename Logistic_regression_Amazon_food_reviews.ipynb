{
 "cells": [
  {
   "cell_type": "markdown",
   "metadata": {
    "colab_type": "text",
    "id": "-VCUZwtmUk3m"
   },
   "source": [
    "<h1> Amazon Food Reviews"
   ]
  },
  {
   "cell_type": "markdown",
   "metadata": {
    "colab_type": "text",
    "id": "03BlYI8DUpt1"
   },
   "source": [
    "We have Amazon Food Reviews with 10 features\n",
    "\n",
    "1.Id\n",
    "\n",
    "2.Product Id\n",
    "\n",
    "3.UserID\n",
    "\n",
    "4.Profile Name\n",
    "\n",
    "5.Helpfulness Numerator\n",
    "\n",
    "6.Helpfulness Denominator\n",
    "\n",
    "7.Score\n",
    "\n",
    "8.Time\n",
    "\n",
    "9.Summary\n",
    "\n",
    "10.Text\n",
    "\n",
    "# Objective\n",
    "\n",
    "We have 10 features from that we will use text feature to predict given review is positive or negative"
   ]
  },
  {
   "cell_type": "markdown",
   "metadata": {
    "colab_type": "text",
    "id": "rRj5h-8oV3y4"
   },
   "source": [
    "# Positive and Negative conversion\n",
    "\n",
    "Here we are considering the 0 for negative reviews which has score less than 3 and 1 for positive reviews which has score greater than 3 and we are leaving the neutral reviews"
   ]
  },
  {
   "cell_type": "code",
   "execution_count": 1,
   "metadata": {
    "colab": {},
    "colab_type": "code",
    "id": "VfuX56xqo3w4"
   },
   "outputs": [],
   "source": [
    "import numpy as np  \n",
    "import pandas as pd  \n",
    "import matplotlib.pyplot as plt\n",
    "from sklearn.metrics import classification_report,confusion_matrix,accuracy_score\n"
   ]
  },
  {
   "cell_type": "code",
   "execution_count": 2,
   "metadata": {
    "colab": {
     "base_uri": "https://localhost:8080/",
     "height": 70
    },
    "colab_type": "code",
    "id": "dr3J_Qhapwvx",
    "outputId": "872d304b-112f-464f-d356-157156567116"
   },
   "outputs": [
    {
     "data": {
      "text/plain": [
       "Index(['Id', 'ProductId', 'UserId', 'ProfileName', 'HelpfulnessNumerator',\n",
       "       'HelpfulnessDenominator', 'Score', 'Time', 'Summary', 'Text'],\n",
       "      dtype='object')"
      ]
     },
     "execution_count": 2,
     "metadata": {},
     "output_type": "execute_result"
    }
   ],
   "source": [
    "# using sqlite3 we have import data of Amazon food reviews from database\n",
    "import sqlite3\n",
    "connection = sqlite3.connect('D:/AI_stuff/dataset/Amazon food reviews/database.sqlite')\n",
    "\n",
    "food_data = pd.read_sql_query('select * from reviews ',connection)\n",
    "\n",
    "food_data.columns"
   ]
  },
  {
   "cell_type": "code",
   "execution_count": 3,
   "metadata": {
    "colab": {
     "base_uri": "https://localhost:8080/",
     "height": 194
    },
    "colab_type": "code",
    "id": "KUXJHLP9pzhi",
    "outputId": "d606bff1-7654-46ee-acdf-2bc3359553cb"
   },
   "outputs": [
    {
     "data": {
      "text/html": [
       "<div>\n",
       "<style scoped>\n",
       "    .dataframe tbody tr th:only-of-type {\n",
       "        vertical-align: middle;\n",
       "    }\n",
       "\n",
       "    .dataframe tbody tr th {\n",
       "        vertical-align: top;\n",
       "    }\n",
       "\n",
       "    .dataframe thead th {\n",
       "        text-align: right;\n",
       "    }\n",
       "</style>\n",
       "<table border=\"1\" class=\"dataframe\">\n",
       "  <thead>\n",
       "    <tr style=\"text-align: right;\">\n",
       "      <th></th>\n",
       "      <th>Id</th>\n",
       "      <th>ProductId</th>\n",
       "      <th>UserId</th>\n",
       "      <th>ProfileName</th>\n",
       "      <th>HelpfulnessNumerator</th>\n",
       "      <th>HelpfulnessDenominator</th>\n",
       "      <th>Score</th>\n",
       "      <th>Time</th>\n",
       "      <th>Summary</th>\n",
       "      <th>Text</th>\n",
       "    </tr>\n",
       "  </thead>\n",
       "  <tbody>\n",
       "    <tr>\n",
       "      <th>0</th>\n",
       "      <td>1</td>\n",
       "      <td>B001E4KFG0</td>\n",
       "      <td>A3SGXH7AUHU8GW</td>\n",
       "      <td>delmartian</td>\n",
       "      <td>1</td>\n",
       "      <td>1</td>\n",
       "      <td>5</td>\n",
       "      <td>1303862400</td>\n",
       "      <td>Good Quality Dog Food</td>\n",
       "      <td>I have bought several of the Vitality canned d...</td>\n",
       "    </tr>\n",
       "    <tr>\n",
       "      <th>1</th>\n",
       "      <td>2</td>\n",
       "      <td>B00813GRG4</td>\n",
       "      <td>A1D87F6ZCVE5NK</td>\n",
       "      <td>dll pa</td>\n",
       "      <td>0</td>\n",
       "      <td>0</td>\n",
       "      <td>1</td>\n",
       "      <td>1346976000</td>\n",
       "      <td>Not as Advertised</td>\n",
       "      <td>Product arrived labeled as Jumbo Salted Peanut...</td>\n",
       "    </tr>\n",
       "    <tr>\n",
       "      <th>2</th>\n",
       "      <td>3</td>\n",
       "      <td>B000LQOCH0</td>\n",
       "      <td>ABXLMWJIXXAIN</td>\n",
       "      <td>Natalia Corres \"Natalia Corres\"</td>\n",
       "      <td>1</td>\n",
       "      <td>1</td>\n",
       "      <td>4</td>\n",
       "      <td>1219017600</td>\n",
       "      <td>\"Delight\" says it all</td>\n",
       "      <td>This is a confection that has been around a fe...</td>\n",
       "    </tr>\n",
       "    <tr>\n",
       "      <th>3</th>\n",
       "      <td>4</td>\n",
       "      <td>B000UA0QIQ</td>\n",
       "      <td>A395BORC6FGVXV</td>\n",
       "      <td>Karl</td>\n",
       "      <td>3</td>\n",
       "      <td>3</td>\n",
       "      <td>2</td>\n",
       "      <td>1307923200</td>\n",
       "      <td>Cough Medicine</td>\n",
       "      <td>If you are looking for the secret ingredient i...</td>\n",
       "    </tr>\n",
       "    <tr>\n",
       "      <th>4</th>\n",
       "      <td>5</td>\n",
       "      <td>B006K2ZZ7K</td>\n",
       "      <td>A1UQRSCLF8GW1T</td>\n",
       "      <td>Michael D. Bigham \"M. Wassir\"</td>\n",
       "      <td>0</td>\n",
       "      <td>0</td>\n",
       "      <td>5</td>\n",
       "      <td>1350777600</td>\n",
       "      <td>Great taffy</td>\n",
       "      <td>Great taffy at a great price.  There was a wid...</td>\n",
       "    </tr>\n",
       "  </tbody>\n",
       "</table>\n",
       "</div>"
      ],
      "text/plain": [
       "   Id   ProductId          UserId                      ProfileName  \\\n",
       "0   1  B001E4KFG0  A3SGXH7AUHU8GW                       delmartian   \n",
       "1   2  B00813GRG4  A1D87F6ZCVE5NK                           dll pa   \n",
       "2   3  B000LQOCH0   ABXLMWJIXXAIN  Natalia Corres \"Natalia Corres\"   \n",
       "3   4  B000UA0QIQ  A395BORC6FGVXV                             Karl   \n",
       "4   5  B006K2ZZ7K  A1UQRSCLF8GW1T    Michael D. Bigham \"M. Wassir\"   \n",
       "\n",
       "   HelpfulnessNumerator  HelpfulnessDenominator  Score        Time  \\\n",
       "0                     1                       1      5  1303862400   \n",
       "1                     0                       0      1  1346976000   \n",
       "2                     1                       1      4  1219017600   \n",
       "3                     3                       3      2  1307923200   \n",
       "4                     0                       0      5  1350777600   \n",
       "\n",
       "                 Summary                                               Text  \n",
       "0  Good Quality Dog Food  I have bought several of the Vitality canned d...  \n",
       "1      Not as Advertised  Product arrived labeled as Jumbo Salted Peanut...  \n",
       "2  \"Delight\" says it all  This is a confection that has been around a fe...  \n",
       "3         Cough Medicine  If you are looking for the secret ingredient i...  \n",
       "4            Great taffy  Great taffy at a great price.  There was a wid...  "
      ]
     },
     "execution_count": 3,
     "metadata": {},
     "output_type": "execute_result"
    }
   ],
   "source": [
    "food_data.head(5)"
   ]
  },
  {
   "cell_type": "code",
   "execution_count": 4,
   "metadata": {
    "colab": {},
    "colab_type": "code",
    "id": "Ar3WIzGvp96w"
   },
   "outputs": [],
   "source": [
    "# Here we are leaving neutral reviews which has score 3\n",
    "food_data = pd.read_sql_query('select * from reviews where score != 3',connection)\n"
   ]
  },
  {
   "cell_type": "code",
   "execution_count": 5,
   "metadata": {
    "colab": {},
    "colab_type": "code",
    "id": "kgbMhP4OqW0r"
   },
   "outputs": [],
   "source": [
    "# Here are replacing review score 1,2 as 0 and 4,5 as a 1.\n",
    "# O is Negative reviews\n",
    "# 1 is positive reviews\n",
    "def partition(x):\n",
    "    if x<3:\n",
    "        return 0\n",
    "    return 1\n",
    "\n",
    "actualScore = food_data['Score']\n",
    "positiveNegative = actualScore.map(partition)\n",
    "food_data['Score'] = positiveNegative"
   ]
  },
  {
   "cell_type": "code",
   "execution_count": 6,
   "metadata": {
    "colab": {
     "base_uri": "https://localhost:8080/",
     "height": 194
    },
    "colab_type": "code",
    "id": "zAVyACt4qsJC",
    "outputId": "8fb45dbd-41f8-42ab-a132-165da01c7ff2"
   },
   "outputs": [
    {
     "data": {
      "text/html": [
       "<div>\n",
       "<style scoped>\n",
       "    .dataframe tbody tr th:only-of-type {\n",
       "        vertical-align: middle;\n",
       "    }\n",
       "\n",
       "    .dataframe tbody tr th {\n",
       "        vertical-align: top;\n",
       "    }\n",
       "\n",
       "    .dataframe thead th {\n",
       "        text-align: right;\n",
       "    }\n",
       "</style>\n",
       "<table border=\"1\" class=\"dataframe\">\n",
       "  <thead>\n",
       "    <tr style=\"text-align: right;\">\n",
       "      <th></th>\n",
       "      <th>Id</th>\n",
       "      <th>ProductId</th>\n",
       "      <th>UserId</th>\n",
       "      <th>ProfileName</th>\n",
       "      <th>HelpfulnessNumerator</th>\n",
       "      <th>HelpfulnessDenominator</th>\n",
       "      <th>Score</th>\n",
       "      <th>Time</th>\n",
       "      <th>Summary</th>\n",
       "      <th>Text</th>\n",
       "    </tr>\n",
       "  </thead>\n",
       "  <tbody>\n",
       "    <tr>\n",
       "      <th>0</th>\n",
       "      <td>1</td>\n",
       "      <td>B001E4KFG0</td>\n",
       "      <td>A3SGXH7AUHU8GW</td>\n",
       "      <td>delmartian</td>\n",
       "      <td>1</td>\n",
       "      <td>1</td>\n",
       "      <td>1</td>\n",
       "      <td>1303862400</td>\n",
       "      <td>Good Quality Dog Food</td>\n",
       "      <td>I have bought several of the Vitality canned d...</td>\n",
       "    </tr>\n",
       "    <tr>\n",
       "      <th>1</th>\n",
       "      <td>2</td>\n",
       "      <td>B00813GRG4</td>\n",
       "      <td>A1D87F6ZCVE5NK</td>\n",
       "      <td>dll pa</td>\n",
       "      <td>0</td>\n",
       "      <td>0</td>\n",
       "      <td>0</td>\n",
       "      <td>1346976000</td>\n",
       "      <td>Not as Advertised</td>\n",
       "      <td>Product arrived labeled as Jumbo Salted Peanut...</td>\n",
       "    </tr>\n",
       "    <tr>\n",
       "      <th>2</th>\n",
       "      <td>3</td>\n",
       "      <td>B000LQOCH0</td>\n",
       "      <td>ABXLMWJIXXAIN</td>\n",
       "      <td>Natalia Corres \"Natalia Corres\"</td>\n",
       "      <td>1</td>\n",
       "      <td>1</td>\n",
       "      <td>1</td>\n",
       "      <td>1219017600</td>\n",
       "      <td>\"Delight\" says it all</td>\n",
       "      <td>This is a confection that has been around a fe...</td>\n",
       "    </tr>\n",
       "    <tr>\n",
       "      <th>3</th>\n",
       "      <td>4</td>\n",
       "      <td>B000UA0QIQ</td>\n",
       "      <td>A395BORC6FGVXV</td>\n",
       "      <td>Karl</td>\n",
       "      <td>3</td>\n",
       "      <td>3</td>\n",
       "      <td>0</td>\n",
       "      <td>1307923200</td>\n",
       "      <td>Cough Medicine</td>\n",
       "      <td>If you are looking for the secret ingredient i...</td>\n",
       "    </tr>\n",
       "    <tr>\n",
       "      <th>4</th>\n",
       "      <td>5</td>\n",
       "      <td>B006K2ZZ7K</td>\n",
       "      <td>A1UQRSCLF8GW1T</td>\n",
       "      <td>Michael D. Bigham \"M. Wassir\"</td>\n",
       "      <td>0</td>\n",
       "      <td>0</td>\n",
       "      <td>1</td>\n",
       "      <td>1350777600</td>\n",
       "      <td>Great taffy</td>\n",
       "      <td>Great taffy at a great price.  There was a wid...</td>\n",
       "    </tr>\n",
       "  </tbody>\n",
       "</table>\n",
       "</div>"
      ],
      "text/plain": [
       "   Id   ProductId          UserId                      ProfileName  \\\n",
       "0   1  B001E4KFG0  A3SGXH7AUHU8GW                       delmartian   \n",
       "1   2  B00813GRG4  A1D87F6ZCVE5NK                           dll pa   \n",
       "2   3  B000LQOCH0   ABXLMWJIXXAIN  Natalia Corres \"Natalia Corres\"   \n",
       "3   4  B000UA0QIQ  A395BORC6FGVXV                             Karl   \n",
       "4   5  B006K2ZZ7K  A1UQRSCLF8GW1T    Michael D. Bigham \"M. Wassir\"   \n",
       "\n",
       "   HelpfulnessNumerator  HelpfulnessDenominator  Score        Time  \\\n",
       "0                     1                       1      1  1303862400   \n",
       "1                     0                       0      0  1346976000   \n",
       "2                     1                       1      1  1219017600   \n",
       "3                     3                       3      0  1307923200   \n",
       "4                     0                       0      1  1350777600   \n",
       "\n",
       "                 Summary                                               Text  \n",
       "0  Good Quality Dog Food  I have bought several of the Vitality canned d...  \n",
       "1      Not as Advertised  Product arrived labeled as Jumbo Salted Peanut...  \n",
       "2  \"Delight\" says it all  This is a confection that has been around a fe...  \n",
       "3         Cough Medicine  If you are looking for the secret ingredient i...  \n",
       "4            Great taffy  Great taffy at a great price.  There was a wid...  "
      ]
     },
     "execution_count": 6,
     "metadata": {},
     "output_type": "execute_result"
    }
   ],
   "source": [
    "# check the score\n",
    "food_data.head()"
   ]
  },
  {
   "cell_type": "code",
   "execution_count": 7,
   "metadata": {
    "colab": {},
    "colab_type": "code",
    "id": "oxr9Ux5NqwF_"
   },
   "outputs": [],
   "source": [
    "#Drop the duplicates from data and also helpfulness numerator is always lessthan helpfulness denominator\n",
    "final = food_data.drop_duplicates(subset={\"UserId\",\"ProfileName\",\"Time\",\"Text\"},keep=\"first\",inplace=False)\n",
    "\n",
    "final = final[final['HelpfulnessNumerator'] <=final['HelpfulnessDenominator']  ]\n"
   ]
  },
  {
   "cell_type": "code",
   "execution_count": 8,
   "metadata": {
    "colab": {
     "base_uri": "https://localhost:8080/",
     "height": 70
    },
    "colab_type": "code",
    "id": "kQWZdZtDtfTA",
    "outputId": "a8e3e729-8493-4151-f26f-296b6dac9664"
   },
   "outputs": [
    {
     "name": "stdout",
     "output_type": "stream",
     "text": [
      "[nltk_data] Downloading package stopwords to C:\\Users\\Viji\n",
      "[nltk_data]     Reddy\\AppData\\Roaming\\nltk_data...\n",
      "[nltk_data]   Package stopwords is already up-to-date!\n"
     ]
    },
    {
     "data": {
      "text/plain": [
       "True"
      ]
     },
     "execution_count": 8,
     "metadata": {},
     "output_type": "execute_result"
    }
   ],
   "source": [
    "import nltk\n",
    "nltk.download('stopwords')"
   ]
  },
  {
   "cell_type": "code",
   "execution_count": 9,
   "metadata": {
    "colab": {},
    "colab_type": "code",
    "id": "abmMoo85r-K0"
   },
   "outputs": [],
   "source": [
    "import re\n",
    "import string\n",
    "import nltk\n",
    "from nltk.corpus import stopwords\n",
    "from nltk.stem import PorterStemmer\n",
    "from nltk.stem.wordnet import WordNetLemmatizer\n",
    "\n",
    "stop = set(stopwords.words('english')) #set of stopwords\n",
    "sno = nltk.stem.SnowballStemmer('english') #initialising the snowball stemmer\n",
    "\n",
    "def cleanhtml(sentence): #function to clean the word of any html-tags\n",
    "    cleanr = re.compile('<.*?>')\n",
    "    cleantext = re.sub(cleanr, ' ', sentence)\n",
    "    return cleantext\n",
    "def cleanpunc(sentence): #function to clean the word of any punctuation or special characters\n",
    "    cleaned = re.sub(r'[?|!|\\'|\"|#]',r'',sentence)\n",
    "    cleaned = re.sub(r'[.|,|)|(|\\|/]',r' ',cleaned)\n",
    "    return  cleaned\n",
    "\n",
    "i=0\n",
    "str1=' '\n",
    "final_string=[]\n",
    "all_positive_words=[] # store words from +ve reviews here\n",
    "all_negative_words=[] # store words from -ve reviews here.\n",
    "\n",
    "for sent in final['Text'].values:\n",
    "    filtered_sentence=[]\n",
    "    #print(sent);\n",
    "    sent=cleanhtml(sent) # remove HTMl tags\n",
    "    for w in sent.split():\n",
    "        for cleaned_words in cleanpunc(w).split():\n",
    "            if((cleaned_words.isalpha()) & (len(cleaned_words)>2)):    \n",
    "                if(cleaned_words.lower() not in stop):\n",
    "                    s=(sno.stem(cleaned_words.lower())).encode('utf8')\n",
    "                    filtered_sentence.append(s)\n",
    "                    if (final['Score'].values)[i] == 'positive': \n",
    "                        all_positive_words.append(s) #list of all words used to describe positive reviews\n",
    "                    if(final['Score'].values)[i] == 'negative':\n",
    "                        all_negative_words.append(s) #list of all words used to describe negative reviews reviews\n",
    "                else:\n",
    "                    continue\n",
    "            else:\n",
    "                continue \n",
    "    str1 = b\" \".join(filtered_sentence) #final string of cleaned words    \n",
    "    final_string.append(str1)\n",
    "    i+=1"
   ]
  },
  {
   "cell_type": "code",
   "execution_count": 10,
   "metadata": {
    "colab": {},
    "colab_type": "code",
    "id": "kJgCx2-Osw01"
   },
   "outputs": [],
   "source": [
    "final['FinalText'] = final_string\n",
    "final['FinalText'] = final['FinalText'].str.decode('utf-8')\n",
    "\n",
    "con  = sqlite3.connect('final_reviews.sqlite')\n",
    "\n",
    "c = con.cursor()\n",
    "con.text_factory = str\n",
    "\n",
    "final.to_sql('Reviews', con,  schema=None, if_exists='replace', index=True, index_label=None, chunksize=None, dtype=None)"
   ]
  },
  {
   "cell_type": "code",
   "execution_count": 11,
   "metadata": {
    "colab": {},
    "colab_type": "code",
    "id": "VzWbRH5MusbA"
   },
   "outputs": [],
   "source": [
    "final_data = final.sample(n=100000)"
   ]
  },
  {
   "cell_type": "code",
   "execution_count": 12,
   "metadata": {
    "colab": {
     "base_uri": "https://localhost:8080/",
     "height": 361
    },
    "colab_type": "code",
    "id": "H5DmApWPKu64",
    "outputId": "8fe671f8-ccfa-4c24-d7b4-2d117fca258c"
   },
   "outputs": [
    {
     "data": {
      "text/plain": [
       "<matplotlib.axes._subplots.AxesSubplot at 0x239657a8c18>"
      ]
     },
     "execution_count": 12,
     "metadata": {},
     "output_type": "execute_result"
    },
    {
     "data": {
      "image/png": "[encoded data removed]",
      "text/plain": [
       "<Figure size 432x288 with 1 Axes>"
      ]
     },
     "metadata": {},
     "output_type": "display_data"
    }
   ],
   "source": [
    "final_data['Score'].value_counts().plot(kind = 'bar')"
   ]
  },
  {
   "cell_type": "markdown",
   "metadata": {
    "colab_type": "text",
    "id": "U4vYjl__LLue"
   },
   "source": [
    "#Train and test split"
   ]
  },
  {
   "cell_type": "code",
   "execution_count": 13,
   "metadata": {
    "colab": {},
    "colab_type": "code",
    "id": "XSDLlB0nLLO9"
   },
   "outputs": [],
   "source": [
    "from sklearn.feature_extraction.text import CountVectorizer\n",
    "\n",
    "from sklearn.model_selection import train_test_split\n",
    "from sklearn import preprocessing\n",
    "\n",
    "X = final_data['FinalText'].values\n",
    "y = final_data['Score'].values\n",
    "\n",
    "X_train,X_test,y_train,y_test = train_test_split(X,y,test_size=0.33)\n",
    "X_train, X_cv, y_train, y_cv = train_test_split(X_train, y_train, test_size=0.33)"
   ]
  },
  {
   "cell_type": "markdown",
   "metadata": {
    "colab_type": "text",
    "id": "qPtb5W2tOQut"
   },
   "source": [
    "# Bag of words"
   ]
  },
  {
   "cell_type": "code",
   "execution_count": 15,
   "metadata": {
    "colab": {
     "base_uri": "https://localhost:8080/",
     "height": 159
    },
    "colab_type": "code",
    "id": "muua_W2yLVil",
    "outputId": "a2bbe22f-6aa5-437c-cafc-bc1e46fe94a3"
   },
   "outputs": [
    {
     "name": "stdout",
     "output_type": "stream",
     "text": [
      "Shape of independent varibles\n",
      "(44890, 26219)\n",
      "(33000, 26219)\n",
      "(22110, 26219)\n",
      "Shape of dependent varibles\n",
      "(44890,)\n",
      "(33000,)\n",
      "(22110,)\n"
     ]
    }
   ],
   "source": [
    "# try count vectorizer\n",
    "\n",
    "bow = CountVectorizer()\n",
    "\n",
    "X_train_bow = bow.fit_transform(X_train)\n",
    "\n",
    "X_train_bow = preprocessing.normalize(X_train_bow)\n",
    "\n",
    "X_test_bow = bow.transform(X_test)\n",
    "\n",
    "X_test_bow = preprocessing.normalize(X_test_bow)\n",
    "\n",
    "X_cv_bow = bow.transform(X_cv)\n",
    "\n",
    "X_cv_bow = preprocessing.normalize(X_cv_bow)\n",
    "\n",
    "print(\"Shape of independent varibles\")\n",
    "print(X_train_bow.shape)\n",
    "print(X_test_bow.shape)\n",
    "print(X_cv_bow.shape)\n",
    "\n",
    "print(\"Shape of dependent varibles\")\n",
    "print(y_train.shape)\n",
    "print(y_test.shape)\n",
    "print(y_cv.shape)\n",
    "\n"
   ]
  },
  {
   "cell_type": "markdown",
   "metadata": {
    "colab_type": "text",
    "id": "bX_fatu65An6"
   },
   "source": [
    "\n",
    "#Parameter tuning "
   ]
  },
  {
   "cell_type": "code",
   "execution_count": 16,
   "metadata": {
    "colab": {
     "base_uri": "https://localhost:8080/",
     "height": 319
    },
    "colab_type": "code",
    "id": "0WE94I12D70Y",
    "outputId": "1ddd2a98-1fbd-4759-8162-585dc0128a20"
   },
   "outputs": [
    {
     "name": "stdout",
     "output_type": "stream",
     "text": [
      "Cv scores 0.5 and train Scores 0.5 alpha 1e-05 penalty l1\n",
      "Cv scores 0.6321765940681962 and train Scores 0.6293939750030287 alpha 1e-05 penalty l2\n",
      "Cv scores 0.5 and train Scores 0.5 alpha 0.0001 penalty l1\n",
      "Cv scores 0.6866286364449905 and train Scores 0.682506872227753 alpha 0.0001 penalty l2\n",
      "Cv scores 0.5 and train Scores 0.5 alpha 0.001 penalty l1\n",
      "Cv scores 0.8498860869711721 and train Scores 0.8455315047935363 alpha 0.001 penalty l2\n",
      "Cv scores 0.7301548316191949 and train Scores 0.722066867688247 alpha 0.01 penalty l1\n",
      "Cv scores 0.8814000003418428 and train Scores 0.8828386430708128 alpha 0.01 penalty l2\n",
      "Cv scores 0.8974594345455162 and train Scores 0.8978474199277606 alpha 0.1 penalty l1\n",
      "Cv scores 0.9173654707945332 and train Scores 0.922955796800606 alpha 0.1 penalty l2\n",
      "Cv scores 0.9389818582773221 and train Scores 0.9492137125640403 alpha 1 penalty l1\n",
      "Cv scores 0.9393946945743922 and train Scores 0.9537851176033707 alpha 1 penalty l2\n",
      "Cv scores 0.9334115593919006 and train Scores 0.9852675526364809 alpha 10 penalty l1\n",
      "Cv scores 0.9420520344655738 and train Scores 0.9754955517151718 alpha 10 penalty l2\n",
      "Cv scores 0.8924519249903978 and train Scores 0.9981939930078201 alpha 100 penalty l1\n",
      "Cv scores 0.9302792868376581 and train Scores 0.9913155842482977 alpha 100 penalty l2\n",
      "Cv scores 0.8415109368960522 and train Scores 0.9998563332571961 alpha 1000 penalty l1\n",
      "Cv scores 0.9053727228687258 and train Scores 0.997366557919642 alpha 1000 penalty l2\n"
     ]
    }
   ],
   "source": [
    "import warnings\n",
    "warnings.filterwarnings(\"ignore\")\n",
    "from sklearn.linear_model import LogisticRegression\n",
    "from sklearn.metrics import roc_auc_score\n",
    "from sklearn.naive_bayes import MultinomialNB\n",
    "C = [0.00001,0.0001,0.001,0.01,0.1,1,10,100,1000]\n",
    "Penalities = ['l1','l2']\n",
    "\n",
    "cv_scores = []\n",
    "\n",
    "train_scores = []\n",
    "\n",
    "i=0\n",
    "\n",
    "for a in C:\n",
    "  for p in Penalities:\n",
    "    logReg = LogisticRegression(penalty=p, C = a)\n",
    "    logReg.fit(X_train_bow,y_train)\n",
    "    scores = roc_auc_score(np.array(y_cv),logReg.predict_proba(X_cv_bow)[:,1])\n",
    "    cv_scores.append(scores)\n",
    "    scores = roc_auc_score(np.array(y_train),logReg.predict_proba(X_train_bow)[:,1])\n",
    "    train_scores.append(scores)\n",
    "\n",
    "    print(\"Cv scores {} and train Scores {} alpha {} penalty {}\".format(cv_scores[i],train_scores[i],a,p))\n",
    "    i +=1\n",
    " \n",
    "  \n",
    "  \n",
    "  \n"
   ]
  },
  {
   "cell_type": "code",
   "execution_count": 17,
   "metadata": {
    "colab": {
     "base_uri": "https://localhost:8080/",
     "height": 242
    },
    "colab_type": "code",
    "id": "t3N-sdmiahvj",
    "outputId": "33872c01-eb48-444a-95e1-034b872c19e7"
   },
   "outputs": [
    {
     "data": {
      "image/png": "[encoded data removed]",
      "text/plain": [
       "<Figure size 1080x216 with 1 Axes>"
      ]
     },
     "metadata": {},
     "output_type": "display_data"
    }
   ],
   "source": [
    "ticks = ['0.0001+L1', '0.0001+L2', '0.001+L1', '0.001+L2','0.01+L1', '0.01+L2', '0.1+L1', '0.1+L2', '1+L1', '1+L2', '10+L1', '10+L2', '100+L1', '100+L2','1000+L1', '1000+L2']\n",
    "plt.figure(figsize=(15,3))\n",
    "plt.plot(range(len(C)*len(Penalities)), cv_scores)\n",
    "plt.plot(range(len(C)*len(Penalities)), train_scores)\n",
    "plt.xticks(range(len(C)*len(Penalities)), ticks, rotation = 45)\n",
    "plt.legend(['cv','train'])\n",
    "plt.show()"
   ]
  },
  {
   "cell_type": "code",
   "execution_count": 18,
   "metadata": {
    "colab": {
     "base_uri": "https://localhost:8080/",
     "height": 88
    },
    "colab_type": "code",
    "id": "o9j8iYXNxDcW",
    "outputId": "785fd98d-14ec-4466-89a2-3c921ed4f978"
   },
   "outputs": [
    {
     "data": {
      "text/plain": [
       "LogisticRegression(C=10, class_weight=None, dual=False, fit_intercept=True,\n",
       "          intercept_scaling=1, max_iter=100, multi_class='ovr', n_jobs=1,\n",
       "          penalty='l2', random_state=None, solver='liblinear', tol=0.0001,\n",
       "          verbose=0, warm_start=False)"
      ]
     },
     "execution_count": 18,
     "metadata": {},
     "output_type": "execute_result"
    }
   ],
   "source": [
    "classifier = LogisticRegression(penalty = 'l2',C= 10)\n",
    "classifier.fit(X_train_bow,y_train)"
   ]
  },
  {
   "cell_type": "code",
   "execution_count": 19,
   "metadata": {
    "colab": {},
    "colab_type": "code",
    "id": "_u1rd_QDFTww"
   },
   "outputs": [],
   "source": [
    "pred = classifier.predict(X_test_bow)"
   ]
  },
  {
   "cell_type": "code",
   "execution_count": 20,
   "metadata": {
    "colab": {},
    "colab_type": "code",
    "id": "-oe4we5DFggr"
   },
   "outputs": [],
   "source": [
    "from sklearn.metrics import confusion_matrix\n",
    "import seaborn as sn\n",
    "def plot_confusion_matrix(data1,data2):\n",
    "    cm = confusion_matrix(data1,data2)\n",
    "    labels = ['negative','positive']\n",
    "    sn.heatmap(cm, annot=True, xticklabels = labels, yticklabels = labels,fmt='g')\n",
    "    plt.title(\"Confusion Matrix\")\n",
    "    plt.xlabel(\"Predicted Label\")\n",
    "    plt.ylabel(\"Original Label\")\n",
    "    plt.show()"
   ]
  },
  {
   "cell_type": "code",
   "execution_count": 21,
   "metadata": {
    "colab": {
     "base_uri": "https://localhost:8080/",
     "height": 376
    },
    "colab_type": "code",
    "id": "r5g36PJMGAzY",
    "outputId": "e1e53b9f-e6fe-4dbf-923b-a2539dcb3a68"
   },
   "outputs": [
    {
     "data": {
      "image/png": "[encoded data removed]",
      "text/plain": [
       "<Figure size 432x288 with 2 Axes>"
      ]
     },
     "metadata": {},
     "output_type": "display_data"
    }
   ],
   "source": [
    "plot_confusion_matrix(y_test,pred)"
   ]
  },
  {
   "cell_type": "code",
   "execution_count": 22,
   "metadata": {
    "colab": {
     "base_uri": "https://localhost:8080/",
     "height": 376
    },
    "colab_type": "code",
    "id": "1Q5-1332GE8d",
    "outputId": "f104aa82-f5f9-4715-d58f-85526d45bdf3"
   },
   "outputs": [
    {
     "data": {
      "image/png": "[encoded data removed]",
      "text/plain": [
       "<Figure size 432x288 with 1 Axes>"
      ]
     },
     "metadata": {},
     "output_type": "display_data"
    }
   ],
   "source": [
    "from sklearn.metrics import roc_curve,auc\n",
    "train_fpr,train_tpr,thresholds = roc_curve(y_train,classifier.predict_proba(X_train_bow)[:,1])\n",
    "test_fpr,test_tpr,thresholds = roc_curve(y_test,classifier.predict_proba(X_test_bow)[:,1])\n",
    "plt.plot(train_fpr,train_tpr,label=\"Train AUC\"+str(auc(train_fpr,train_tpr)))\n",
    "plt.plot(test_fpr,test_tpr,label=\"Test AUC\"+str(auc(test_fpr,test_tpr)))\n",
    "plt.legend()\n",
    "plt.xlabel(\"alpha\")\n",
    "plt.ylabel(\"AUC\") \n",
    "plt.title(\"ERROR PLOTS\")\n",
    "plt.show()"
   ]
  },
  {
   "cell_type": "markdown",
   "metadata": {
    "colab_type": "text",
    "id": "ngmV-IOwzYv1"
   },
   "source": [
    "# Checking Sparsity"
   ]
  },
  {
   "cell_type": "code",
   "execution_count": 23,
   "metadata": {
    "colab": {
     "base_uri": "https://localhost:8080/",
     "height": 252
    },
    "colab_type": "code",
    "id": "PF19biNTrOPE",
    "outputId": "7309633c-55f2-4f2b-8656-77cefe767aa3"
   },
   "outputs": [
    {
     "name": "stdout",
     "output_type": "stream",
     "text": [
      "For Aplha 0.0001 the count of Non Zeros is 0 \n",
      "Sparcity 100.0\n",
      "For Aplha 0.001 the count of Non Zeros is 0 \n",
      "Sparcity 100.0\n",
      "For Aplha 0.01 the count of Non Zeros is 6 \n",
      "Sparcity 99.97711583203021\n",
      "For Aplha 1 the count of Non Zeros is 832 \n",
      "Sparcity 96.82672870818871\n",
      "For Aplha 10 the count of Non Zeros is 4299 \n",
      "Sparcity 83.60349364964338\n",
      "For Aplha 100 the count of Non Zeros is 7830 \n",
      "Sparcity 70.13616079942027\n",
      "For Aplha 1000 the count of Non Zeros is 8888 \n",
      "Sparcity 66.10091918074679\n"
     ]
    }
   ],
   "source": [
    "alpha = [0.0001,0.001,0.01,1,10,100,1000]\n",
    "sparse = []\n",
    "for i in alpha:\n",
    "  clf = LogisticRegression(penalty = 'l1',C = i)\n",
    "  clf.fit(X_train_bow,y_train)\n",
    "  sparse.append(np.count_nonzero(clf.coef_))\n",
    "  #Converting to flattend array\n",
    "  coef = clf.coef_.ravel()\n",
    "  sparsity = np.mean(coef == 0) * 100\n",
    "  print(\"For Aplha {} the count of Non Zeros is {} \".format(i,np.count_nonzero(clf.coef_)))\n",
    "  print(\"Sparcity\",sparsity) "
   ]
  },
  {
   "cell_type": "code",
   "execution_count": 24,
   "metadata": {
    "colab": {
     "base_uri": "https://localhost:8080/",
     "height": 376
    },
    "colab_type": "code",
    "id": "HnJ1NJKMxFBb",
    "outputId": "90e9fa90-5d52-4f3d-cc79-a309aa536d14"
   },
   "outputs": [
    {
     "data": {
      "image/png": "[encoded data removed]",
      "text/plain": [
       "<Figure size 432x288 with 1 Axes>"
      ]
     },
     "metadata": {},
     "output_type": "display_data"
    }
   ],
   "source": [
    "plt.title(\"Alpha vs count of zeros\")\n",
    "plt.xlabel(\"Alpha Range\")\n",
    "plt.ylabel(\"Count of zeros\")\n",
    "plt.xticks(range(len(alpha)),alpha)\n",
    "plt.plot(range(len(alpha)),sparse)\n",
    "\n",
    "plt.show()"
   ]
  },
  {
   "cell_type": "markdown",
   "metadata": {
    "colab_type": "text",
    "id": "3Y1F5p672T5r"
   },
   "source": [
    "<h2> The degree of sparcity was decreased with alpha"
   ]
  },
  {
   "cell_type": "markdown",
   "metadata": {
    "colab_type": "text",
    "id": "MyGMOsjgGh9B"
   },
   "source": [
    "#Pertubation Test"
   ]
  },
  {
   "cell_type": "code",
   "execution_count": 25,
   "metadata": {
    "colab": {
     "base_uri": "https://localhost:8080/",
     "height": 35
    },
    "colab_type": "code",
    "id": "TuAYtHj81Q3h",
    "outputId": "5e75a04b-37a9-4f8e-8146-997f6d0988c7"
   },
   "outputs": [
    {
     "data": {
      "text/plain": [
       "(1422641,)"
      ]
     },
     "execution_count": 25,
     "metadata": {},
     "output_type": "execute_result"
    }
   ],
   "source": [
    "epsilon = 0.0005\n",
    "X_train_bow_new = X_train_bow.data + epsilon\n",
    "X_train_bow_new.shape"
   ]
  },
  {
   "cell_type": "code",
   "execution_count": 26,
   "metadata": {
    "colab": {
     "base_uri": "https://localhost:8080/",
     "height": 35
    },
    "colab_type": "code",
    "id": "jpERUBJoHuyi",
    "outputId": "493f2ad6-9a21-47d0-e128-0f58dc384e05"
   },
   "outputs": [
    {
     "data": {
      "text/plain": [
       "(44890, 26219)"
      ]
     },
     "execution_count": 26,
     "metadata": {},
     "output_type": "execute_result"
    }
   ],
   "source": [
    "from scipy.sparse import csr_matrix\n",
    "X_train_bow_new = csr_matrix((X_train_bow_new, X_train_bow.indices, X_train_bow.indptr), shape=X_train_bow.shape)\n",
    "X_train_bow_new.shape"
   ]
  },
  {
   "cell_type": "code",
   "execution_count": 27,
   "metadata": {
    "colab": {
     "base_uri": "https://localhost:8080/",
     "height": 88
    },
    "colab_type": "code",
    "id": "cvuI5K7kI1SZ",
    "outputId": "1def732d-437c-4c40-fa78-eb06c776c88a"
   },
   "outputs": [
    {
     "data": {
      "text/plain": [
       "LogisticRegression(C=10, class_weight=None, dual=False, fit_intercept=True,\n",
       "          intercept_scaling=1, max_iter=100, multi_class='ovr', n_jobs=1,\n",
       "          penalty='l2', random_state=None, solver='liblinear', tol=0.0001,\n",
       "          verbose=0, warm_start=False)"
      ]
     },
     "execution_count": 27,
     "metadata": {},
     "output_type": "execute_result"
    }
   ],
   "source": [
    "logReg_new = LogisticRegression(penalty='l2',C=10)\n",
    "logReg_new.fit(X_train_bow_new,y_train)"
   ]
  },
  {
   "cell_type": "code",
   "execution_count": 28,
   "metadata": {
    "colab": {},
    "colab_type": "code",
    "id": "68GqCBhyMn71"
   },
   "outputs": [],
   "source": [
    "weight = classifier.coef_+0.00001"
   ]
  },
  {
   "cell_type": "code",
   "execution_count": 29,
   "metadata": {
    "colab": {},
    "colab_type": "code",
    "id": "vN1jRQ7JM_kZ"
   },
   "outputs": [],
   "source": [
    "weight_new = logReg_new.coef_"
   ]
  },
  {
   "cell_type": "code",
   "execution_count": 30,
   "metadata": {
    "colab": {
     "base_uri": "https://localhost:8080/",
     "height": 35
    },
    "colab_type": "code",
    "id": "P56Mw0vJNEIl",
    "outputId": "e11fdda8-092b-4397-af9a-c5d7dff1b33e"
   },
   "outputs": [
    {
     "data": {
      "text/plain": [
       "(26219,)"
      ]
     },
     "execution_count": 30,
     "metadata": {},
     "output_type": "execute_result"
    }
   ],
   "source": [
    "diff = weight - weight_new\n",
    "change = diff*1.0/weight\n",
    "percentage_change = change * 100\n",
    "percentage_change = percentage_change[0]\n",
    "percentage_change.shape"
   ]
  },
  {
   "cell_type": "code",
   "execution_count": 31,
   "metadata": {
    "colab": {
     "base_uri": "https://localhost:8080/",
     "height": 195
    },
    "colab_type": "code",
    "id": "AvIT151UNp43",
    "outputId": "af02a8f5-50e5-465d-86cc-21d682731425"
   },
   "outputs": [
    {
     "name": "stdout",
     "output_type": "stream",
     "text": [
      "10 the percentile value -0.521578917768788\n",
      "20 the percentile value -0.2780949501522265\n",
      "30 the percentile value -0.1570679906507062\n",
      "40 the percentile value -0.06377874773734186\n",
      "50 the percentile value 0.0247194404781569\n",
      "60 the percentile value 0.11511224250715381\n",
      "70 the percentile value 0.22765360686165392\n",
      "80 the percentile value 0.39770986884818976\n",
      "90 the percentile value 0.75146024742371\n",
      "100 the percentile value 665.2521608358171\n"
     ]
    }
   ],
   "source": [
    "for i in range(10,101,10):\n",
    "  print(\"{} the percentile value {}\".format(i,np.percentile(percentage_change,i)))"
   ]
  },
  {
   "cell_type": "code",
   "execution_count": 32,
   "metadata": {
    "colab": {
     "base_uri": "https://localhost:8080/",
     "height": 212
    },
    "colab_type": "code",
    "id": "Ow_ux7B5PC-v",
    "outputId": "105e4ee2-275d-45fd-9f5f-3483b880be86"
   },
   "outputs": [
    {
     "name": "stdout",
     "output_type": "stream",
     "text": [
      "90 the percentile value 0.75146024742371\n",
      "91 the percentile value 0.8055181002411617\n",
      "92 the percentile value 0.8899831908394702\n",
      "93 the percentile value 0.9984893990267139\n",
      "94 the percentile value 1.1208358626821986\n",
      "95 the percentile value 1.2590320328900724\n",
      "96 the percentile value 1.498328526051264\n",
      "97 the percentile value 1.8023236341975515\n",
      "98 the percentile value 2.41181100050161\n",
      "99 the percentile value 4.322846765726238\n",
      "100 the percentile value 665.2521608358171\n"
     ]
    }
   ],
   "source": [
    "for i in range(90,101,1):\n",
    "  print(\"{} the percentile value {}\".format(i,np.percentile(percentage_change,i)))"
   ]
  },
  {
   "cell_type": "code",
   "execution_count": 33,
   "metadata": {
    "colab": {
     "base_uri": "https://localhost:8080/",
     "height": 195
    },
    "colab_type": "code",
    "id": "tUFBVnqpP-pE",
    "outputId": "3c1f8d8c-2575-4d05-b19c-d4ce01a3e46b"
   },
   "outputs": [
    {
     "name": "stdout",
     "output_type": "stream",
     "text": [
      "99.1 the percentile value 4.885052104103475\n",
      "99.2 the percentile value 5.213769822910118\n",
      "99.3 the percentile value 5.750273393462715\n",
      "99.4 the percentile value 6.567584371719056\n",
      "99.5 the percentile value 7.472422381711629\n",
      "99.6 the percentile value 8.862552381921555\n",
      "99.7 the percentile value 12.076660692373423\n",
      "99.8 the percentile value 17.2482734447233\n",
      "99.9 the percentile value 27.161298591537232\n",
      "100.0 the percentile value 665.2521608358171\n"
     ]
    }
   ],
   "source": [
    "for i in range(1,11,1):\n",
    "  print(\"{} the percentile value {}\".format((i*1.0/10)+99,np.percentile(percentage_change,(i*1.0/10)+99)))"
   ]
  },
  {
   "cell_type": "markdown",
   "metadata": {
    "colab_type": "text",
    "id": "NkF-nzGwRS8u"
   },
   "source": [
    "<h2> we have heavy change after 99.9"
   ]
  },
  {
   "cell_type": "code",
   "execution_count": 34,
   "metadata": {
    "colab": {
     "base_uri": "https://localhost:8080/",
     "height": 194
    },
    "colab_type": "code",
    "id": "J9aNl0GdQQ_-",
    "outputId": "e4ac8a22-33cb-460c-b9d4-a6013ec7a6f3"
   },
   "outputs": [
    {
     "data": {
      "text/html": [
       "<div>\n",
       "<style scoped>\n",
       "    .dataframe tbody tr th:only-of-type {\n",
       "        vertical-align: middle;\n",
       "    }\n",
       "\n",
       "    .dataframe tbody tr th {\n",
       "        vertical-align: top;\n",
       "    }\n",
       "\n",
       "    .dataframe thead th {\n",
       "        text-align: right;\n",
       "    }\n",
       "</style>\n",
       "<table border=\"1\" class=\"dataframe\">\n",
       "  <thead>\n",
       "    <tr style=\"text-align: right;\">\n",
       "      <th></th>\n",
       "      <th>Change</th>\n",
       "    </tr>\n",
       "  </thead>\n",
       "  <tbody>\n",
       "    <tr>\n",
       "      <th>aa</th>\n",
       "      <td>-0.566809</td>\n",
       "    </tr>\n",
       "    <tr>\n",
       "      <th>aaa</th>\n",
       "      <td>0.606555</td>\n",
       "    </tr>\n",
       "    <tr>\n",
       "      <th>aaaahhhhhh</th>\n",
       "      <td>0.078323</td>\n",
       "    </tr>\n",
       "    <tr>\n",
       "      <th>aaah</th>\n",
       "      <td>-0.031434</td>\n",
       "    </tr>\n",
       "    <tr>\n",
       "      <th>aaf</th>\n",
       "      <td>-0.111207</td>\n",
       "    </tr>\n",
       "  </tbody>\n",
       "</table>\n",
       "</div>"
      ],
      "text/plain": [
       "              Change\n",
       "aa         -0.566809\n",
       "aaa         0.606555\n",
       "aaaahhhhhh  0.078323\n",
       "aaah       -0.031434\n",
       "aaf        -0.111207"
      ]
     },
     "execution_count": 34,
     "metadata": {},
     "output_type": "execute_result"
    }
   ],
   "source": [
    "percent_change = pd.DataFrame(data = percentage_change,index = bow.get_feature_names(),columns = ['Change'])\n",
    "percent_change.head(5)"
   ]
  },
  {
   "cell_type": "code",
   "execution_count": 35,
   "metadata": {
    "colab": {
     "base_uri": "https://localhost:8080/",
     "height": 35
    },
    "colab_type": "code",
    "id": "TGN5hxOHSkxe",
    "outputId": "8b09f817-94f7-4a11-cef6-149acc68c79a"
   },
   "outputs": [
    {
     "data": {
      "text/plain": [
       "(13, 1)"
      ]
     },
     "execution_count": 35,
     "metadata": {},
     "output_type": "execute_result"
    }
   ],
   "source": [
    "percent_thre = percent_change[percent_change['Change']>39]\n",
    "percent_thre.shape"
   ]
  },
  {
   "cell_type": "code",
   "execution_count": 36,
   "metadata": {
    "colab": {
     "base_uri": "https://localhost:8080/",
     "height": 340
    },
    "colab_type": "code",
    "id": "BZeYGuM9TSK1",
    "outputId": "66af590c-68da-4562-bcec-b9f52c3f1e50"
   },
   "outputs": [
    {
     "data": {
      "text/html": [
       "<div>\n",
       "<style scoped>\n",
       "    .dataframe tbody tr th:only-of-type {\n",
       "        vertical-align: middle;\n",
       "    }\n",
       "\n",
       "    .dataframe tbody tr th {\n",
       "        vertical-align: top;\n",
       "    }\n",
       "\n",
       "    .dataframe thead th {\n",
       "        text-align: right;\n",
       "    }\n",
       "</style>\n",
       "<table border=\"1\" class=\"dataframe\">\n",
       "  <thead>\n",
       "    <tr style=\"text-align: right;\">\n",
       "      <th></th>\n",
       "      <th>Change</th>\n",
       "    </tr>\n",
       "  </thead>\n",
       "  <tbody>\n",
       "    <tr>\n",
       "      <th>bin</th>\n",
       "      <td>43.045656</td>\n",
       "    </tr>\n",
       "    <tr>\n",
       "      <th>counterbal</th>\n",
       "      <td>39.113052</td>\n",
       "    </tr>\n",
       "    <tr>\n",
       "      <th>infant</th>\n",
       "      <td>57.401710</td>\n",
       "    </tr>\n",
       "    <tr>\n",
       "      <th>lush</th>\n",
       "      <td>60.150139</td>\n",
       "    </tr>\n",
       "    <tr>\n",
       "      <th>maca</th>\n",
       "      <td>233.050270</td>\n",
       "    </tr>\n",
       "    <tr>\n",
       "      <th>movement</th>\n",
       "      <td>595.283559</td>\n",
       "    </tr>\n",
       "    <tr>\n",
       "      <th>nutter</th>\n",
       "      <td>46.990015</td>\n",
       "    </tr>\n",
       "    <tr>\n",
       "      <th>respons</th>\n",
       "      <td>76.418105</td>\n",
       "    </tr>\n",
       "    <tr>\n",
       "      <th>similac</th>\n",
       "      <td>95.052418</td>\n",
       "    </tr>\n",
       "    <tr>\n",
       "      <th>testi</th>\n",
       "      <td>41.439971</td>\n",
       "    </tr>\n",
       "  </tbody>\n",
       "</table>\n",
       "</div>"
      ],
      "text/plain": [
       "                Change\n",
       "bin          43.045656\n",
       "counterbal   39.113052\n",
       "infant       57.401710\n",
       "lush         60.150139\n",
       "maca        233.050270\n",
       "movement    595.283559\n",
       "nutter       46.990015\n",
       "respons      76.418105\n",
       "similac      95.052418\n",
       "testi        41.439971"
      ]
     },
     "execution_count": 36,
     "metadata": {},
     "output_type": "execute_result"
    }
   ],
   "source": [
    "percent_thre.head(10)"
   ]
  },
  {
   "cell_type": "markdown",
   "metadata": {
    "colab_type": "text",
    "id": "Lh1wRmV3T1ho"
   },
   "source": [
    "#Top 10 Features pf Positive and negative"
   ]
  },
  {
   "cell_type": "code",
   "execution_count": 37,
   "metadata": {
    "colab": {},
    "colab_type": "code",
    "id": "zZL4cb_aTT_I"
   },
   "outputs": [],
   "source": [
    "feature = pd.DataFrame(data = classifier.coef_.reshape(-1,1),index = bow.get_feature_names())"
   ]
  },
  {
   "cell_type": "code",
   "execution_count": 38,
   "metadata": {
    "colab": {
     "base_uri": "https://localhost:8080/",
     "height": 340
    },
    "colab_type": "code",
    "id": "Wxj4uaDSUMTZ",
    "outputId": "617f52f1-3e47-43db-fc42-62b3a77a0d34"
   },
   "outputs": [
    {
     "data": {
      "text/html": [
       "<div>\n",
       "<style scoped>\n",
       "    .dataframe tbody tr th:only-of-type {\n",
       "        vertical-align: middle;\n",
       "    }\n",
       "\n",
       "    .dataframe tbody tr th {\n",
       "        vertical-align: top;\n",
       "    }\n",
       "\n",
       "    .dataframe thead th {\n",
       "        text-align: right;\n",
       "    }\n",
       "</style>\n",
       "<table border=\"1\" class=\"dataframe\">\n",
       "  <thead>\n",
       "    <tr style=\"text-align: right;\">\n",
       "      <th></th>\n",
       "      <th>0</th>\n",
       "    </tr>\n",
       "  </thead>\n",
       "  <tbody>\n",
       "    <tr>\n",
       "      <th>worst</th>\n",
       "      <td>-15.693879</td>\n",
       "    </tr>\n",
       "    <tr>\n",
       "      <th>aw</th>\n",
       "      <td>-11.293244</td>\n",
       "    </tr>\n",
       "    <tr>\n",
       "      <th>disappoint</th>\n",
       "      <td>-9.965812</td>\n",
       "    </tr>\n",
       "    <tr>\n",
       "      <th>terribl</th>\n",
       "      <td>-9.885591</td>\n",
       "    </tr>\n",
       "    <tr>\n",
       "      <th>unpleas</th>\n",
       "      <td>-9.540671</td>\n",
       "    </tr>\n",
       "    <tr>\n",
       "      <th>cancel</th>\n",
       "      <td>-9.191269</td>\n",
       "    </tr>\n",
       "    <tr>\n",
       "      <th>yuck</th>\n",
       "      <td>-9.037699</td>\n",
       "    </tr>\n",
       "    <tr>\n",
       "      <th>threw</th>\n",
       "      <td>-8.400702</td>\n",
       "    </tr>\n",
       "    <tr>\n",
       "      <th>bland</th>\n",
       "      <td>-8.341383</td>\n",
       "    </tr>\n",
       "    <tr>\n",
       "      <th>ruin</th>\n",
       "      <td>-8.309570</td>\n",
       "    </tr>\n",
       "  </tbody>\n",
       "</table>\n",
       "</div>"
      ],
      "text/plain": [
       "                    0\n",
       "worst      -15.693879\n",
       "aw         -11.293244\n",
       "disappoint  -9.965812\n",
       "terribl     -9.885591\n",
       "unpleas     -9.540671\n",
       "cancel      -9.191269\n",
       "yuck        -9.037699\n",
       "threw       -8.400702\n",
       "bland       -8.341383\n",
       "ruin        -8.309570"
      ]
     },
     "execution_count": 38,
     "metadata": {},
     "output_type": "execute_result"
    }
   ],
   "source": [
    "# Top Negative Features\n",
    "feature.sort_values(by = 0).head(10)"
   ]
  },
  {
   "cell_type": "code",
   "execution_count": 39,
   "metadata": {
    "colab": {
     "base_uri": "https://localhost:8080/",
     "height": 340
    },
    "colab_type": "code",
    "id": "Dk6sZCcyUXFd",
    "outputId": "a9b107bf-6eb2-4677-eb39-946191de16a4"
   },
   "outputs": [
    {
     "data": {
      "text/html": [
       "<div>\n",
       "<style scoped>\n",
       "    .dataframe tbody tr th:only-of-type {\n",
       "        vertical-align: middle;\n",
       "    }\n",
       "\n",
       "    .dataframe tbody tr th {\n",
       "        vertical-align: top;\n",
       "    }\n",
       "\n",
       "    .dataframe thead th {\n",
       "        text-align: right;\n",
       "    }\n",
       "</style>\n",
       "<table border=\"1\" class=\"dataframe\">\n",
       "  <thead>\n",
       "    <tr style=\"text-align: right;\">\n",
       "      <th></th>\n",
       "      <th>0</th>\n",
       "    </tr>\n",
       "  </thead>\n",
       "  <tbody>\n",
       "    <tr>\n",
       "      <th>delici</th>\n",
       "      <td>9.348510</td>\n",
       "    </tr>\n",
       "    <tr>\n",
       "      <th>amaz</th>\n",
       "      <td>9.223842</td>\n",
       "    </tr>\n",
       "    <tr>\n",
       "      <th>awesom</th>\n",
       "      <td>8.978313</td>\n",
       "    </tr>\n",
       "    <tr>\n",
       "      <th>excel</th>\n",
       "      <td>8.893923</td>\n",
       "    </tr>\n",
       "    <tr>\n",
       "      <th>hook</th>\n",
       "      <td>8.583592</td>\n",
       "    </tr>\n",
       "    <tr>\n",
       "      <th>perfect</th>\n",
       "      <td>8.131954</td>\n",
       "    </tr>\n",
       "    <tr>\n",
       "      <th>yummi</th>\n",
       "      <td>7.800658</td>\n",
       "    </tr>\n",
       "    <tr>\n",
       "      <th>best</th>\n",
       "      <td>7.735160</td>\n",
       "    </tr>\n",
       "    <tr>\n",
       "      <th>great</th>\n",
       "      <td>7.573929</td>\n",
       "    </tr>\n",
       "    <tr>\n",
       "      <th>worri</th>\n",
       "      <td>7.006499</td>\n",
       "    </tr>\n",
       "  </tbody>\n",
       "</table>\n",
       "</div>"
      ],
      "text/plain": [
       "                0\n",
       "delici   9.348510\n",
       "amaz     9.223842\n",
       "awesom   8.978313\n",
       "excel    8.893923\n",
       "hook     8.583592\n",
       "perfect  8.131954\n",
       "yummi    7.800658\n",
       "best     7.735160\n",
       "great    7.573929\n",
       "worri    7.006499"
      ]
     },
     "execution_count": 39,
     "metadata": {},
     "output_type": "execute_result"
    }
   ],
   "source": [
    "# Top Positive features\n",
    "\n",
    "feature.sort_values(by = 0,ascending = False).head(10)"
   ]
  },
  {
   "cell_type": "markdown",
   "metadata": {
    "colab_type": "text",
    "id": "bBWN97BnOU8c"
   },
   "source": [
    "# TFIDF"
   ]
  },
  {
   "cell_type": "code",
   "execution_count": 40,
   "metadata": {
    "colab": {
     "base_uri": "https://localhost:8080/",
     "height": 124
    },
    "colab_type": "code",
    "id": "plNGxg-TUmrA",
    "outputId": "9e727cfe-e414-4b08-e916-ebe4a1bb1c06"
   },
   "outputs": [
    {
     "name": "stdout",
     "output_type": "stream",
     "text": [
      "(44890, 727195)\n",
      "(33000, 727195)\n",
      "(22110, 727195)\n",
      "(44890,)\n",
      "(33000,)\n",
      "(22110,)\n"
     ]
    }
   ],
   "source": [
    "from sklearn.feature_extraction.text import TfidfVectorizer\n",
    "\n",
    "tfidf = TfidfVectorizer(ngram_range = (1,2))\n",
    "\n",
    "X_train_tfidf = tfidf.fit_transform(X_train)\n",
    "\n",
    "X_train_tfidf = preprocessing.normalize(X_train_tfidf)\n",
    "\n",
    "X_cv_tfidf = tfidf.transform(X_cv)\n",
    "\n",
    "X_cv_tfidf = preprocessing.normalize(X_cv_tfidf)\n",
    "\n",
    "X_test_tfidf = tfidf.transform(X_test)\n",
    "\n",
    "X_test_tfidf = preprocessing.normalize(X_test_tfidf)\n",
    "\n",
    "\n",
    "#shape of each matrix and vector\n",
    "print(X_train_tfidf.shape)\n",
    "print(X_test_tfidf.shape)\n",
    "print(X_cv_tfidf.shape)\n",
    "print(y_train.shape)\n",
    "print(y_test.shape)\n",
    "print(y_cv.shape)"
   ]
  },
  {
   "cell_type": "code",
   "execution_count": 41,
   "metadata": {
    "colab": {
     "base_uri": "https://localhost:8080/",
     "height": 337
    },
    "colab_type": "code",
    "id": "SqQc9j3ePcVp",
    "outputId": "90d0da8d-b2b0-4dad-feaa-172ddce5ac9d"
   },
   "outputs": [
    {
     "name": "stdout",
     "output_type": "stream",
     "text": [
      "Cv scores 0.5 and train Scores 0.5 alpha 1e-05 penalty l1\n",
      "Cv scores 0.6470519319127158 and train Scores 0.6600345442992089 alpha 1e-05 penalty l2\n",
      "Cv scores 0.5 and train Scores 0.5 alpha 0.0001 penalty l1\n",
      "Cv scores 0.7160405824855834 and train Scores 0.7268978999038946 alpha 0.0001 penalty l2\n",
      "Cv scores 0.5 and train Scores 0.5 alpha 0.001 penalty l1\n",
      "Cv scores 0.8953404742679008 and train Scores 0.906079028584043 alpha 0.001 penalty l2\n",
      "Cv scores 0.5 and train Scores 0.5 alpha 0.01 penalty l1\n",
      "Cv scores 0.9172630705448903 and train Scores 0.9343338480979805 alpha 0.01 penalty l2\n",
      "Cv scores 0.8629599587249164 and train Scores 0.8653093409911159 alpha 0.1 penalty l1\n",
      "Cv scores 0.9269958861653509 and train Scores 0.9495848526073188 alpha 0.1 penalty l2\n",
      "Cv scores 0.9396068355386675 and train Scores 0.9474375916101503 alpha 1 penalty l1\n",
      "Cv scores 0.946185769252651 and train Scores 0.986602067773674 alpha 1 penalty l2\n",
      "Cv scores 0.9444267283025622 and train Scores 0.9999022952757056 alpha 10 penalty l1\n",
      "Cv scores 0.9530881107297393 and train Scores 0.9999910435739894 alpha 10 penalty l2\n",
      "Cv scores 0.940029927121544 and train Scores 1.0 alpha 100 penalty l1\n",
      "Cv scores 0.953458430321071 and train Scores 1.0 alpha 100 penalty l2\n",
      "Cv scores 0.9403823075931357 and train Scores 1.0 alpha 1000 penalty l1\n",
      "Cv scores 0.9532118914189873 and train Scores 1.0 alpha 1000 penalty l2\n"
     ]
    }
   ],
   "source": [
    "import warnings\n",
    "warnings.filterwarnings(\"ignore\")\n",
    "from sklearn.linear_model import LogisticRegression\n",
    "from sklearn.metrics import roc_auc_score\n",
    "from sklearn.naive_bayes import MultinomialNB\n",
    "C = [0.00001,0.0001,0.001,0.01,0.1,1,10,100,1000]\n",
    "Penalities = ['l1','l2']\n",
    "\n",
    "cv_scores = []\n",
    "\n",
    "train_scores = []\n",
    "\n",
    "i=0\n",
    "\n",
    "for a in C:\n",
    "  for p in Penalities:\n",
    "    logReg = LogisticRegression(penalty=p, C = a)\n",
    "    logReg.fit(X_train_tfidf,y_train)\n",
    "    scores = roc_auc_score(np.array(y_cv),logReg.predict_proba(X_cv_tfidf)[:,1])\n",
    "    cv_scores.append(scores)\n",
    "    scores = roc_auc_score(np.array(y_train),logReg.predict_proba(X_train_tfidf)[:,1])\n",
    "    train_scores.append(scores)\n",
    "\n",
    "    print(\"Cv scores {} and train Scores {} alpha {} penalty {}\".format(cv_scores[i],train_scores[i],a,p))\n",
    "    i +=1"
   ]
  },
  {
   "cell_type": "code",
   "execution_count": 42,
   "metadata": {
    "colab": {
     "base_uri": "https://localhost:8080/",
     "height": 242
    },
    "colab_type": "code",
    "id": "k3OFzAQGSG-e",
    "outputId": "b756a04f-6187-4f1b-9e65-db4f708e35a2"
   },
   "outputs": [
    {
     "data": {
      "image/png": "[encoded data removed]",
      "text/plain": [
       "<Figure size 1080x216 with 1 Axes>"
      ]
     },
     "metadata": {},
     "output_type": "display_data"
    }
   ],
   "source": [
    "ticks = ['0.0001+L1', '0.0001+L2', '0.001+L1', '0.001+L2','0.01+L1', '0.01+L2', '0.1+L1', '0.1+L2', '1+L1', '1+L2', '10+L1', '10+L2', '100+L1', '100+L2','1000+L1', '1000+L2']\n",
    "plt.figure(figsize=(15,3))\n",
    "plt.plot(range(len(C)*len(Penalities)), cv_scores)\n",
    "plt.plot(range(len(C)*len(Penalities)), train_scores)\n",
    "plt.xticks(range(len(C)*len(Penalities)), ticks, rotation = 45)\n",
    "plt.legend(['cv','train'])\n",
    "plt.show()"
   ]
  },
  {
   "cell_type": "code",
   "execution_count": 43,
   "metadata": {
    "colab": {
     "base_uri": "https://localhost:8080/",
     "height": 88
    },
    "colab_type": "code",
    "id": "M8Ljl4y_TCSZ",
    "outputId": "27a43d6d-1bae-48e4-a910-cbd585dba88f"
   },
   "outputs": [
    {
     "data": {
      "text/plain": [
       "LogisticRegression(C=10, class_weight=None, dual=False, fit_intercept=True,\n",
       "          intercept_scaling=1, max_iter=100, multi_class='ovr', n_jobs=1,\n",
       "          penalty='l2', random_state=None, solver='liblinear', tol=0.0001,\n",
       "          verbose=0, warm_start=False)"
      ]
     },
     "execution_count": 43,
     "metadata": {},
     "output_type": "execute_result"
    }
   ],
   "source": [
    "logReg = LogisticRegression(penalty = 'l2',C = 10)\n",
    "logReg.fit(X_train_tfidf,y_train)"
   ]
  },
  {
   "cell_type": "code",
   "execution_count": 44,
   "metadata": {
    "colab": {},
    "colab_type": "code",
    "id": "N6x17SNaTvNK"
   },
   "outputs": [],
   "source": [
    "pred = logReg.predict(X_test_tfidf)"
   ]
  },
  {
   "cell_type": "code",
   "execution_count": 45,
   "metadata": {
    "colab": {
     "base_uri": "https://localhost:8080/",
     "height": 376
    },
    "colab_type": "code",
    "id": "2BicFnOcT2a3",
    "outputId": "7d529660-5707-493e-ac94-4e66cee80a20"
   },
   "outputs": [
    {
     "data": {
      "image/png": "[encoded data removed]",
      "text/plain": [
       "<Figure size 432x288 with 2 Axes>"
      ]
     },
     "metadata": {},
     "output_type": "display_data"
    }
   ],
   "source": [
    "plot_confusion_matrix(y_test,pred)"
   ]
  },
  {
   "cell_type": "code",
   "execution_count": 46,
   "metadata": {
    "colab": {
     "base_uri": "https://localhost:8080/",
     "height": 376
    },
    "colab_type": "code",
    "id": "e8WlZS-CUB_b",
    "outputId": "94f2c150-9110-4fc4-bba4-80b1cddd43ea"
   },
   "outputs": [
    {
     "data": {
      "image/png": "[encoded data removed]",
      "text/plain": [
       "<Figure size 432x288 with 1 Axes>"
      ]
     },
     "metadata": {},
     "output_type": "display_data"
    }
   ],
   "source": [
    "from sklearn.metrics import roc_curve,auc\n",
    "train_fpr,train_tpr,thresholds = roc_curve(y_train,logReg.predict_proba(X_train_tfidf)[:,1])\n",
    "test_fpr,test_tpr,thresholds = roc_curve(y_test,logReg.predict_proba(X_test_tfidf)[:,1])\n",
    "plt.plot(train_fpr,train_tpr,label=\"Train AUC\"+str(auc(train_fpr,train_tpr)))\n",
    "plt.plot(test_fpr,test_tpr,label=\"Test AUC\"+str(auc(test_fpr,test_tpr)))\n",
    "plt.legend()\n",
    "plt.xlabel(\"alpha\")\n",
    "plt.ylabel(\"AUC\") \n",
    "plt.title(\"ERROR PLOTS\")\n",
    "plt.show()"
   ]
  },
  {
   "cell_type": "markdown",
   "metadata": {
    "colab_type": "text",
    "id": "FAmznTiLX1XN"
   },
   "source": [
    "#Top features of positive and neagative"
   ]
  },
  {
   "cell_type": "code",
   "execution_count": 47,
   "metadata": {
    "colab": {},
    "colab_type": "code",
    "id": "0_BZc-3bXzTi"
   },
   "outputs": [],
   "source": [
    "feature = pd.DataFrame(data = logReg.coef_.reshape(-1,1),index = tfidf.get_feature_names())"
   ]
  },
  {
   "cell_type": "code",
   "execution_count": 48,
   "metadata": {
    "colab": {},
    "colab_type": "code",
    "id": "cji_SXHZYDCb"
   },
   "outputs": [],
   "source": [
    "negative = feature.sort_values(by=0)"
   ]
  },
  {
   "cell_type": "code",
   "execution_count": 49,
   "metadata": {
    "colab": {
     "base_uri": "https://localhost:8080/",
     "height": 340
    },
    "colab_type": "code",
    "id": "GLhDggulYMkn",
    "outputId": "0232b128-31f1-4d2e-dd40-2a72afecf9a0"
   },
   "outputs": [
    {
     "data": {
      "text/html": [
       "<div>\n",
       "<style scoped>\n",
       "    .dataframe tbody tr th:only-of-type {\n",
       "        vertical-align: middle;\n",
       "    }\n",
       "\n",
       "    .dataframe tbody tr th {\n",
       "        vertical-align: top;\n",
       "    }\n",
       "\n",
       "    .dataframe thead th {\n",
       "        text-align: right;\n",
       "    }\n",
       "</style>\n",
       "<table border=\"1\" class=\"dataframe\">\n",
       "  <thead>\n",
       "    <tr style=\"text-align: right;\">\n",
       "      <th></th>\n",
       "      <th>0</th>\n",
       "    </tr>\n",
       "  </thead>\n",
       "  <tbody>\n",
       "    <tr>\n",
       "      <th>disappoint</th>\n",
       "      <td>-19.222598</td>\n",
       "    </tr>\n",
       "    <tr>\n",
       "      <th>worst</th>\n",
       "      <td>-14.726808</td>\n",
       "    </tr>\n",
       "    <tr>\n",
       "      <th>terribl</th>\n",
       "      <td>-12.402615</td>\n",
       "    </tr>\n",
       "    <tr>\n",
       "      <th>aw</th>\n",
       "      <td>-11.448512</td>\n",
       "    </tr>\n",
       "    <tr>\n",
       "      <th>return</th>\n",
       "      <td>-11.422894</td>\n",
       "    </tr>\n",
       "    <tr>\n",
       "      <th>horribl</th>\n",
       "      <td>-9.616692</td>\n",
       "    </tr>\n",
       "    <tr>\n",
       "      <th>bad</th>\n",
       "      <td>-9.615161</td>\n",
       "    </tr>\n",
       "    <tr>\n",
       "      <th>bland</th>\n",
       "      <td>-9.276409</td>\n",
       "    </tr>\n",
       "    <tr>\n",
       "      <th>stale</th>\n",
       "      <td>-9.259352</td>\n",
       "    </tr>\n",
       "    <tr>\n",
       "      <th>unfortun</th>\n",
       "      <td>-9.163196</td>\n",
       "    </tr>\n",
       "  </tbody>\n",
       "</table>\n",
       "</div>"
      ],
      "text/plain": [
       "                    0\n",
       "disappoint -19.222598\n",
       "worst      -14.726808\n",
       "terribl    -12.402615\n",
       "aw         -11.448512\n",
       "return     -11.422894\n",
       "horribl     -9.616692\n",
       "bad         -9.615161\n",
       "bland       -9.276409\n",
       "stale       -9.259352\n",
       "unfortun    -9.163196"
      ]
     },
     "execution_count": 49,
     "metadata": {},
     "output_type": "execute_result"
    }
   ],
   "source": [
    "negative[:10]"
   ]
  },
  {
   "cell_type": "code",
   "execution_count": 50,
   "metadata": {
    "colab": {},
    "colab_type": "code",
    "id": "-450WBqEYTVp"
   },
   "outputs": [],
   "source": [
    "positive = feature.sort_values(by = 0,ascending = False)"
   ]
  },
  {
   "cell_type": "code",
   "execution_count": 51,
   "metadata": {
    "colab": {
     "base_uri": "https://localhost:8080/",
     "height": 340
    },
    "colab_type": "code",
    "id": "gb7EFctDYgAU",
    "outputId": "c549cbdb-49e3-499e-91b1-4310937da1da"
   },
   "outputs": [
    {
     "data": {
      "text/html": [
       "<div>\n",
       "<style scoped>\n",
       "    .dataframe tbody tr th:only-of-type {\n",
       "        vertical-align: middle;\n",
       "    }\n",
       "\n",
       "    .dataframe tbody tr th {\n",
       "        vertical-align: top;\n",
       "    }\n",
       "\n",
       "    .dataframe thead th {\n",
       "        text-align: right;\n",
       "    }\n",
       "</style>\n",
       "<table border=\"1\" class=\"dataframe\">\n",
       "  <thead>\n",
       "    <tr style=\"text-align: right;\">\n",
       "      <th></th>\n",
       "      <th>0</th>\n",
       "    </tr>\n",
       "  </thead>\n",
       "  <tbody>\n",
       "    <tr>\n",
       "      <th>great</th>\n",
       "      <td>20.030354</td>\n",
       "    </tr>\n",
       "    <tr>\n",
       "      <th>best</th>\n",
       "      <td>16.147755</td>\n",
       "    </tr>\n",
       "    <tr>\n",
       "      <th>delici</th>\n",
       "      <td>15.563816</td>\n",
       "    </tr>\n",
       "    <tr>\n",
       "      <th>love</th>\n",
       "      <td>14.639902</td>\n",
       "    </tr>\n",
       "    <tr>\n",
       "      <th>perfect</th>\n",
       "      <td>13.285883</td>\n",
       "    </tr>\n",
       "    <tr>\n",
       "      <th>excel</th>\n",
       "      <td>12.188550</td>\n",
       "    </tr>\n",
       "    <tr>\n",
       "      <th>good</th>\n",
       "      <td>11.716676</td>\n",
       "    </tr>\n",
       "    <tr>\n",
       "      <th>nice</th>\n",
       "      <td>10.680846</td>\n",
       "    </tr>\n",
       "    <tr>\n",
       "      <th>amaz</th>\n",
       "      <td>10.426712</td>\n",
       "    </tr>\n",
       "    <tr>\n",
       "      <th>high recommend</th>\n",
       "      <td>9.343067</td>\n",
       "    </tr>\n",
       "  </tbody>\n",
       "</table>\n",
       "</div>"
      ],
      "text/plain": [
       "                        0\n",
       "great           20.030354\n",
       "best            16.147755\n",
       "delici          15.563816\n",
       "love            14.639902\n",
       "perfect         13.285883\n",
       "excel           12.188550\n",
       "good            11.716676\n",
       "nice            10.680846\n",
       "amaz            10.426712\n",
       "high recommend   9.343067"
      ]
     },
     "execution_count": 51,
     "metadata": {},
     "output_type": "execute_result"
    }
   ],
   "source": [
    "positive[:10]"
   ]
  },
  {
   "cell_type": "markdown",
   "metadata": {
    "colab_type": "text",
    "id": "KZ6SHWGIVkrK"
   },
   "source": [
    "#Word2vec"
   ]
  },
  {
   "cell_type": "code",
   "execution_count": 28,
   "metadata": {
    "colab": {},
    "colab_type": "code",
    "id": "0RXjiWioUNqF"
   },
   "outputs": [],
   "source": [
    "# train our word2vec model with our text corpus\n",
    "\n",
    "list_of_sent = []\n",
    "list_of_sent_cv = []\n",
    "list_of_sent_test = []\n",
    "\n",
    "for sent in X_train:\n",
    "    list_of_sent.append(sent.split())\n",
    "for sent_cv in X_cv:\n",
    "    list_of_sent_cv.append(sent_cv.split())\n",
    "for sent_test in X_test:\n",
    "    list_of_sent_test.append(sent_test.split())  \n",
    "  \n",
    "  "
   ]
  },
  {
   "cell_type": "code",
   "execution_count": 15,
   "metadata": {
    "colab": {},
    "colab_type": "code",
    "id": "TTaCqrDMZujH"
   },
   "outputs": [
    {
     "name": "stderr",
     "output_type": "stream",
     "text": [
      "D:\\Anaconda\\lib\\site-packages\\gensim\\utils.py:1209: UserWarning: detected Windows; aliasing chunkize to chunkize_serial\n",
      "  warnings.warn(\"detected Windows; aliasing chunkize to chunkize_serial\")\n"
     ]
    }
   ],
   "source": [
    "from gensim.models import Word2Vec\n",
    "from gensim.models import KeyedVectors"
   ]
  },
  {
   "cell_type": "code",
   "execution_count": 16,
   "metadata": {
    "colab": {
     "base_uri": "https://localhost:8080/",
     "height": 90
    },
    "colab_type": "code",
    "id": "oO3FKI4VZwh6",
    "outputId": "ad7808a8-e66a-4893-8659-64fb24a6c891"
   },
   "outputs": [
    {
     "name": "stdout",
     "output_type": "stream",
     "text": [
      "[('incred', 0.6251572370529175), ('fast', 0.624275803565979), ('tasti', 0.5924654006958008), ('downsid', 0.5806550979614258), ('soooo', 0.5756210088729858), ('saver', 0.5722575783729553), ('nutriti', 0.5568251609802246), ('quick', 0.5523755550384521), ('especi', 0.5434298515319824), ('easi', 0.5401326417922974)]\n"
     ]
    },
    {
     "name": "stderr",
     "output_type": "stream",
     "text": [
      "D:\\Anaconda\\lib\\site-packages\\gensim\\matutils.py:737: FutureWarning: Conversion of the second argument of issubdtype from `int` to `np.signedinteger` is deprecated. In future, it will be treated as `np.int32 == np.dtype(int).type`.\n",
      "  if np.issubdtype(vec.dtype, np.int):\n"
     ]
    }
   ],
   "source": [
    "#Check the example how word2vec will get similar words\n",
    "\n",
    "word2vec = Word2Vec(list_of_sent,min_count = 5,size = 50,workers = 4)#here mincount consider the 5 times occured words\n",
    "\n",
    "print(word2vec.wv.most_similar('super'))"
   ]
  },
  {
   "cell_type": "markdown",
   "metadata": {
    "colab_type": "text",
    "id": "nIwQxZzyaoRd"
   },
   "source": [
    "# Average word2vec"
   ]
  },
  {
   "cell_type": "code",
   "execution_count": 56,
   "metadata": {
    "colab": {
     "base_uri": "https://localhost:8080/",
     "height": 70
    },
    "colab_type": "code",
    "id": "rDVymn43ZyuF",
    "outputId": "e73f5ae5-c7f7-4437-be99-f9276ad5ab67"
   },
   "outputs": [
    {
     "name": "stderr",
     "output_type": "stream",
     "text": [
      "100%|███████████████████████████████████████████████████████████████████████████| 44890/44890 [09:53<00:00, 107.42it/s]\n"
     ]
    },
    {
     "name": "stdout",
     "output_type": "stream",
     "text": [
      "44890\n",
      "50\n"
     ]
    }
   ],
   "source": [
    "from tqdm import tqdm\n",
    "# average Word2Vec\n",
    "# compute average word2vec for each review.\n",
    "sent_vectors = []; \n",
    "for sent in tqdm(list_of_sent):\n",
    "    sent_vec = np.zeros(50)\n",
    "    cnt_words =0;\n",
    "    for word in sent:\n",
    "        if word in list(word2vec.wv.vocab):\n",
    "            vec = word2vec.wv[word]\n",
    "            sent_vec += vec\n",
    "            cnt_words += 1\n",
    "    if cnt_words != 0:\n",
    "        sent_vec /= cnt_words\n",
    "    sent_vectors.append(sent_vec)\n",
    "print(len(sent_vectors))\n",
    "print(len(sent_vectors[0]))"
   ]
  },
  {
   "cell_type": "code",
   "execution_count": 57,
   "metadata": {
    "colab": {
     "base_uri": "https://localhost:8080/",
     "height": 70
    },
    "colab_type": "code",
    "id": "dYmHJSv3arlr",
    "outputId": "896bb948-ea91-4435-e27b-14123bc7b44f"
   },
   "outputs": [
    {
     "name": "stderr",
     "output_type": "stream",
     "text": [
      "100%|████████████████████████████████████████████████████████████████████████████| 22110/22110 [03:46<00:00, 97.49it/s]\n"
     ]
    },
    {
     "name": "stdout",
     "output_type": "stream",
     "text": [
      "22110\n",
      "50\n"
     ]
    }
   ],
   "source": [
    "from tqdm import tqdm\n",
    "# average Word2Vec\n",
    "# compute average word2vec for each review.\n",
    "sent_vectors_cv = []; \n",
    "for sent in tqdm(list_of_sent_cv):\n",
    "    sent_vec = np.zeros(50)\n",
    "    cnt_words =0;\n",
    "    for word in sent:\n",
    "        if word in list(word2vec.wv.vocab):\n",
    "            vec = word2vec.wv[word]\n",
    "            sent_vec += vec\n",
    "            cnt_words += 1\n",
    "    if cnt_words != 0:\n",
    "        sent_vec /= cnt_words\n",
    "    sent_vectors_cv.append(sent_vec)\n",
    "print(len(sent_vectors_cv))\n",
    "print(len(sent_vectors_cv[0]))"
   ]
  },
  {
   "cell_type": "code",
   "execution_count": 58,
   "metadata": {
    "colab": {
     "base_uri": "https://localhost:8080/",
     "height": 337
    },
    "colab_type": "code",
    "id": "65gAfFd0b9lj",
    "outputId": "0702fd36-79d9-4324-baf6-408982b16542"
   },
   "outputs": [
    {
     "name": "stdout",
     "output_type": "stream",
     "text": [
      "Cv scores 0.5 and train Scores 0.5 alpha 1e-05 penalty l1\n",
      "Cv scores 0.6721057782675355 and train Scores 0.6779090690996119 alpha 1e-05 penalty l2\n",
      "Cv scores 0.5 and train Scores 0.5 alpha 0.0001 penalty l1\n",
      "Cv scores 0.7970514649309514 and train Scores 0.7995989183717347 alpha 0.0001 penalty l2\n",
      "Cv scores 0.7843624258292559 and train Scores 0.7786002558021158 alpha 0.001 penalty l1\n",
      "Cv scores 0.8865972174235354 and train Scores 0.8854036094818211 alpha 0.001 penalty l2\n",
      "Cv scores 0.8933045711227267 and train Scores 0.8915195881116662 alpha 0.01 penalty l1\n",
      "Cv scores 0.8976568869493919 and train Scores 0.8959586962424098 alpha 0.01 penalty l2\n",
      "Cv scores 0.8987649309025701 and train Scores 0.8971708400911158 alpha 0.1 penalty l1\n",
      "Cv scores 0.8989603612448842 and train Scores 0.8973655485020827 alpha 0.1 penalty l2\n",
      "Cv scores 0.8989097105103739 and train Scores 0.8975293997652674 alpha 1 penalty l1\n",
      "Cv scores 0.898907299297342 and train Scores 0.8975438802145059 alpha 1 penalty l2\n",
      "Cv scores 0.8988769454826564 and train Scores 0.8975515418278599 alpha 10 penalty l1\n",
      "Cv scores 0.898854100002222 and train Scores 0.8975561234726455 alpha 10 penalty l2\n",
      "Cv scores 0.8988694829309314 and train Scores 0.8975523501280687 alpha 100 penalty l1\n",
      "Cv scores 0.8988476446660671 and train Scores 0.8975567823713938 alpha 100 penalty l2\n",
      "Cv scores 0.8988703375380819 and train Scores 0.8975522313730616 alpha 1000 penalty l1\n",
      "Cv scores 0.8988469884498623 and train Scores 0.8975568091870405 alpha 1000 penalty l2\n"
     ]
    }
   ],
   "source": [
    "import warnings\n",
    "warnings.filterwarnings(\"ignore\")\n",
    "from sklearn.linear_model import LogisticRegression\n",
    "from sklearn.metrics import roc_auc_score\n",
    "from sklearn.naive_bayes import MultinomialNB\n",
    "C = [0.00001,0.0001,0.001,0.01,0.1,1,10,100,1000]\n",
    "Penalities = ['l1','l2']\n",
    "\n",
    "cv_scores = []\n",
    "\n",
    "train_scores = []\n",
    "\n",
    "i=0\n",
    "\n",
    "for a in C:\n",
    "  for p in Penalities:\n",
    "    logReg = LogisticRegression(penalty=p, C = a)\n",
    "    logReg.fit(sent_vectors,y_train)\n",
    "    scores = roc_auc_score(np.array(y_cv),logReg.predict_proba(sent_vectors_cv)[:,1])\n",
    "    cv_scores.append(scores)\n",
    "    scores = roc_auc_score(np.array(y_train),logReg.predict_proba(sent_vectors)[:,1])\n",
    "    train_scores.append(scores)\n",
    "\n",
    "    print(\"Cv scores {} and train Scores {} alpha {} penalty {}\".format(cv_scores[i],train_scores[i],a,p))\n",
    "    i +=1"
   ]
  },
  {
   "cell_type": "code",
   "execution_count": 59,
   "metadata": {
    "colab": {
     "base_uri": "https://localhost:8080/",
     "height": 242
    },
    "colab_type": "code",
    "id": "cSRSAIJCGFsu",
    "outputId": "98d61e8d-4bda-4d34-cf35-758344954bbb"
   },
   "outputs": [
    {
     "data": {
      "image/png": "[encoded data removed]",
      "text/plain": [
       "<Figure size 1080x216 with 1 Axes>"
      ]
     },
     "metadata": {},
     "output_type": "display_data"
    }
   ],
   "source": [
    "ticks = ['0.0001+L1', '0.0001+L2', '0.001+L1', '0.001+L2','0.01+L1', '0.01+L2', '0.1+L1', '0.1+L2', '1+L1', '1+L2', '10+L1', '10+L2', '100+L1', '100+L2','1000+L1', '1000+L2']\n",
    "plt.figure(figsize=(15,3))\n",
    "plt.plot(range(len(C)*len(Penalities)), cv_scores)\n",
    "plt.plot(range(len(C)*len(Penalities)), train_scores)\n",
    "plt.xticks(range(len(C)*len(Penalities)), ticks, rotation = 45)\n",
    "plt.legend(['cv','train'])\n",
    "plt.show()"
   ]
  },
  {
   "cell_type": "code",
   "execution_count": 60,
   "metadata": {
    "colab": {
     "base_uri": "https://localhost:8080/",
     "height": 88
    },
    "colab_type": "code",
    "id": "dx_EBKzSG74m",
    "outputId": "b67a3d65-ea1e-4fc4-df8b-f83ab200d4a9"
   },
   "outputs": [
    {
     "data": {
      "text/plain": [
       "LogisticRegression(C=10, class_weight=None, dual=False, fit_intercept=True,\n",
       "          intercept_scaling=1, max_iter=100, multi_class='ovr', n_jobs=1,\n",
       "          penalty='l1', random_state=None, solver='liblinear', tol=0.0001,\n",
       "          verbose=0, warm_start=False)"
      ]
     },
     "execution_count": 60,
     "metadata": {},
     "output_type": "execute_result"
    }
   ],
   "source": [
    "logReg = LogisticRegression(C = 10,penalty = 'l1')\n",
    "logReg.fit(sent_vectors,y_train)"
   ]
  },
  {
   "cell_type": "code",
   "execution_count": 61,
   "metadata": {
    "colab": {},
    "colab_type": "code",
    "id": "DFFuzEETH-V2"
   },
   "outputs": [],
   "source": [
    "list_of_sent_test = []\n",
    "\n",
    "for sent in X_test:\n",
    "  list_of_sent_test.append(sent.split())"
   ]
  },
  {
   "cell_type": "code",
   "execution_count": 62,
   "metadata": {
    "colab": {
     "base_uri": "https://localhost:8080/",
     "height": 70
    },
    "colab_type": "code",
    "id": "wmm-tOo5I0Af",
    "outputId": "6c7c8e52-1505-4495-f5f1-19e6de3770a6"
   },
   "outputs": [
    {
     "name": "stderr",
     "output_type": "stream",
     "text": [
      "100%|████████████████████████████████████████████████████████████████████████████| 33000/33000 [05:49<00:00, 94.30it/s]\n"
     ]
    },
    {
     "name": "stdout",
     "output_type": "stream",
     "text": [
      "33000\n",
      "50\n"
     ]
    }
   ],
   "source": [
    "from tqdm import tqdm\n",
    "# average Word2Vec\n",
    "# compute average word2vec for each review.\n",
    "sent_vectors_test = []; \n",
    "for sent in tqdm(list_of_sent_test):\n",
    "    sent_vec = np.zeros(50)\n",
    "    cnt_words =0;\n",
    "    for word in sent:\n",
    "        if word in list(word2vec.wv.vocab):\n",
    "            vec = word2vec.wv[word]\n",
    "            sent_vec += vec\n",
    "            cnt_words += 1\n",
    "    if cnt_words != 0:\n",
    "        sent_vec /= cnt_words\n",
    "    sent_vectors_test.append(sent_vec)\n",
    "print(len(sent_vectors_test))\n",
    "print(len(sent_vectors_test[0]))"
   ]
  },
  {
   "cell_type": "code",
   "execution_count": 63,
   "metadata": {
    "colab": {},
    "colab_type": "code",
    "id": "LlfSUAESK43z"
   },
   "outputs": [],
   "source": [
    "pred = logReg.predict(sent_vectors_test)"
   ]
  },
  {
   "cell_type": "code",
   "execution_count": 64,
   "metadata": {
    "colab": {
     "base_uri": "https://localhost:8080/",
     "height": 376
    },
    "colab_type": "code",
    "id": "BTZ2EsWcI6Z6",
    "outputId": "aa59b5ef-251e-4aa7-ffcc-f5a2877aad24"
   },
   "outputs": [
    {
     "data": {
      "image/png": "[encoded data removed]",
      "text/plain": [
       "<Figure size 432x288 with 2 Axes>"
      ]
     },
     "metadata": {},
     "output_type": "display_data"
    }
   ],
   "source": [
    "plot_confusion_matrix (y_test,pred)"
   ]
  },
  {
   "cell_type": "code",
   "execution_count": 65,
   "metadata": {
    "colab": {
     "base_uri": "https://localhost:8080/",
     "height": 376
    },
    "colab_type": "code",
    "id": "wFytuTGzJxI5",
    "outputId": "f38c52e7-e418-45fb-ea87-09891de73127"
   },
   "outputs": [
    {
     "data": {
      "image/png": "[encoded data removed]",
      "text/plain": [
       "<Figure size 432x288 with 1 Axes>"
      ]
     },
     "metadata": {},
     "output_type": "display_data"
    }
   ],
   "source": [
    "from sklearn.metrics import roc_curve,auc\n",
    "train_fpr,train_tpr,thresholds = roc_curve(y_train,logReg.predict_proba(sent_vectors)[:,1])\n",
    "test_fpr,test_tpr,thresholds = roc_curve(y_test,logReg.predict_proba(sent_vectors_test)[:,1])\n",
    "plt.plot(train_fpr,train_tpr,label=\"Train AUC\"+str(auc(train_fpr,train_tpr)))\n",
    "plt.plot(test_fpr,test_tpr,label=\"Test AUC\"+str(auc(test_fpr,test_tpr)))\n",
    "plt.legend()\n",
    "plt.xlabel(\"alpha\")\n",
    "plt.ylabel(\"AUC\") \n",
    "plt.title(\"ERROR PLOTS\")\n",
    "plt.show()"
   ]
  },
  {
   "cell_type": "markdown",
   "metadata": {
    "colab_type": "text",
    "id": "lAvxCrAzRSAx"
   },
   "source": [
    "#TDIDF Word2Vec"
   ]
  },
  {
   "cell_type": "code",
   "execution_count": 18,
   "metadata": {
    "colab": {},
    "colab_type": "code",
    "id": "GzA2dQf_RARF"
   },
   "outputs": [],
   "source": [
    "# S = [\"abc def pqr\", \"def def def abc\", \"pqr pqr def\"]\n",
    "from sklearn.feature_extraction.text import TfidfVectorizer\n",
    "train_classifier = TfidfVectorizer(ngram_range = (1,2))\n",
    "tf_idf_matrix_train = train_classifier.fit_transform(X_train)\n",
    "# we are converting a dictionary with word as a key, and the idf as a value\n",
    "dictionary = dict(zip(train_classifier.get_feature_names(), list(train_classifier.idf_)))"
   ]
  },
  {
   "cell_type": "code",
   "execution_count": 19,
   "metadata": {
    "colab": {
     "base_uri": "https://localhost:8080/",
     "height": 195
    },
    "colab_type": "code",
    "id": "U38Y9zFJRp6X",
    "outputId": "f924df2c-8e32-4cdd-95a7-0cecd44f6a69"
   },
   "outputs": [
    {
     "name": "stderr",
     "output_type": "stream",
     "text": [
      "IOPub data rate exceeded.\n",
      "The notebook server will temporarily stop sending output\n",
      "to the client in order to avoid crashing it.\n",
      "To change this limit, set the config variable\n",
      "`--NotebookApp.iopub_data_rate_limit`.\n",
      "\n",
      "Current values:\n",
      "NotebookApp.iopub_data_rate_limit=1000000.0 (bytes/sec)\n",
      "NotebookApp.rate_limit_window=3.0 (secs)\n",
      "\n"
     ]
    }
   ],
   "source": [
    "# TF-IDF weighted Word2Vec\n",
    "tfidf_feat_train = train_classifier.get_feature_names() # tfidf words/col-names\n",
    "\n",
    "print(\"Printing Feature Names {}\".format(tfidf_feat_train))"
   ]
  },
  {
   "cell_type": "code",
   "execution_count": 20,
   "metadata": {
    "colab": {
     "base_uri": "https://localhost:8080/",
     "height": 239
    },
    "colab_type": "code",
    "id": "Yn8Q-I1QiHsu",
    "outputId": "fb92ce44-a2bc-4cfd-b366-aed67d0806e1"
   },
   "outputs": [
    {
     "name": "stderr",
     "output_type": "stream",
     "text": [
      "100%|█████████████████████████████████████████████████████████████████████████| 44890/44890 [57:22:53<00:00,  1.11it/s]\n"
     ]
    }
   ],
   "source": [
    "from tqdm import tqdm\n",
    "tfidf_sent_vectors = []; # the tfidf-w2v for each sentence/review is stored in this list\n",
    "row=0;\n",
    "for sent in tqdm(list_of_sent): # for each review/sentence \n",
    "    sent_vec = np.zeros(50) # as word vectors are of zero length\n",
    "    weight_sum =0; # num of words with a valid vector in the sentence/review\n",
    "    for word in sent: # for each word in a review/sentence\n",
    "        if word in list(word2vec.wv.vocab) and word in tfidf_feat_train:\n",
    "            vec = word2vec.wv[word]\n",
    "#             tf_idf = tf_idf_matrix[row, tfidf_feat.index(word)]\n",
    "            # to reduce the computation we are \n",
    "            # dictionary[word] = idf value of word in whole courpus\n",
    "            # sent.count(word) = tf valeus of word in this review\n",
    "            tf_idf = dictionary[word]*(sent.count(word)/len(sent))\n",
    "            sent_vec += (vec * tf_idf)\n",
    "            weight_sum += tf_idf\n",
    "    if weight_sum != 0:\n",
    "        sent_vec /= weight_sum\n",
    "    tfidf_sent_vectors.append(sent_vec)\n",
    "    row += 1"
   ]
  },
  {
   "cell_type": "code",
   "execution_count": 21,
   "metadata": {},
   "outputs": [
    {
     "name": "stderr",
     "output_type": "stream",
     "text": [
      "100%|██████████████████████████████████████████████████████████████████████████| 22110/22110 [8:07:33<00:00,  1.11it/s]\n"
     ]
    }
   ],
   "source": [
    "from tqdm import tqdm\n",
    "tfidf_sent_vectors_cv = []; # the tfidf-w2v for each sentence/review is stored in this list\n",
    "row=0;\n",
    "for sent in tqdm(list_of_sent_cv): # for each review/sentence \n",
    "    sent_vec = np.zeros(50) # as word vectors are of zero length\n",
    "    weight_sum =0; # num of words with a valid vector in the sentence/review\n",
    "    for word in sent: # for each word in a review/sentence\n",
    "        if word in list(word2vec.wv.vocab) and word in tfidf_feat_train:\n",
    "            vec = word2vec.wv[word]\n",
    "#             tf_idf = tf_idf_matrix[row, tfidf_feat.index(word)]\n",
    "            # to reduce the computation we are \n",
    "            # dictionary[word] = idf value of word in whole courpus\n",
    "            # sent.count(word) = tf valeus of word in this review\n",
    "            tf_idf = dictionary[word]*(sent.count(word)/len(sent))\n",
    "            sent_vec += (vec * tf_idf)\n",
    "            weight_sum += tf_idf\n",
    "    if weight_sum != 0:\n",
    "        sent_vec /= weight_sum\n",
    "    tfidf_sent_vectors_cv.append(sent_vec)\n",
    "    row += 1"
   ]
  },
  {
   "cell_type": "code",
   "execution_count": 23,
   "metadata": {
    "colab": {},
    "colab_type": "code",
    "id": "ceBnnLu8UiHA"
   },
   "outputs": [
    {
     "name": "stdout",
     "output_type": "stream",
     "text": [
      "Cv scores 0.5 and train Scores 0.5 alpha 1e-05 penalty l1\n",
      "Cv scores 0.6612088518340591 and train Scores 0.6646922859845585 alpha 1e-05 penalty l2\n",
      "Cv scores 0.5 and train Scores 0.5 alpha 0.0001 penalty l1\n",
      "Cv scores 0.7729149994576082 and train Scores 0.7777449403435579 alpha 0.0001 penalty l2\n",
      "Cv scores 0.7880861008228859 and train Scores 0.7951269051392278 alpha 0.001 penalty l1\n",
      "Cv scores 0.8585082676006137 and train Scores 0.8645070546092086 alpha 0.001 penalty l2\n",
      "Cv scores 0.8671545196733252 and train Scores 0.873040015355504 alpha 0.01 penalty l1\n",
      "Cv scores 0.8711286243394443 and train Scores 0.8768705993488342 alpha 0.01 penalty l2\n",
      "Cv scores 0.8727208541895892 and train Scores 0.8784513919078544 alpha 0.1 penalty l1\n",
      "Cv scores 0.8728473864464039 and train Scores 0.8785143815203021 alpha 0.1 penalty l2\n",
      "Cv scores 0.8729541911388679 and train Scores 0.8785631216325512 alpha 1 penalty l1\n",
      "Cv scores 0.8729620635683182 and train Scores 0.878559407667074 alpha 1 penalty l2\n",
      "Cv scores 0.8729624509910273 and train Scores 0.8785567131472225 alpha 10 penalty l1\n",
      "Cv scores 0.8729630708673621 and train Scores 0.8785511080911602 alpha 10 penalty l2\n",
      "Cv scores 0.872964465589115 and train Scores 0.8785562621657004 alpha 100 penalty l1\n",
      "Cv scores 0.8729645275767485 and train Scores 0.8785510436652286 alpha 100 penalty l2\n",
      "Cv scores 0.8729643261169395 and train Scores 0.878556156052401 alpha 1000 penalty l1\n",
      "Cv scores 0.8729640626694974 and train Scores 0.878551013347143 alpha 1000 penalty l2\n"
     ]
    }
   ],
   "source": [
    "import warnings\n",
    "warnings.filterwarnings(\"ignore\")\n",
    "from sklearn.linear_model import LogisticRegression\n",
    "from sklearn.metrics import roc_auc_score\n",
    "from sklearn.naive_bayes import MultinomialNB\n",
    "C = [0.00001,0.0001,0.001,0.01,0.1,1,10,100,1000]\n",
    "Penalities = ['l1','l2']\n",
    "\n",
    "cv_scores = []\n",
    "\n",
    "train_scores = []\n",
    "\n",
    "i=0\n",
    "\n",
    "for a in C:\n",
    "  for p in Penalities:\n",
    "    logReg = LogisticRegression(penalty=p, C = a)\n",
    "    logReg.fit(tfidf_sent_vectors,y_train)\n",
    "    scores = roc_auc_score(np.array(y_cv),logReg.predict_proba(tfidf_sent_vectors_cv)[:,1])\n",
    "    cv_scores.append(scores)\n",
    "    scores = roc_auc_score(np.array(y_train),logReg.predict_proba(tfidf_sent_vectors)[:,1])\n",
    "    train_scores.append(scores)\n",
    "\n",
    "    print(\"Cv scores {} and train Scores {} alpha {} penalty {}\".format(cv_scores[i],train_scores[i],a,p))\n",
    "    i +=1"
   ]
  },
  {
   "cell_type": "code",
   "execution_count": 24,
   "metadata": {
    "colab": {},
    "colab_type": "code",
    "id": "Q-EbohchUzUs"
   },
   "outputs": [
    {
     "data": {
      "image/png": "[encoded data removed]",
      "text/plain": [
       "<Figure size 1080x216 with 1 Axes>"
      ]
     },
     "metadata": {},
     "output_type": "display_data"
    }
   ],
   "source": [
    "ticks = ['0.0001+L1', '0.0001+L2', '0.001+L1', '0.001+L2','0.01+L1', '0.01+L2', '0.1+L1', '0.1+L2', '1+L1', '1+L2', '10+L1', '10+L2', '100+L1', '100+L2','1000+L1', '1000+L2']\n",
    "plt.figure(figsize=(15,3))\n",
    "plt.plot(range(len(C)*len(Penalities)), cv_scores)\n",
    "plt.plot(range(len(C)*len(Penalities)), train_scores)\n",
    "plt.xticks(range(len(C)*len(Penalities)), ticks, rotation = 45)\n",
    "plt.legend(['cv','train'])\n",
    "plt.show()"
   ]
  },
  {
   "cell_type": "code",
   "execution_count": 26,
   "metadata": {
    "colab": {},
    "colab_type": "code",
    "id": "A_7iZRLFU5u3"
   },
   "outputs": [
    {
     "data": {
      "text/plain": [
       "LogisticRegression(C=100, class_weight=None, dual=False, fit_intercept=True,\n",
       "          intercept_scaling=1, max_iter=100, multi_class='ovr', n_jobs=1,\n",
       "          penalty='l2', random_state=None, solver='liblinear', tol=0.0001,\n",
       "          verbose=0, warm_start=False)"
      ]
     },
     "execution_count": 26,
     "metadata": {},
     "output_type": "execute_result"
    }
   ],
   "source": [
    "logReg = LogisticRegression(penalty = 'l2',C = 100 )\n",
    "logReg.fit(tfidf_sent_vectors,y_train)"
   ]
  },
  {
   "cell_type": "code",
   "execution_count": null,
   "metadata": {
    "colab": {},
    "colab_type": "code",
    "id": "KCpz2z_-VNn6"
   },
   "outputs": [
    {
     "name": "stderr",
     "output_type": "stream",
     "text": [
      " 27%|█████████████████▊                                                 | 8770/33000 [5:12:35<21818:47:35, 3241.75s/it]"
     ]
    }
   ],
   "source": [
    "from tqdm import tqdm\n",
    "tfidf_sent_vectors_test = []; # the tfidf-w2v for each sentence/review is stored in this list\n",
    "row=0;\n",
    "for sent in tqdm(list_of_sent_test): # for each review/sentence \n",
    "    sent_vec = np.zeros(50) # as word vectors are of zero length\n",
    "    weight_sum =0; # num of words with a valid vector in the sentence/review\n",
    "    for word in sent: # for each word in a review/sentence\n",
    "        if word in list(word2vec.wv.vocab) and word in tfidf_feat_train:\n",
    "            vec = word2vec.wv[word]\n",
    "#             tf_idf = tf_idf_matrix[row, tfidf_feat.index(word)]\n",
    "            # to reduce the computation we are \n",
    "            # dictionary[word] = idf value of word in whole courpus\n",
    "            # sent.count(word) = tf valeus of word in this review\n",
    "            tf_idf = dictionary[word]*(sent.count(word)/len(sent))\n",
    "            sent_vec += (vec * tf_idf)\n",
    "            weight_sum += tf_idf\n",
    "    if weight_sum != 0:\n",
    "        sent_vec /= weight_sum\n",
    "    tfidf_sent_vectors_test.append(sent_vec)\n",
    "    row += 1"
   ]
  },
  {
   "cell_type": "code",
   "execution_count": null,
   "metadata": {
    "colab": {},
    "colab_type": "code",
    "id": "rwTtdPO5VXRo"
   },
   "outputs": [],
   "source": [
    "pred = logReg.predict(tfidf_sent_vectors_test)"
   ]
  },
  {
   "cell_type": "code",
   "execution_count": null,
   "metadata": {
    "colab": {},
    "colab_type": "code",
    "id": "4M-AFaTtVszY"
   },
   "outputs": [],
   "source": [
    "plot_confusion_matrix(y_test,pred)"
   ]
  },
  {
   "cell_type": "code",
   "execution_count": null,
   "metadata": {
    "colab": {},
    "colab_type": "code",
    "id": "zrn4uqZeVxqk"
   },
   "outputs": [],
   "source": [
    "from sklearn.metrics import roc_curve,auc\n",
    "train_fpr,train_tpr,thresholds = roc_curve(y_train,logReg.predict_proba(sent_vectors)[:,1])\n",
    "test_fpr,test_tpr,thresholds = roc_curve(y_test,logReg.predict_proba(sent_vectors_test)[:,1])\n",
    "plt.plot(train_fpr,train_tpr,label=\"Train AUC\"+str(auc(train_fpr,train_tpr)))\n",
    "plt.plot(test_fpr,test_tpr,label=\"Test AUC\"+str(auc(test_fpr,test_tpr)))\n",
    "plt.legend()\n",
    "plt.xlabel(\"alpha\")\n",
    "plt.ylabel(\"AUC\") \n",
    "plt.title(\"ERROR PLOTS\")\n",
    "plt.show()"
   ]
  },
  {
   "cell_type": "code",
   "execution_count": null,
   "metadata": {},
   "outputs": [],
   "source": []
  }
 ],
 "metadata": {
  "colab": {
   "collapsed_sections": [],
   "name": "Logistic_regression_Amazon_food_reviews.ipynb",
   "provenance": [],
   "version": "0.3.2"
  },
  "kernelspec": {
   "display_name": "Python 3",
   "language": "python",
   "name": "python3"
  },
  "language_info": {
   "codemirror_mode": {
    "name": "ipython",
    "version": 3
   },
   "file_extension": ".py",
   "mimetype": "text/x-python",
   "name": "python",
   "nbconvert_exporter": "python",
   "pygments_lexer": "ipython3",
   "version": "3.6.5"
  }
 },
 "nbformat": 4,
 "nbformat_minor": 1
}
