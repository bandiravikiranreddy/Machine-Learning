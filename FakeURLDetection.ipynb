{
 "cells": [
  {
   "cell_type": "code",
   "execution_count": 21,
   "metadata": {},
   "outputs": [],
   "source": [
    "#fake url detection\n",
    "import pandas as pd\n",
    "import numpy as np\n",
    "import seaborn as sn\n",
    "import matplotlib.pyplot as plt\n",
    "from sklearn.neighbors import KNeighborsClassifier\n",
    "from sklearn.naive_bayes import GaussianNB"
   ]
  },
  {
   "cell_type": "code",
   "execution_count": 22,
   "metadata": {},
   "outputs": [
    {
     "data": {
      "text/html": [
       "<div>\n",
       "<style scoped>\n",
       "    .dataframe tbody tr th:only-of-type {\n",
       "        vertical-align: middle;\n",
       "    }\n",
       "\n",
       "    .dataframe tbody tr th {\n",
       "        vertical-align: top;\n",
       "    }\n",
       "\n",
       "    .dataframe thead th {\n",
       "        text-align: right;\n",
       "    }\n",
       "</style>\n",
       "<table border=\"1\" class=\"dataframe\">\n",
       "  <thead>\n",
       "    <tr style=\"text-align: right;\">\n",
       "      <th></th>\n",
       "      <th>url</th>\n",
       "      <th>label</th>\n",
       "    </tr>\n",
       "  </thead>\n",
       "  <tbody>\n",
       "    <tr>\n",
       "      <th>0</th>\n",
       "      <td>diaryofagameaddict.com</td>\n",
       "      <td>bad</td>\n",
       "    </tr>\n",
       "    <tr>\n",
       "      <th>1</th>\n",
       "      <td>espdesign.com.au</td>\n",
       "      <td>bad</td>\n",
       "    </tr>\n",
       "    <tr>\n",
       "      <th>2</th>\n",
       "      <td>iamagameaddict.com</td>\n",
       "      <td>bad</td>\n",
       "    </tr>\n",
       "    <tr>\n",
       "      <th>3</th>\n",
       "      <td>kalantzis.net</td>\n",
       "      <td>bad</td>\n",
       "    </tr>\n",
       "    <tr>\n",
       "      <th>4</th>\n",
       "      <td>slightlyoffcenter.net</td>\n",
       "      <td>bad</td>\n",
       "    </tr>\n",
       "  </tbody>\n",
       "</table>\n",
       "</div>"
      ],
      "text/plain": [
       "                      url label\n",
       "0  diaryofagameaddict.com   bad\n",
       "1        espdesign.com.au   bad\n",
       "2      iamagameaddict.com   bad\n",
       "3           kalantzis.net   bad\n",
       "4   slightlyoffcenter.net   bad"
      ]
     },
     "execution_count": 22,
     "metadata": {},
     "output_type": "execute_result"
    }
   ],
   "source": [
    "# import the buy using pandas\n",
    "\n",
    "url_data = pd.read_csv('D:/AI_stuff/Assinments/Asignments/Fake URL dataset/urldataset/data.csv')\n",
    "\n",
    "url_data.head()"
   ]
  },
  {
   "cell_type": "code",
   "execution_count": 113,
   "metadata": {},
   "outputs": [
    {
     "name": "stdout",
     "output_type": "stream",
     "text": [
      "[0 1]\n"
     ]
    }
   ],
   "source": [
    "print(np.unique(url_data['label']))"
   ]
  },
  {
   "cell_type": "code",
   "execution_count": 24,
   "metadata": {},
   "outputs": [],
   "source": [
    "def labelize(label):\n",
    "    if label == 'bad':\n",
    "        return 0;\n",
    "    else:\n",
    "        return 1;\n",
    "\n",
    "url_data['label'] = url_data['label'].apply(labelize)    "
   ]
  },
  {
   "cell_type": "code",
   "execution_count": 139,
   "metadata": {},
   "outputs": [
    {
     "name": "stdout",
     "output_type": "stream",
     "text": [
      "[0 1]\n"
     ]
    }
   ],
   "source": [
    "print(np.unique(url_data['label']))"
   ]
  },
  {
   "cell_type": "code",
   "execution_count": 26,
   "metadata": {},
   "outputs": [
    {
     "name": "stdout",
     "output_type": "stream",
     "text": [
      "1    344821\n",
      "0     75643\n",
      "Name: label, dtype: int64\n"
     ]
    }
   ],
   "source": [
    "label_data = url_data['label'].value_counts()\n",
    "print(label_data)"
   ]
  },
  {
   "cell_type": "code",
   "execution_count": 27,
   "metadata": {},
   "outputs": [
    {
     "data": {
      "text/plain": [
       "<matplotlib.axes._subplots.AxesSubplot at 0x1f230aaaa90>"
      ]
     },
     "execution_count": 27,
     "metadata": {},
     "output_type": "execute_result"
    },
    {
     "data": {
      "image/png": "[encoded data removed]",
      "text/plain": [
       "<Figure size 432x288 with 1 Axes>"
      ]
     },
     "metadata": {},
     "output_type": "display_data"
    }
   ],
   "source": [
    "label_data.plot(kind = 'bar')"
   ]
  },
  {
   "cell_type": "markdown",
   "metadata": {},
   "source": [
    "<h1> Observation from graph:</h1>\n",
    "    \n",
    "<h3> The data we have is imbalanced </h3>"
   ]
  },
  {
   "cell_type": "code",
   "execution_count": 28,
   "metadata": {},
   "outputs": [
    {
     "name": "stdout",
     "output_type": "stream",
     "text": [
      "Null Values in Data set\n",
      "url      0\n",
      "label    0\n",
      "dtype: int64\n"
     ]
    }
   ],
   "source": [
    "#Check for null data\n",
    "print(\"Null Values in Data set\")\n",
    "print(\"{}\".format(url_data.isnull().sum()))"
   ]
  },
  {
   "cell_type": "code",
   "execution_count": 29,
   "metadata": {},
   "outputs": [
    {
     "name": "stdout",
     "output_type": "stream",
     "text": [
      "                                                     url  label\n",
      "42767                                         01453.com/      1\n",
      "42768              015fb31.netsolhost.com/bosstweed.html      1\n",
      "42769            02bee66.netsolhost.com/lincolnhomepage/      1\n",
      "42770  02ec0a3.netsolhost.com/getperson.php?personID=...      1\n",
      "42771                                        032255.com/      1\n"
     ]
    }
   ],
   "source": [
    "#printing some GOOD label urls\n",
    "print(url_data[url_data['label'] == 1].head(5))"
   ]
  },
  {
   "cell_type": "code",
   "execution_count": 30,
   "metadata": {},
   "outputs": [],
   "source": [
    "import re\n",
    "final_string = []\n",
    "str1 = \"\"\n",
    "for url in url_data['url'].values:\n",
    "    \n",
    "    tokensBySlash = str(url.encode('utf-8')).split('/')#Splitting tokens by slash\n",
    "    allTokens = []\n",
    "    for i in tokensBySlash:\n",
    "        tokensByDash = str(i).split('-')\n",
    "        for j in tokensByDash:\n",
    "            tokenByDot = str(j).split('.')\n",
    "            allTokens += tokenByDot\n",
    "            allTokens = list(set(allTokens))\n",
    "    if 'com' in allTokens:\n",
    "        allTokens.remove('com')\n",
    "    str1 = \" \".join(allTokens)\n",
    "    final_string.append(str1)\n",
    "            \n",
    "    "
   ]
  },
  {
   "cell_type": "code",
   "execution_count": 31,
   "metadata": {},
   "outputs": [
    {
     "name": "stdout",
     "output_type": "stream",
     "text": [
      "b'diaryofagameaddict com'\n"
     ]
    }
   ],
   "source": [
    "print(final_string[0])"
   ]
  },
  {
   "cell_type": "code",
   "execution_count": 32,
   "metadata": {},
   "outputs": [],
   "source": [
    "url_data['final_url'] = final_string\n",
    "url_data['final_url'] = url_data['final_url']"
   ]
  },
  {
   "cell_type": "code",
   "execution_count": 33,
   "metadata": {},
   "outputs": [],
   "source": [
    "url_data_sample = url_data.sample(n=50000)"
   ]
  },
  {
   "cell_type": "code",
   "execution_count": 34,
   "metadata": {},
   "outputs": [
    {
     "data": {
      "text/html": [
       "<div>\n",
       "<style scoped>\n",
       "    .dataframe tbody tr th:only-of-type {\n",
       "        vertical-align: middle;\n",
       "    }\n",
       "\n",
       "    .dataframe tbody tr th {\n",
       "        vertical-align: top;\n",
       "    }\n",
       "\n",
       "    .dataframe thead th {\n",
       "        text-align: right;\n",
       "    }\n",
       "</style>\n",
       "<table border=\"1\" class=\"dataframe\">\n",
       "  <thead>\n",
       "    <tr style=\"text-align: right;\">\n",
       "      <th></th>\n",
       "      <th>url</th>\n",
       "      <th>label</th>\n",
       "      <th>final_url</th>\n",
       "    </tr>\n",
       "  </thead>\n",
       "  <tbody>\n",
       "    <tr>\n",
       "      <th>51898</th>\n",
       "      <td>baseballballcollections.com/</td>\n",
       "      <td>1</td>\n",
       "      <td>' b'baseballballcollections</td>\n",
       "    </tr>\n",
       "    <tr>\n",
       "      <th>169431</th>\n",
       "      <td>2dopeboyz.com/2011/01/31/halo-heat-writer-ii-a...</td>\n",
       "      <td>1</td>\n",
       "      <td>01 heat ' writer album 31 b'2dopeboyz 2011 hal...</td>\n",
       "    </tr>\n",
       "    <tr>\n",
       "      <th>15564</th>\n",
       "      <td>anjans.com/merchant/Kay%20Generator%20Executab...</td>\n",
       "      <td>0</td>\n",
       "      <td>a06d5zc40ad5e6zr6fef06a40vc2be750 Ak47_ paypal...</td>\n",
       "    </tr>\n",
       "    <tr>\n",
       "      <th>243274</th>\n",
       "      <td>flickr.com/photos/lorenjavier/3268882368/</td>\n",
       "      <td>1</td>\n",
       "      <td>3268882368 b'flickr ' photos lorenjavier</td>\n",
       "    </tr>\n",
       "    <tr>\n",
       "      <th>140699</th>\n",
       "      <td>sandrafinley.ca/?p=3297</td>\n",
       "      <td>1</td>\n",
       "      <td>b'sandrafinley ?p=3297' ca</td>\n",
       "    </tr>\n",
       "  </tbody>\n",
       "</table>\n",
       "</div>"
      ],
      "text/plain": [
       "                                                      url  label  \\\n",
       "51898                        baseballballcollections.com/      1   \n",
       "169431  2dopeboyz.com/2011/01/31/halo-heat-writer-ii-a...      1   \n",
       "15564   anjans.com/merchant/Kay%20Generator%20Executab...      0   \n",
       "243274          flickr.com/photos/lorenjavier/3268882368/      1   \n",
       "140699                            sandrafinley.ca/?p=3297      1   \n",
       "\n",
       "                                                final_url  \n",
       "51898                         ' b'baseballballcollections  \n",
       "169431  01 heat ' writer album 31 b'2dopeboyz 2011 hal...  \n",
       "15564   a06d5zc40ad5e6zr6fef06a40vc2be750 Ak47_ paypal...  \n",
       "243274           3268882368 b'flickr ' photos lorenjavier  \n",
       "140699                         b'sandrafinley ?p=3297' ca  "
      ]
     },
     "execution_count": 34,
     "metadata": {},
     "output_type": "execute_result"
    }
   ],
   "source": [
    "url_data_sample.head()"
   ]
  },
  {
   "cell_type": "code",
   "execution_count": 35,
   "metadata": {},
   "outputs": [],
   "source": [
    "X = url_data_sample['final_url']\n",
    "y = url_data_sample['label']"
   ]
  },
  {
   "cell_type": "code",
   "execution_count": 36,
   "metadata": {},
   "outputs": [
    {
     "data": {
      "text/plain": [
       "<matplotlib.axes._subplots.AxesSubplot at 0x1f227c82e80>"
      ]
     },
     "execution_count": 36,
     "metadata": {},
     "output_type": "execute_result"
    },
    {
     "data": {
      "image/png": "[encoded data removed]",
      "text/plain": [
       "<Figure size 432x288 with 1 Axes>"
      ]
     },
     "metadata": {},
     "output_type": "display_data"
    }
   ],
   "source": [
    "y.value_counts().plot(kind = 'bar')"
   ]
  },
  {
   "cell_type": "code",
   "execution_count": 37,
   "metadata": {},
   "outputs": [],
   "source": [
    "from sklearn.model_selection import train_test_split\n",
    "\n",
    "X_train,X_test,y_train,y_test = train_test_split(X,y,test_size = 0.3,random_state = 1)\n"
   ]
  },
  {
   "cell_type": "code",
   "execution_count": 38,
   "metadata": {},
   "outputs": [],
   "source": [
    "X_train,x_cv,y_train,y_cv = train_test_split(X_train,y_train,test_size = 0.3,random_state = 1)"
   ]
  },
  {
   "cell_type": "markdown",
   "metadata": {},
   "source": [
    "# Apply BAG OF WORDS "
   ]
  },
  {
   "cell_type": "code",
   "execution_count": 39,
   "metadata": {},
   "outputs": [],
   "source": [
    "from sklearn.feature_extraction.text import CountVectorizer\n",
    "from sklearn import preprocessing \n",
    "\n",
    "bow = CountVectorizer()\n",
    "\n",
    "X_train = bow.fit_transform(X_train)\n",
    "\n",
    "X_train = preprocessing.normalize(X_train)\n",
    "\n",
    "X_cv = bow.transform(x_cv)\n",
    "\n",
    "X_cv = preprocessing.normalize(X_cv)\n",
    "\n",
    "X_test = bow.transform(X_test)\n",
    "\n",
    "X_test = preprocessing.normalize(X_test)"
   ]
  },
  {
   "cell_type": "code",
   "execution_count": 40,
   "metadata": {},
   "outputs": [],
   "source": [
    "# appling SMOTE on training data\n",
    "from imblearn.over_sampling import SMOTE\n",
    "smt = SMOTE()\n",
    "X_train,y_train = smt.fit_sample(X_train,y_train)"
   ]
  },
  {
   "cell_type": "code",
   "execution_count": 41,
   "metadata": {},
   "outputs": [
    {
     "name": "stdout",
     "output_type": "stream",
     "text": [
      "40166\n",
      "40166\n"
     ]
    }
   ],
   "source": [
    "print(X_train.shape[0])\n",
    "print(y_train.shape[0])"
   ]
  },
  {
   "cell_type": "code",
   "execution_count": 42,
   "metadata": {},
   "outputs": [
    {
     "name": "stdout",
     "output_type": "stream",
     "text": [
      "When C is 1e-05 and Penalty is l1 , the Cross validation score is 0.5 and the train score is 0.5\n",
      "When C is 0.0001 and Penalty is l1 , the Cross validation score is 0.5 and the train score is 0.5\n",
      "When C is 0.001 and Penalty is l1 , the Cross validation score is 0.5 and the train score is 0.5\n",
      "When C is 0.01 and Penalty is l1 , the Cross validation score is 0.7786704837500706 and the train score is 0.8147524277757736\n",
      "When C is 0.1 and Penalty is l1 , the Cross validation score is 0.9244050611996323 and the train score is 0.9496497120478371\n",
      "When C is 1 and Penalty is l1 , the Cross validation score is 0.9688669363336296 and the train score is 0.9940287169894095\n",
      "When C is 0.5 and Penalty is l1 , the Cross validation score is 0.9608013279736248 and the train score is 0.9872520487965779\n",
      "When C is 10 and Penalty is l1 , the Cross validation score is 0.9748925874119229 and the train score is 0.999999945453674\n",
      "When C is 100 and Penalty is l1 , the Cross validation score is 0.9757588518628386 and the train score is 1.0\n",
      "When C is 1000 and Penalty is l1 , the Cross validation score is 0.9759112561617426 and the train score is 1.0\n",
      "When C is 1e-05 and Penalty is l2 , the Cross validation score is 0.8811870951484744 and the train score is 0.8855438348917024\n",
      "When C is 0.0001 and Penalty is l2 , the Cross validation score is 0.8816643828868767 and the train score is 0.8860597042911265\n",
      "When C is 0.001 and Penalty is l2 , the Cross validation score is 0.8865321816771345 and the train score is 0.8918825989804018\n",
      "When C is 0.01 and Penalty is l2 , the Cross validation score is 0.9109605528446905 and the train score is 0.9221522346852504\n",
      "When C is 0.1 and Penalty is l2 , the Cross validation score is 0.9525353367477014 and the train score is 0.9741826734492776\n",
      "When C is 1 and Penalty is l2 , the Cross validation score is 0.9751963298193527 and the train score is 0.9975315035343453\n",
      "When C is 0.5 and Penalty is l2 , the Cross validation score is 0.9707570177107625 and the train score is 0.9941237044575028\n",
      "When C is 10 and Penalty is l2 , the Cross validation score is 0.981277026783738 and the train score is 0.9999576299015362\n",
      "When C is 100 and Penalty is l2 , the Cross validation score is 0.9821251050730618 and the train score is 1.0\n",
      "When C is 1000 and Penalty is l2 , the Cross validation score is 0.9822704725154703 and the train score is 1.0\n"
     ]
    }
   ],
   "source": [
    "from sklearn.linear_model import LogisticRegression\n",
    "from sklearn.metrics import roc_auc_score\n",
    "C = [0.00001,0.0001,0.001,0.01,0.1,1,0.5,10,100,1000]\n",
    "penalty = ['l1','l2']\n",
    "cv_scores = []\n",
    "train_scores = []\n",
    "j=0\n",
    "for p in penalty:\n",
    "    for c in C: \n",
    "        lreg = LogisticRegression(penalty = p,C =c)\n",
    "        lreg.fit(X_train,y_train)\n",
    "        cv_score = roc_auc_score(np.array(y_cv),lreg.predict_proba(X_cv)[:,1])\n",
    "        cv_scores.append(cv_score)\n",
    "        train_score = roc_auc_score(np.array(y_train),lreg.predict_proba(X_train)[:,1])\n",
    "        train_scores.append(train_score)\n",
    "        print(\"When C is {} and Penalty is {} , the Cross validation score is {} and the train score is {}\".format(c,p,cv_scores[j],train_scores[j]))\n",
    "        j +=1"
   ]
  },
  {
   "cell_type": "markdown",
   "metadata": {},
   "source": [
    "<h4> When we Roc curve as metric the best parameters are c = 1000, p = l2"
   ]
  },
  {
   "cell_type": "code",
   "execution_count": 44,
   "metadata": {},
   "outputs": [
    {
     "data": {
      "image/png": "[encoded data removed]",
      "text/plain": [
       "<Figure size 1440x360 with 1 Axes>"
      ]
     },
     "metadata": {},
     "output_type": "display_data"
    }
   ],
   "source": [
    "import matplotlib.pyplot as plt\n",
    "from sklearn.metrics import auc\n",
    "x_ticks = ['0.00001+l1','0.00001+l2','0.0001+l1','0.0001+l2','0.001+l1','0.001+l2','0.01+l1','0.01+l2','0.1+l1','0.1+l2','1+l1','1+l2',\n",
    "           '0.5+l1','0.5+l2','10+l1','10+l2','100+l1','100+l2','1000+l1','1000+l2']\n",
    "plt.figure(figsize =(20,5))\n",
    "plt.title(\"Roc curve for train and validation data\")\n",
    "plt.xlabel(\"C and Penalty\")\n",
    "plt.ylabel(\"Train and CV Score\")\n",
    "plt.plot(range(len(C)*len(penalty)),cv_scores)\n",
    "plt.plot(range(len(C)*len(penalty)),train_scores)\n",
    "plt.xticks(range(len(C)*len(penalty)),x_ticks)\n",
    "plt.show()"
   ]
  },
  {
   "cell_type": "code",
   "execution_count": 45,
   "metadata": {},
   "outputs": [],
   "source": [
    "pred = lreg.predict(X_cv)"
   ]
  },
  {
   "cell_type": "code",
   "execution_count": 46,
   "metadata": {},
   "outputs": [],
   "source": [
    "from sklearn.metrics import confusion_matrix\n",
    "labels = ['positive','negative']\n",
    "def plot_confusion_matrix(y,pred):\n",
    "        cm = confusion_matrix(y,pred)\n",
    "        sn.heatmap(cm,annot = True,fmt = 'd')\n",
    "        plt.xlabel(\"predicted\")\n",
    "        plt.ylabel(\"Actual\")\n",
    "        plt.xticks(label = labels)\n",
    "        plt.yticks(label = labels)\n",
    "        plt.show()"
   ]
  },
  {
   "cell_type": "code",
   "execution_count": 47,
   "metadata": {},
   "outputs": [
    {
     "data": {
      "image/png": "[encoded data removed]",
      "text/plain": [
       "<Figure size 432x288 with 2 Axes>"
      ]
     },
     "metadata": {},
     "output_type": "display_data"
    }
   ],
   "source": [
    "plot_confusion_matrix(y_cv,pred)"
   ]
  },
  {
   "cell_type": "code",
   "execution_count": 48,
   "metadata": {},
   "outputs": [
    {
     "name": "stdout",
     "output_type": "stream",
     "text": [
      "0.9639321879622255\n"
     ]
    }
   ],
   "source": [
    "precision = 8472/(8472+317)\n",
    "print(precision)"
   ]
  },
  {
   "cell_type": "code",
   "execution_count": 49,
   "metadata": {},
   "outputs": [
    {
     "name": "stdout",
     "output_type": "stream",
     "text": [
      "0.9845438698431145\n"
     ]
    }
   ],
   "source": [
    "recall = 8472/(8472+133)\n",
    "\n",
    "print(recall)"
   ]
  },
  {
   "cell_type": "code",
   "execution_count": 50,
   "metadata": {},
   "outputs": [
    {
     "name": "stdout",
     "output_type": "stream",
     "text": [
      "             precision    recall  f1-score   support\n",
      "\n",
      "          0       0.92      0.85      0.89      1911\n",
      "          1       0.97      0.98      0.98      8589\n",
      "\n",
      "avg / total       0.96      0.96      0.96     10500\n",
      "\n"
     ]
    }
   ],
   "source": [
    "from sklearn.metrics import classification_report\n",
    "print(classification_report(y_cv,pred))"
   ]
  },
  {
   "cell_type": "code",
   "execution_count": 51,
   "metadata": {},
   "outputs": [
    {
     "data": {
      "image/png": "[encoded data removed]",
      "text/plain": [
       "<Figure size 432x288 with 1 Axes>"
      ]
     },
     "metadata": {},
     "output_type": "display_data"
    }
   ],
   "source": [
    "from sklearn.metrics import roc_curve\n",
    "\n",
    "fpr,tpr,threshold = roc_curve(y_cv,pred)\n",
    "\n",
    "plt.plot(fpr,tpr)\n",
    "plt.show()"
   ]
  },
  {
   "cell_type": "code",
   "execution_count": 52,
   "metadata": {},
   "outputs": [
    {
     "data": {
      "text/plain": [
       "LogisticRegression(C=1000, class_weight=None, dual=False, fit_intercept=True,\n",
       "          intercept_scaling=1, max_iter=100, multi_class='ovr', n_jobs=1,\n",
       "          penalty='l2', random_state=None, solver='liblinear', tol=0.0001,\n",
       "          verbose=0, warm_start=False)"
      ]
     },
     "execution_count": 52,
     "metadata": {},
     "output_type": "execute_result"
    }
   ],
   "source": [
    "clf = LogisticRegression(C = 1000 , penalty = 'l2')\n",
    "clf.fit(X_train,y_train)"
   ]
  },
  {
   "cell_type": "code",
   "execution_count": 53,
   "metadata": {},
   "outputs": [],
   "source": [
    "pred1 = clf.predict(X_test)"
   ]
  },
  {
   "cell_type": "code",
   "execution_count": 54,
   "metadata": {},
   "outputs": [
    {
     "data": {
      "image/png": "[encoded data removed]",
      "text/plain": [
       "<Figure size 432x288 with 2 Axes>"
      ]
     },
     "metadata": {},
     "output_type": "display_data"
    }
   ],
   "source": [
    "plot_confusion_matrix(y_test,pred1)"
   ]
  },
  {
   "cell_type": "markdown",
   "metadata": {},
   "source": [
    "# Top Features of bad and good URL"
   ]
  },
  {
   "cell_type": "code",
   "execution_count": 55,
   "metadata": {},
   "outputs": [],
   "source": [
    "features = pd.DataFrame(data = clf.coef_.T,index = bow.get_feature_names())"
   ]
  },
  {
   "cell_type": "code",
   "execution_count": 56,
   "metadata": {},
   "outputs": [
    {
     "data": {
      "text/html": [
       "<div>\n",
       "<style scoped>\n",
       "    .dataframe tbody tr th:only-of-type {\n",
       "        vertical-align: middle;\n",
       "    }\n",
       "\n",
       "    .dataframe tbody tr th {\n",
       "        vertical-align: top;\n",
       "    }\n",
       "\n",
       "    .dataframe thead th {\n",
       "        text-align: right;\n",
       "    }\n",
       "</style>\n",
       "<table border=\"1\" class=\"dataframe\">\n",
       "  <thead>\n",
       "    <tr style=\"text-align: right;\">\n",
       "      <th></th>\n",
       "      <th>0</th>\n",
       "    </tr>\n",
       "  </thead>\n",
       "  <tbody>\n",
       "    <tr>\n",
       "      <th>wp</th>\n",
       "      <td>-23.183092</td>\n",
       "    </tr>\n",
       "    <tr>\n",
       "      <th>exe</th>\n",
       "      <td>-22.992210</td>\n",
       "    </tr>\n",
       "    <tr>\n",
       "      <th>nwalreadingaides</th>\n",
       "      <td>-22.939493</td>\n",
       "    </tr>\n",
       "    <tr>\n",
       "      <th>login</th>\n",
       "      <td>-21.964382</td>\n",
       "    </tr>\n",
       "    <tr>\n",
       "      <th>nwww</th>\n",
       "      <td>-21.848607</td>\n",
       "    </tr>\n",
       "    <tr>\n",
       "      <th>upload</th>\n",
       "      <td>-21.577781</td>\n",
       "    </tr>\n",
       "    <tr>\n",
       "      <th>odiagurujan</th>\n",
       "      <td>-21.550912</td>\n",
       "    </tr>\n",
       "    <tr>\n",
       "      <th>1skyvideo</th>\n",
       "      <td>-21.393283</td>\n",
       "    </tr>\n",
       "    <tr>\n",
       "      <th>xyz</th>\n",
       "      <td>-20.888687</td>\n",
       "    </tr>\n",
       "    <tr>\n",
       "      <th>js</th>\n",
       "      <td>-20.617372</td>\n",
       "    </tr>\n",
       "  </tbody>\n",
       "</table>\n",
       "</div>"
      ],
      "text/plain": [
       "                          0\n",
       "wp               -23.183092\n",
       "exe              -22.992210\n",
       "nwalreadingaides -22.939493\n",
       "login            -21.964382\n",
       "nwww             -21.848607\n",
       "upload           -21.577781\n",
       "odiagurujan      -21.550912\n",
       "1skyvideo        -21.393283\n",
       "xyz              -20.888687\n",
       "js               -20.617372"
      ]
     },
     "execution_count": 56,
     "metadata": {},
     "output_type": "execute_result"
    }
   ],
   "source": [
    "features.sort_values(by = 0).head(10)"
   ]
  },
  {
   "cell_type": "code",
   "execution_count": 57,
   "metadata": {},
   "outputs": [
    {
     "data": {
      "text/html": [
       "<div>\n",
       "<style scoped>\n",
       "    .dataframe tbody tr th:only-of-type {\n",
       "        vertical-align: middle;\n",
       "    }\n",
       "\n",
       "    .dataframe tbody tr th {\n",
       "        vertical-align: top;\n",
       "    }\n",
       "\n",
       "    .dataframe thead th {\n",
       "        text-align: right;\n",
       "    }\n",
       "</style>\n",
       "<table border=\"1\" class=\"dataframe\">\n",
       "  <thead>\n",
       "    <tr style=\"text-align: right;\">\n",
       "      <th></th>\n",
       "      <th>0</th>\n",
       "    </tr>\n",
       "  </thead>\n",
       "  <tbody>\n",
       "    <tr>\n",
       "      <th>cracantu</th>\n",
       "      <td>18.726004</td>\n",
       "    </tr>\n",
       "    <tr>\n",
       "      <th>classicalsinger</th>\n",
       "      <td>16.450765</td>\n",
       "    </tr>\n",
       "    <tr>\n",
       "      <th>markosweb</th>\n",
       "      <td>16.360445</td>\n",
       "    </tr>\n",
       "    <tr>\n",
       "      <th>plproject</th>\n",
       "      <td>15.258241</td>\n",
       "    </tr>\n",
       "    <tr>\n",
       "      <th>scribd</th>\n",
       "      <td>14.595381</td>\n",
       "    </tr>\n",
       "    <tr>\n",
       "      <th>londonogroup</th>\n",
       "      <td>14.445415</td>\n",
       "    </tr>\n",
       "    <tr>\n",
       "      <th>photobucket</th>\n",
       "      <td>14.435966</td>\n",
       "    </tr>\n",
       "    <tr>\n",
       "      <th>2011</th>\n",
       "      <td>14.291188</td>\n",
       "    </tr>\n",
       "    <tr>\n",
       "      <th>spoke</th>\n",
       "      <td>13.672665</td>\n",
       "    </tr>\n",
       "    <tr>\n",
       "      <th>edu</th>\n",
       "      <td>13.398820</td>\n",
       "    </tr>\n",
       "  </tbody>\n",
       "</table>\n",
       "</div>"
      ],
      "text/plain": [
       "                         0\n",
       "cracantu         18.726004\n",
       "classicalsinger  16.450765\n",
       "markosweb        16.360445\n",
       "plproject        15.258241\n",
       "scribd           14.595381\n",
       "londonogroup     14.445415\n",
       "photobucket      14.435966\n",
       "2011             14.291188\n",
       "spoke            13.672665\n",
       "edu              13.398820"
      ]
     },
     "execution_count": 57,
     "metadata": {},
     "output_type": "execute_result"
    }
   ],
   "source": [
    "features.sort_values(by = 0,ascending = False).head(10)"
   ]
  },
  {
   "cell_type": "markdown",
   "metadata": {},
   "source": [
    "# Apply Decision Tree Classifier"
   ]
  },
  {
   "cell_type": "code",
   "execution_count": 149,
   "metadata": {},
   "outputs": [
    {
     "name": "stdout",
     "output_type": "stream",
     "text": [
      "2019-04-21 22:35:57.025688\n",
      "10:56:50.520291\n"
     ]
    }
   ],
   "source": [
    "from sklearn.model_selection import RandomizedSearchCV\n",
    "from sklearn.ensemble import RandomForestClassifier\n",
    "import datetime\n",
    "n_estimators = [int(x) for x in np.linspace(start = 10,stop = 200,num = 10)]\n",
    "\n",
    "params = {\n",
    "    'n_estimators' : n_estimators\n",
    "}\n",
    "\n",
    "estimator = RandomForestClassifier()\n",
    "start = datetime.datetime.now()\n",
    "print(start)\n",
    "model = RandomizedSearchCV(estimator = estimator,param_distributions  = params)\n",
    "model.fit(X_train,y_train)\n",
    "print(datetime.datetime.now() - start)"
   ]
  },
  {
   "cell_type": "code",
   "execution_count": 151,
   "metadata": {},
   "outputs": [
    {
     "name": "stdout",
     "output_type": "stream",
     "text": [
      "{'n_estimators': 136}\n"
     ]
    }
   ],
   "source": [
    "print(model.best_params_)"
   ]
  },
  {
   "cell_type": "code",
   "execution_count": 153,
   "metadata": {},
   "outputs": [
    {
     "data": {
      "text/plain": [
       "RandomForestClassifier(bootstrap=True, class_weight=None, criterion='gini',\n",
       "            max_depth=None, max_features='auto', max_leaf_nodes=None,\n",
       "            min_impurity_decrease=0.0, min_impurity_split=None,\n",
       "            min_samples_leaf=1, min_samples_split=2,\n",
       "            min_weight_fraction_leaf=0.0, n_estimators=136, n_jobs=1,\n",
       "            oob_score=False, random_state=None, verbose=0,\n",
       "            warm_start=False)"
      ]
     },
     "execution_count": 153,
     "metadata": {},
     "output_type": "execute_result"
    }
   ],
   "source": [
    "randomReg = RandomForestClassifier(n_estimators = 136)\n",
    "randomReg.fit(X_train,y_train)"
   ]
  },
  {
   "cell_type": "code",
   "execution_count": 155,
   "metadata": {},
   "outputs": [],
   "source": [
    "pred2 = randomReg.predict(X_test)"
   ]
  },
  {
   "cell_type": "code",
   "execution_count": 157,
   "metadata": {},
   "outputs": [
    {
     "data": {
      "image/png": "[encoded data removed]",
      "text/plain": [
       "<Figure size 432x288 with 2 Axes>"
      ]
     },
     "metadata": {},
     "output_type": "display_data"
    }
   ],
   "source": [
    "plot_confusion_matrix(y_test,pred2)"
   ]
  },
  {
   "cell_type": "code",
   "execution_count": 184,
   "metadata": {},
   "outputs": [],
   "source": [
    "r_pred = randomReg.predict_proba(X_test)[:,1]\n"
   ]
  },
  {
   "cell_type": "code",
   "execution_count": 188,
   "metadata": {},
   "outputs": [
    {
     "name": "stdout",
     "output_type": "stream",
     "text": [
      "(15000,)\n",
      "(15000,)\n"
     ]
    }
   ],
   "source": [
    "print(r_pred.shape)\n",
    "print(y_test.shape)"
   ]
  },
  {
   "cell_type": "code",
   "execution_count": 186,
   "metadata": {},
   "outputs": [],
   "source": [
    "r_fpr,r_tpr,thresholds = roc_curve(y_test,r_pred)"
   ]
  },
  {
   "cell_type": "code",
   "execution_count": 193,
   "metadata": {},
   "outputs": [
    {
     "data": {
      "text/plain": [
       "<matplotlib.legend.Legend at 0x1f228162ef0>"
      ]
     },
     "execution_count": 193,
     "metadata": {},
     "output_type": "execute_result"
    },
    {
     "data": {
      "image/png": "[encoded data removed]",
      "text/plain": [
       "<Figure size 432x288 with 1 Axes>"
      ]
     },
     "metadata": {},
     "output_type": "display_data"
    }
   ],
   "source": [
    "plt.plot(r_fpr,r_tpr,label = 'Test Accuracy'+str(auc(r_fpr,r_tpr)))\n",
    "plt.legend()"
   ]
  },
  {
   "cell_type": "code",
   "execution_count": null,
   "metadata": {},
   "outputs": [],
   "source": []
  }
 ],
 "metadata": {
  "kernelspec": {
   "display_name": "Python 3",
   "language": "python",
   "name": "python3"
  },
  "language_info": {
   "codemirror_mode": {
    "name": "ipython",
    "version": 3
   },
   "file_extension": ".py",
   "mimetype": "text/x-python",
   "name": "python",
   "nbconvert_exporter": "python",
   "pygments_lexer": "ipython3",
   "version": "3.6.5"
  }
 },
 "nbformat": 4,
 "nbformat_minor": 2
}
