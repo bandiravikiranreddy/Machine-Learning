{
 "cells": [
  {
   "cell_type": "markdown",
   "metadata": {
    "colab_type": "text",
    "id": "-VCUZwtmUk3m"
   },
   "source": [
    "<h1> Amazon Food Reviews"
   ]
  },
  {
   "cell_type": "markdown",
   "metadata": {
    "colab_type": "text",
    "id": "03BlYI8DUpt1"
   },
   "source": [
    "We have Amazon Food Reviews with 10 features\n",
    "\n",
    "1.Id\n",
    "\n",
    "2.Product Id\n",
    "\n",
    "3.UserID\n",
    "\n",
    "4.Profile Name\n",
    "\n",
    "5.Helpfulness Numerator\n",
    "\n",
    "6.Helpfulness Denominator\n",
    "\n",
    "7.Score\n",
    "\n",
    "8.Time\n",
    "\n",
    "9.Summary\n",
    "\n",
    "10.Text\n",
    "\n",
    "# Objective\n",
    "\n",
    "We have 10 features from that we will use text feature to predict given review is positive or negative"
   ]
  },
  {
   "cell_type": "markdown",
   "metadata": {
    "colab_type": "text",
    "id": "rRj5h-8oV3y4"
   },
   "source": [
    "# Positive and Negative conversion\n",
    "\n",
    "Here we are considering the 0 for negative reviews which has score less than 3 and 1 for positive reviews which has score greater than 3 and we are leaving the neutral reviews"
   ]
  },
  {
   "cell_type": "code",
   "execution_count": 1,
   "metadata": {
    "colab": {
     "base_uri": "https://localhost:8080/",
     "height": 50
    },
    "colab_type": "code",
    "id": "CbkkM7xqVGVE",
    "outputId": "892bf222-56d1-44df-aea0-c1bda41cba0b"
   },
   "outputs": [
    {
     "name": "stdout",
     "output_type": "stream",
     "text": [
      "\u001b[?25l\r",
      "\u001b[K    1% |▎                               | 10kB 23.0MB/s eta 0:00:01\r",
      "\u001b[K    2% |▋                               | 20kB 1.9MB/s eta 0:00:01\r",
      "\u001b[K    3% |█                               | 30kB 2.7MB/s eta 0:00:01\r",
      "\u001b[K    4% |█▎                              | 40kB 1.8MB/s eta 0:00:01\r",
      "\u001b[K    5% |█▋                              | 51kB 2.2MB/s eta 0:00:01\r",
      "\u001b[K    6% |██                              | 61kB 2.6MB/s eta 0:00:01\r",
      "\u001b[K    7% |██▎                             | 71kB 3.0MB/s eta 0:00:01\r",
      "\u001b[K    8% |██▋                             | 81kB 3.4MB/s eta 0:00:01\r",
      "\u001b[K    9% |███                             | 92kB 3.8MB/s eta 0:00:01\r",
      "\u001b[K    10% |███▎                            | 102kB 2.9MB/s eta 0:00:01\r",
      "\u001b[K    11% |███▋                            | 112kB 3.0MB/s eta 0:00:01\r",
      "\u001b[K    12% |████                            | 122kB 4.2MB/s eta 0:00:01\r",
      "\u001b[K    13% |████▎                           | 133kB 4.2MB/s eta 0:00:01\r",
      "\u001b[K    14% |████▋                           | 143kB 8.0MB/s eta 0:00:01\r",
      "\u001b[K    15% |█████                           | 153kB 8.0MB/s eta 0:00:01\r",
      "\u001b[K    16% |█████▎                          | 163kB 8.0MB/s eta 0:00:01\r",
      "\u001b[K    17% |█████▋                          | 174kB 7.9MB/s eta 0:00:01\r",
      "\u001b[K    18% |██████                          | 184kB 7.9MB/s eta 0:00:01\r",
      "\u001b[K    19% |██████▎                         | 194kB 8.0MB/s eta 0:00:01\r",
      "\u001b[K    20% |██████▋                         | 204kB 44.3MB/s eta 0:00:01\r",
      "\u001b[K    21% |███████                         | 215kB 8.8MB/s eta 0:00:01\r",
      "\u001b[K    22% |███████▎                        | 225kB 8.8MB/s eta 0:00:01\r",
      "\u001b[K    23% |███████▋                        | 235kB 8.9MB/s eta 0:00:01\r",
      "\u001b[K    24% |████████                        | 245kB 8.8MB/s eta 0:00:01\r",
      "\u001b[K    25% |████████▎                       | 256kB 8.8MB/s eta 0:00:01\r",
      "\u001b[K    26% |████████▋                       | 266kB 8.6MB/s eta 0:00:01\r",
      "\u001b[K    27% |█████████                       | 276kB 8.7MB/s eta 0:00:01\r",
      "\u001b[K    29% |█████████▎                      | 286kB 8.8MB/s eta 0:00:01\r",
      "\u001b[K    30% |█████████▋                      | 296kB 8.7MB/s eta 0:00:01\r",
      "\u001b[K    31% |██████████                      | 307kB 8.8MB/s eta 0:00:01\r",
      "\u001b[K    32% |██████████▎                     | 317kB 49.1MB/s eta 0:00:01\r",
      "\u001b[K    33% |██████████▋                     | 327kB 49.0MB/s eta 0:00:01\r",
      "\u001b[K    34% |███████████                     | 337kB 49.4MB/s eta 0:00:01\r",
      "\u001b[K    35% |███████████▎                    | 348kB 45.6MB/s eta 0:00:01\r",
      "\u001b[K    36% |███████████▋                    | 358kB 45.3MB/s eta 0:00:01\r",
      "\u001b[K    37% |████████████                    | 368kB 51.6MB/s eta 0:00:01\r",
      "\u001b[K    38% |████████████▎                   | 378kB 51.6MB/s eta 0:00:01\r",
      "\u001b[K    39% |████████████▋                   | 389kB 51.9MB/s eta 0:00:01\r",
      "\u001b[K    40% |█████████████                   | 399kB 10.1MB/s eta 0:00:01\r",
      "\u001b[K    41% |█████████████▎                  | 409kB 10.1MB/s eta 0:00:01\r",
      "\u001b[K    42% |█████████████▋                  | 419kB 10.1MB/s eta 0:00:01\r",
      "\u001b[K    43% |██████████████                  | 430kB 9.7MB/s eta 0:00:01\r",
      "\u001b[K    44% |██████████████▎                 | 440kB 9.7MB/s eta 0:00:01\r",
      "\u001b[K    45% |██████████████▋                 | 450kB 9.9MB/s eta 0:00:01\r",
      "\u001b[K    46% |███████████████                 | 460kB 9.9MB/s eta 0:00:01\r",
      "\u001b[K    47% |███████████████▎                | 471kB 9.9MB/s eta 0:00:01\r",
      "\u001b[K    48% |███████████████▋                | 481kB 9.9MB/s eta 0:00:01\r",
      "\u001b[K    49% |████████████████                | 491kB 9.9MB/s eta 0:00:01\r",
      "\u001b[K    50% |████████████████▎               | 501kB 47.3MB/s eta 0:00:01\r",
      "\u001b[K    51% |████████████████▋               | 512kB 44.9MB/s eta 0:00:01\r",
      "\u001b[K    52% |█████████████████               | 522kB 44.9MB/s eta 0:00:01\r",
      "\u001b[K    53% |█████████████████▎              | 532kB 54.4MB/s eta 0:00:01\r",
      "\u001b[K    54% |█████████████████▋              | 542kB 9.4MB/s eta 0:00:01\r",
      "\u001b[K    55% |██████████████████              | 552kB 9.5MB/s eta 0:00:01\r",
      "\u001b[K    57% |██████████████████▎             | 563kB 9.5MB/s eta 0:00:01\r",
      "\u001b[K    58% |██████████████████▋             | 573kB 9.4MB/s eta 0:00:01\r",
      "\u001b[K    59% |███████████████████             | 583kB 9.4MB/s eta 0:00:01\r",
      "\u001b[K    60% |███████████████████▎            | 593kB 9.3MB/s eta 0:00:01\r",
      "\u001b[K    61% |███████████████████▋            | 604kB 9.3MB/s eta 0:00:01\r",
      "\u001b[K    62% |████████████████████            | 614kB 9.4MB/s eta 0:00:01\r",
      "\u001b[K    63% |████████████████████▎           | 624kB 9.4MB/s eta 0:00:01\r",
      "\u001b[K    64% |████████████████████▋           | 634kB 9.5MB/s eta 0:00:01\r",
      "\u001b[K    65% |█████████████████████           | 645kB 57.8MB/s eta 0:00:01\r",
      "\u001b[K    66% |█████████████████████▎          | 655kB 57.6MB/s eta 0:00:01\r",
      "\u001b[K    67% |█████████████████████▋          | 665kB 44.7MB/s eta 0:00:01\r",
      "\u001b[K    68% |██████████████████████          | 675kB 44.8MB/s eta 0:00:01\r",
      "\u001b[K    69% |██████████████████████▎         | 686kB 46.1MB/s eta 0:00:01\r",
      "\u001b[K    70% |██████████████████████▋         | 696kB 48.6MB/s eta 0:00:01\r",
      "\u001b[K    71% |███████████████████████         | 706kB 48.5MB/s eta 0:00:01\r",
      "\u001b[K    72% |███████████████████████▎        | 716kB 48.7MB/s eta 0:00:01\r",
      "\u001b[K    73% |███████████████████████▋        | 727kB 48.6MB/s eta 0:00:01\r",
      "\u001b[K    74% |████████████████████████        | 737kB 47.5MB/s eta 0:00:01\r",
      "\u001b[K    75% |████████████████████████▎       | 747kB 47.5MB/s eta 0:00:01\r",
      "\u001b[K    76% |████████████████████████▋       | 757kB 48.1MB/s eta 0:00:01\r",
      "\u001b[K    77% |████████████████████████▉       | 768kB 64.5MB/s eta 0:00:01\r",
      "\u001b[K    78% |█████████████████████████▏      | 778kB 64.6MB/s eta 0:00:01\r",
      "\u001b[K    79% |█████████████████████████▌      | 788kB 63.7MB/s eta 0:00:01\r",
      "\u001b[K    80% |█████████████████████████▉      | 798kB 62.8MB/s eta 0:00:01\r",
      "\u001b[K    81% |██████████████████████████▏     | 808kB 61.7MB/s eta 0:00:01\r",
      "\u001b[K    82% |██████████████████████████▌     | 819kB 61.2MB/s eta 0:00:01\r",
      "\u001b[K    83% |██████████████████████████▉     | 829kB 62.0MB/s eta 0:00:01\r",
      "\u001b[K    85% |███████████████████████████▏    | 839kB 62.9MB/s eta 0:00:01\r",
      "\u001b[K    86% |███████████████████████████▌    | 849kB 63.0MB/s eta 0:00:01\r",
      "\u001b[K    87% |███████████████████████████▉    | 860kB 55.8MB/s eta 0:00:01\r",
      "\u001b[K    88% |████████████████████████████▏   | 870kB 55.4MB/s eta 0:00:01\r",
      "\u001b[K    89% |████████████████████████████▌   | 880kB 56.9MB/s eta 0:00:01\r",
      "\u001b[K    90% |████████████████████████████▉   | 890kB 58.0MB/s eta 0:00:01\r",
      "\u001b[K    91% |█████████████████████████████▏  | 901kB 58.2MB/s eta 0:00:01\r",
      "\u001b[K    92% |█████████████████████████████▌  | 911kB 59.4MB/s eta 0:00:01\r",
      "\u001b[K    93% |█████████████████████████████▉  | 921kB 59.6MB/s eta 0:00:01\r",
      "\u001b[K    94% |██████████████████████████████▏ | 931kB 59.2MB/s eta 0:00:01\r",
      "\u001b[K    95% |██████████████████████████████▌ | 942kB 59.4MB/s eta 0:00:01\r",
      "\u001b[K    96% |██████████████████████████████▉ | 952kB 59.4MB/s eta 0:00:01\r",
      "\u001b[K    97% |███████████████████████████████▏| 962kB 68.2MB/s eta 0:00:01\r",
      "\u001b[K    98% |███████████████████████████████▌| 972kB 68.3MB/s eta 0:00:01\r",
      "\u001b[K    99% |███████████████████████████████▉| 983kB 66.5MB/s eta 0:00:01\r",
      "\u001b[K    100% |████████████████████████████████| 993kB 21.8MB/s \n",
      "\u001b[?25h  Building wheel for PyDrive (setup.py) ... \u001b[?25ldone\n",
      "\u001b[?25h"
     ]
    }
   ],
   "source": [
    "!pip install -U -q PyDrive ## you will have install for every colab session"
   ]
  },
  {
   "cell_type": "code",
   "execution_count": 0,
   "metadata": {
    "colab": {},
    "colab_type": "code",
    "id": "S1jRwaq_oox9"
   },
   "outputs": [],
   "source": [
    "#imports for authentication google colab\n",
    "from pydrive.auth import GoogleAuth\n",
    "from pydrive.drive import GoogleDrive\n",
    "from google.colab import auth\n",
    "from oauth2client.client import GoogleCredentials\n"
   ]
  },
  {
   "cell_type": "code",
   "execution_count": 0,
   "metadata": {
    "colab": {},
    "colab_type": "code",
    "id": "FeDEdaFbosAa"
   },
   "outputs": [],
   "source": [
    "auth.authenticate_user()\n",
    "gauth = GoogleAuth()\n",
    "gauth.credentials = GoogleCredentials.get_application_default()\n",
    "drive = GoogleDrive(gauth)\n"
   ]
  },
  {
   "cell_type": "code",
   "execution_count": 0,
   "metadata": {
    "colab": {},
    "colab_type": "code",
    "id": "BWaZv5B-o3NL"
   },
   "outputs": [],
   "source": [
    "# importing datase file using drive file sharable link\n",
    "database_file = drive.CreateFile({'id':'18NszCAf4A-geCy2OXeG9CtckB65fy6_8'})\n",
    "database_file.GetContentFile('database.sqlite')\n"
   ]
  },
  {
   "cell_type": "code",
   "execution_count": 0,
   "metadata": {
    "colab": {},
    "colab_type": "code",
    "id": "VfuX56xqo3w4"
   },
   "outputs": [],
   "source": [
    "import numpy as np  \n",
    "import pandas as pd  \n",
    "import matplotlib.pyplot as plt\n",
    "from sklearn.metrics import classification_report,confusion_matrix,accuracy_score\n"
   ]
  },
  {
   "cell_type": "code",
   "execution_count": 6,
   "metadata": {
    "colab": {
     "base_uri": "https://localhost:8080/",
     "height": 67
    },
    "colab_type": "code",
    "id": "dr3J_Qhapwvx",
    "outputId": "99aae73c-fbc0-4d19-f3e7-5f418c91f703"
   },
   "outputs": [
    {
     "data": {
      "text/plain": [
       "Index(['Id', 'ProductId', 'UserId', 'ProfileName', 'HelpfulnessNumerator',\n",
       "       'HelpfulnessDenominator', 'Score', 'Time', 'Summary', 'Text'],\n",
       "      dtype='object')"
      ]
     },
     "execution_count": 6,
     "metadata": {
      "tags": []
     },
     "output_type": "execute_result"
    }
   ],
   "source": [
    "# using sqlite3 we have import data of Amazon food reviews from database\n",
    "import sqlite3\n",
    "connection = sqlite3.connect('database.sqlite')\n",
    "\n",
    "food_data = pd.read_sql_query('select * from reviews ',connection)\n",
    "\n",
    "food_data.columns"
   ]
  },
  {
   "cell_type": "code",
   "execution_count": 7,
   "metadata": {
    "colab": {
     "base_uri": "https://localhost:8080/",
     "height": 279
    },
    "colab_type": "code",
    "id": "KUXJHLP9pzhi",
    "outputId": "58b205cd-1e7b-4fd1-8864-a9b8b0b98cbd"
   },
   "outputs": [
    {
     "data": {
      "text/html": [
       "<div>\n",
       "<style scoped>\n",
       "    .dataframe tbody tr th:only-of-type {\n",
       "        vertical-align: middle;\n",
       "    }\n",
       "\n",
       "    .dataframe tbody tr th {\n",
       "        vertical-align: top;\n",
       "    }\n",
       "\n",
       "    .dataframe thead th {\n",
       "        text-align: right;\n",
       "    }\n",
       "</style>\n",
       "<table border=\"1\" class=\"dataframe\">\n",
       "  <thead>\n",
       "    <tr style=\"text-align: right;\">\n",
       "      <th></th>\n",
       "      <th>Id</th>\n",
       "      <th>ProductId</th>\n",
       "      <th>UserId</th>\n",
       "      <th>ProfileName</th>\n",
       "      <th>HelpfulnessNumerator</th>\n",
       "      <th>HelpfulnessDenominator</th>\n",
       "      <th>Score</th>\n",
       "      <th>Time</th>\n",
       "      <th>Summary</th>\n",
       "      <th>Text</th>\n",
       "    </tr>\n",
       "  </thead>\n",
       "  <tbody>\n",
       "    <tr>\n",
       "      <th>0</th>\n",
       "      <td>1</td>\n",
       "      <td>B001E4KFG0</td>\n",
       "      <td>A3SGXH7AUHU8GW</td>\n",
       "      <td>delmartian</td>\n",
       "      <td>1</td>\n",
       "      <td>1</td>\n",
       "      <td>5</td>\n",
       "      <td>1303862400</td>\n",
       "      <td>Good Quality Dog Food</td>\n",
       "      <td>I have bought several of the Vitality canned d...</td>\n",
       "    </tr>\n",
       "    <tr>\n",
       "      <th>1</th>\n",
       "      <td>2</td>\n",
       "      <td>B00813GRG4</td>\n",
       "      <td>A1D87F6ZCVE5NK</td>\n",
       "      <td>dll pa</td>\n",
       "      <td>0</td>\n",
       "      <td>0</td>\n",
       "      <td>1</td>\n",
       "      <td>1346976000</td>\n",
       "      <td>Not as Advertised</td>\n",
       "      <td>Product arrived labeled as Jumbo Salted Peanut...</td>\n",
       "    </tr>\n",
       "    <tr>\n",
       "      <th>2</th>\n",
       "      <td>3</td>\n",
       "      <td>B000LQOCH0</td>\n",
       "      <td>ABXLMWJIXXAIN</td>\n",
       "      <td>Natalia Corres \"Natalia Corres\"</td>\n",
       "      <td>1</td>\n",
       "      <td>1</td>\n",
       "      <td>4</td>\n",
       "      <td>1219017600</td>\n",
       "      <td>\"Delight\" says it all</td>\n",
       "      <td>This is a confection that has been around a fe...</td>\n",
       "    </tr>\n",
       "    <tr>\n",
       "      <th>3</th>\n",
       "      <td>4</td>\n",
       "      <td>B000UA0QIQ</td>\n",
       "      <td>A395BORC6FGVXV</td>\n",
       "      <td>Karl</td>\n",
       "      <td>3</td>\n",
       "      <td>3</td>\n",
       "      <td>2</td>\n",
       "      <td>1307923200</td>\n",
       "      <td>Cough Medicine</td>\n",
       "      <td>If you are looking for the secret ingredient i...</td>\n",
       "    </tr>\n",
       "    <tr>\n",
       "      <th>4</th>\n",
       "      <td>5</td>\n",
       "      <td>B006K2ZZ7K</td>\n",
       "      <td>A1UQRSCLF8GW1T</td>\n",
       "      <td>Michael D. Bigham \"M. Wassir\"</td>\n",
       "      <td>0</td>\n",
       "      <td>0</td>\n",
       "      <td>5</td>\n",
       "      <td>1350777600</td>\n",
       "      <td>Great taffy</td>\n",
       "      <td>Great taffy at a great price.  There was a wid...</td>\n",
       "    </tr>\n",
       "  </tbody>\n",
       "</table>\n",
       "</div>"
      ],
      "text/plain": [
       "   Id   ProductId          UserId                      ProfileName  \\\n",
       "0   1  B001E4KFG0  A3SGXH7AUHU8GW                       delmartian   \n",
       "1   2  B00813GRG4  A1D87F6ZCVE5NK                           dll pa   \n",
       "2   3  B000LQOCH0   ABXLMWJIXXAIN  Natalia Corres \"Natalia Corres\"   \n",
       "3   4  B000UA0QIQ  A395BORC6FGVXV                             Karl   \n",
       "4   5  B006K2ZZ7K  A1UQRSCLF8GW1T    Michael D. Bigham \"M. Wassir\"   \n",
       "\n",
       "   HelpfulnessNumerator  HelpfulnessDenominator  Score        Time  \\\n",
       "0                     1                       1      5  1303862400   \n",
       "1                     0                       0      1  1346976000   \n",
       "2                     1                       1      4  1219017600   \n",
       "3                     3                       3      2  1307923200   \n",
       "4                     0                       0      5  1350777600   \n",
       "\n",
       "                 Summary                                               Text  \n",
       "0  Good Quality Dog Food  I have bought several of the Vitality canned d...  \n",
       "1      Not as Advertised  Product arrived labeled as Jumbo Salted Peanut...  \n",
       "2  \"Delight\" says it all  This is a confection that has been around a fe...  \n",
       "3         Cough Medicine  If you are looking for the secret ingredient i...  \n",
       "4            Great taffy  Great taffy at a great price.  There was a wid...  "
      ]
     },
     "execution_count": 7,
     "metadata": {
      "tags": []
     },
     "output_type": "execute_result"
    }
   ],
   "source": [
    "food_data.head(5)"
   ]
  },
  {
   "cell_type": "code",
   "execution_count": 0,
   "metadata": {
    "colab": {},
    "colab_type": "code",
    "id": "Ar3WIzGvp96w"
   },
   "outputs": [],
   "source": [
    "# Here we are leaving neutral reviews which has score 3\n",
    "food_data = pd.read_sql_query('select * from reviews where score != 3',connection)\n"
   ]
  },
  {
   "cell_type": "code",
   "execution_count": 0,
   "metadata": {
    "colab": {},
    "colab_type": "code",
    "id": "kgbMhP4OqW0r"
   },
   "outputs": [],
   "source": [
    "# Here are replacing review score 1,2 as 0 and 4,5 as a 1.\n",
    "# O is Negative reviews\n",
    "# 1 is positive reviews\n",
    "def partition(x):\n",
    "    if x<3:\n",
    "        return 0\n",
    "    return 1\n",
    "\n",
    "actualScore = food_data['Score']\n",
    "positiveNegative = actualScore.map(partition)\n",
    "food_data['Score'] = positiveNegative"
   ]
  },
  {
   "cell_type": "code",
   "execution_count": 10,
   "metadata": {
    "colab": {
     "base_uri": "https://localhost:8080/",
     "height": 279
    },
    "colab_type": "code",
    "id": "zAVyACt4qsJC",
    "outputId": "c5c44f45-c0c9-46dd-e969-af6b652dcf0c"
   },
   "outputs": [
    {
     "data": {
      "text/html": [
       "<div>\n",
       "<style scoped>\n",
       "    .dataframe tbody tr th:only-of-type {\n",
       "        vertical-align: middle;\n",
       "    }\n",
       "\n",
       "    .dataframe tbody tr th {\n",
       "        vertical-align: top;\n",
       "    }\n",
       "\n",
       "    .dataframe thead th {\n",
       "        text-align: right;\n",
       "    }\n",
       "</style>\n",
       "<table border=\"1\" class=\"dataframe\">\n",
       "  <thead>\n",
       "    <tr style=\"text-align: right;\">\n",
       "      <th></th>\n",
       "      <th>Id</th>\n",
       "      <th>ProductId</th>\n",
       "      <th>UserId</th>\n",
       "      <th>ProfileName</th>\n",
       "      <th>HelpfulnessNumerator</th>\n",
       "      <th>HelpfulnessDenominator</th>\n",
       "      <th>Score</th>\n",
       "      <th>Time</th>\n",
       "      <th>Summary</th>\n",
       "      <th>Text</th>\n",
       "    </tr>\n",
       "  </thead>\n",
       "  <tbody>\n",
       "    <tr>\n",
       "      <th>0</th>\n",
       "      <td>1</td>\n",
       "      <td>B001E4KFG0</td>\n",
       "      <td>A3SGXH7AUHU8GW</td>\n",
       "      <td>delmartian</td>\n",
       "      <td>1</td>\n",
       "      <td>1</td>\n",
       "      <td>1</td>\n",
       "      <td>1303862400</td>\n",
       "      <td>Good Quality Dog Food</td>\n",
       "      <td>I have bought several of the Vitality canned d...</td>\n",
       "    </tr>\n",
       "    <tr>\n",
       "      <th>1</th>\n",
       "      <td>2</td>\n",
       "      <td>B00813GRG4</td>\n",
       "      <td>A1D87F6ZCVE5NK</td>\n",
       "      <td>dll pa</td>\n",
       "      <td>0</td>\n",
       "      <td>0</td>\n",
       "      <td>0</td>\n",
       "      <td>1346976000</td>\n",
       "      <td>Not as Advertised</td>\n",
       "      <td>Product arrived labeled as Jumbo Salted Peanut...</td>\n",
       "    </tr>\n",
       "    <tr>\n",
       "      <th>2</th>\n",
       "      <td>3</td>\n",
       "      <td>B000LQOCH0</td>\n",
       "      <td>ABXLMWJIXXAIN</td>\n",
       "      <td>Natalia Corres \"Natalia Corres\"</td>\n",
       "      <td>1</td>\n",
       "      <td>1</td>\n",
       "      <td>1</td>\n",
       "      <td>1219017600</td>\n",
       "      <td>\"Delight\" says it all</td>\n",
       "      <td>This is a confection that has been around a fe...</td>\n",
       "    </tr>\n",
       "    <tr>\n",
       "      <th>3</th>\n",
       "      <td>4</td>\n",
       "      <td>B000UA0QIQ</td>\n",
       "      <td>A395BORC6FGVXV</td>\n",
       "      <td>Karl</td>\n",
       "      <td>3</td>\n",
       "      <td>3</td>\n",
       "      <td>0</td>\n",
       "      <td>1307923200</td>\n",
       "      <td>Cough Medicine</td>\n",
       "      <td>If you are looking for the secret ingredient i...</td>\n",
       "    </tr>\n",
       "    <tr>\n",
       "      <th>4</th>\n",
       "      <td>5</td>\n",
       "      <td>B006K2ZZ7K</td>\n",
       "      <td>A1UQRSCLF8GW1T</td>\n",
       "      <td>Michael D. Bigham \"M. Wassir\"</td>\n",
       "      <td>0</td>\n",
       "      <td>0</td>\n",
       "      <td>1</td>\n",
       "      <td>1350777600</td>\n",
       "      <td>Great taffy</td>\n",
       "      <td>Great taffy at a great price.  There was a wid...</td>\n",
       "    </tr>\n",
       "  </tbody>\n",
       "</table>\n",
       "</div>"
      ],
      "text/plain": [
       "   Id   ProductId          UserId                      ProfileName  \\\n",
       "0   1  B001E4KFG0  A3SGXH7AUHU8GW                       delmartian   \n",
       "1   2  B00813GRG4  A1D87F6ZCVE5NK                           dll pa   \n",
       "2   3  B000LQOCH0   ABXLMWJIXXAIN  Natalia Corres \"Natalia Corres\"   \n",
       "3   4  B000UA0QIQ  A395BORC6FGVXV                             Karl   \n",
       "4   5  B006K2ZZ7K  A1UQRSCLF8GW1T    Michael D. Bigham \"M. Wassir\"   \n",
       "\n",
       "   HelpfulnessNumerator  HelpfulnessDenominator  Score        Time  \\\n",
       "0                     1                       1      1  1303862400   \n",
       "1                     0                       0      0  1346976000   \n",
       "2                     1                       1      1  1219017600   \n",
       "3                     3                       3      0  1307923200   \n",
       "4                     0                       0      1  1350777600   \n",
       "\n",
       "                 Summary                                               Text  \n",
       "0  Good Quality Dog Food  I have bought several of the Vitality canned d...  \n",
       "1      Not as Advertised  Product arrived labeled as Jumbo Salted Peanut...  \n",
       "2  \"Delight\" says it all  This is a confection that has been around a fe...  \n",
       "3         Cough Medicine  If you are looking for the secret ingredient i...  \n",
       "4            Great taffy  Great taffy at a great price.  There was a wid...  "
      ]
     },
     "execution_count": 10,
     "metadata": {
      "tags": []
     },
     "output_type": "execute_result"
    }
   ],
   "source": [
    "# check the score\n",
    "food_data.head()"
   ]
  },
  {
   "cell_type": "code",
   "execution_count": 0,
   "metadata": {
    "colab": {},
    "colab_type": "code",
    "id": "oxr9Ux5NqwF_"
   },
   "outputs": [],
   "source": [
    "#Drop the duplicates from data and also helpfulness numerator is always lessthan helpfulness denominator\n",
    "final = food_data.drop_duplicates(subset={\"UserId\",\"ProfileName\",\"Time\",\"Text\"},keep=\"first\",inplace=False)\n",
    "\n",
    "final = final[final['HelpfulnessNumerator'] <=final['HelpfulnessDenominator']  ]\n"
   ]
  },
  {
   "cell_type": "code",
   "execution_count": 12,
   "metadata": {
    "colab": {
     "base_uri": "https://localhost:8080/",
     "height": 50
    },
    "colab_type": "code",
    "id": "l2JF3mO-tBfN",
    "outputId": "30a76a17-7586-4f14-e795-edd3999b6699"
   },
   "outputs": [
    {
     "name": "stdout",
     "output_type": "stream",
     "text": [
      "Requirement already satisfied: nltk in /usr/local/lib/python3.6/dist-packages (3.2.5)\n",
      "Requirement already satisfied: six in /usr/local/lib/python3.6/dist-packages (from nltk) (1.11.0)\n"
     ]
    }
   ],
   "source": [
    "!pip install nltk"
   ]
  },
  {
   "cell_type": "code",
   "execution_count": 13,
   "metadata": {
    "colab": {
     "base_uri": "https://localhost:8080/",
     "height": 67
    },
    "colab_type": "code",
    "id": "kQWZdZtDtfTA",
    "outputId": "d8fab547-7e5f-4ed9-9061-5b7813137d3f"
   },
   "outputs": [
    {
     "name": "stdout",
     "output_type": "stream",
     "text": [
      "[nltk_data] Downloading package stopwords to /root/nltk_data...\n",
      "[nltk_data]   Unzipping corpora/stopwords.zip.\n"
     ]
    },
    {
     "data": {
      "text/plain": [
       "True"
      ]
     },
     "execution_count": 13,
     "metadata": {
      "tags": []
     },
     "output_type": "execute_result"
    }
   ],
   "source": [
    "import nltk\n",
    "nltk.download('stopwords')"
   ]
  },
  {
   "cell_type": "code",
   "execution_count": 0,
   "metadata": {
    "colab": {},
    "colab_type": "code",
    "id": "abmMoo85r-K0"
   },
   "outputs": [],
   "source": [
    "import re\n",
    "import string\n",
    "import nltk\n",
    "from nltk.corpus import stopwords\n",
    "from nltk.stem import PorterStemmer\n",
    "from nltk.stem.wordnet import WordNetLemmatizer\n",
    "\n",
    "stop = set(stopwords.words('english')) #set of stopwords\n",
    "sno = nltk.stem.SnowballStemmer('english') #initialising the snowball stemmer\n",
    "\n",
    "def cleanhtml(sentence): #function to clean the word of any html-tags\n",
    "    cleanr = re.compile('<.*?>')\n",
    "    cleantext = re.sub(cleanr, ' ', sentence)\n",
    "    return cleantext\n",
    "def cleanpunc(sentence): #function to clean the word of any punctuation or special characters\n",
    "    cleaned = re.sub(r'[?|!|\\'|\"|#]',r'',sentence)\n",
    "    cleaned = re.sub(r'[.|,|)|(|\\|/]',r' ',cleaned)\n",
    "    return  cleaned\n",
    "\n",
    "i=0\n",
    "str1=' '\n",
    "final_string=[]\n",
    "all_positive_words=[] # store words from +ve reviews here\n",
    "all_negative_words=[] # store words from -ve reviews here.\n",
    "\n",
    "for sent in final['Text'].values:\n",
    "    filtered_sentence=[]\n",
    "    #print(sent);\n",
    "    sent=cleanhtml(sent) # remove HTMl tags\n",
    "    for w in sent.split():\n",
    "        for cleaned_words in cleanpunc(w).split():\n",
    "            if((cleaned_words.isalpha()) & (len(cleaned_words)>2)):    \n",
    "                if(cleaned_words.lower() not in stop):\n",
    "                    s=(sno.stem(cleaned_words.lower())).encode('utf8')\n",
    "                    filtered_sentence.append(s)\n",
    "                    if (final['Score'].values)[i] == 'positive': \n",
    "                        all_positive_words.append(s) #list of all words used to describe positive reviews\n",
    "                    if(final['Score'].values)[i] == 'negative':\n",
    "                        all_negative_words.append(s) #list of all words used to describe negative reviews reviews\n",
    "                else:\n",
    "                    continue\n",
    "            else:\n",
    "                continue \n",
    "    str1 = b\" \".join(filtered_sentence) #final string of cleaned words    \n",
    "    final_string.append(str1)\n",
    "    i+=1"
   ]
  },
  {
   "cell_type": "code",
   "execution_count": 0,
   "metadata": {
    "colab": {},
    "colab_type": "code",
    "id": "kJgCx2-Osw01"
   },
   "outputs": [],
   "source": [
    "final['FinalText'] = final_string\n",
    "final['FinalText'] = final['FinalText'].str.decode('utf-8')\n",
    "\n",
    "con  = sqlite3.connect('final_reviews.sqlite')\n",
    "\n",
    "c = con.cursor()\n",
    "con.text_factory = str\n",
    "\n",
    "final.to_sql('Reviews', con,  schema=None, if_exists='replace', index=True, index_label=None, chunksize=None, dtype=None)"
   ]
  },
  {
   "cell_type": "code",
   "execution_count": 0,
   "metadata": {
    "colab": {},
    "colab_type": "code",
    "id": "VzWbRH5MusbA"
   },
   "outputs": [],
   "source": [
    "final_data = final.sample(n=100000)"
   ]
  },
  {
   "cell_type": "code",
   "execution_count": 17,
   "metadata": {
    "colab": {
     "base_uri": "https://localhost:8080/",
     "height": 360
    },
    "colab_type": "code",
    "id": "H5DmApWPKu64",
    "outputId": "c42221c8-ebd3-4779-ba6e-79b62e8a0ed4"
   },
   "outputs": [
    {
     "data": {
      "text/plain": [
       "<matplotlib.axes._subplots.AxesSubplot at 0x7fcdddf10240>"
      ]
     },
     "execution_count": 17,
     "metadata": {
      "tags": []
     },
     "output_type": "execute_result"
    },
    {
     "data": {
      "image/png": "[encoded data removed]",
      "text/plain": [
       "<Figure size 576x396 with 1 Axes>"
      ]
     },
     "metadata": {
      "tags": []
     },
     "output_type": "display_data"
    }
   ],
   "source": [
    "final_data['Score'].value_counts().plot(kind = 'bar')"
   ]
  },
  {
   "cell_type": "markdown",
   "metadata": {
    "colab_type": "text",
    "id": "DIkghCA_u_B5"
   },
   "source": [
    "#Naive Bayes Classifier"
   ]
  },
  {
   "cell_type": "markdown",
   "metadata": {
    "colab_type": "text",
    "id": "P2Iz1E1rwTo4"
   },
   "source": [
    "#Apply Bag Of words"
   ]
  },
  {
   "cell_type": "code",
   "execution_count": 0,
   "metadata": {
    "colab": {},
    "colab_type": "code",
    "id": "Nff1yg2KvXmW"
   },
   "outputs": [],
   "source": [
    "from sklearn.feature_extraction.text import CountVectorizer\n",
    "\n",
    "from sklearn.model_selection import train_test_split\n",
    "from sklearn import preprocessing\n",
    "\n",
    "X = final_data['FinalText'].values\n",
    "y = final_data['Score'].values\n",
    "\n",
    "X_train,X_test,y_train,y_test = train_test_split(X,y,test_size=0.33)\n",
    "X_train, X_cv, y_train, y_cv = train_test_split(X_train, y_train, test_size=0.33)"
   ]
  },
  {
   "cell_type": "code",
   "execution_count": 19,
   "metadata": {
    "colab": {
     "base_uri": "https://localhost:8080/",
     "height": 151
    },
    "colab_type": "code",
    "id": "UGgEjLZwwXvD",
    "outputId": "47253c9d-461b-4dc2-83e2-6699720cfbb2"
   },
   "outputs": [
    {
     "name": "stdout",
     "output_type": "stream",
     "text": [
      "Shape of independent varibles\n",
      "(44890, 26095)\n",
      "(33000, 26095)\n",
      "(22110, 26095)\n",
      "Shape of dependent varibles\n",
      "(44890,)\n",
      "(33000,)\n",
      "(22110,)\n"
     ]
    }
   ],
   "source": [
    "# try count vectorizer\n",
    "\n",
    "bow = CountVectorizer()\n",
    "\n",
    "X_train_bow = bow.fit_transform(X_train)\n",
    "\n",
    "X_train_bow = preprocessing.normalize(X_train_bow)\n",
    "\n",
    "X_test_bow = bow.transform(X_test)\n",
    "\n",
    "X_test_bow = preprocessing.normalize(X_test_bow)\n",
    "\n",
    "X_cv_bow = bow.transform(X_cv)\n",
    "\n",
    "X_cv_bow = preprocessing.normalize(X_cv_bow)\n",
    "\n",
    "print(\"Shape of independent varibles\")\n",
    "print(X_train_bow.shape)\n",
    "print(X_test_bow.shape)\n",
    "print(X_cv_bow.shape)\n",
    "\n",
    "print(\"Shape of dependent varibles\")\n",
    "print(y_train.shape)\n",
    "print(y_test.shape)\n",
    "print(y_cv.shape)\n",
    "\n"
   ]
  },
  {
   "cell_type": "markdown",
   "metadata": {
    "colab_type": "text",
    "id": "xXo3l6VVCRMM"
   },
   "source": [
    "#Hyperparameter tuning"
   ]
  },
  {
   "cell_type": "code",
   "execution_count": 59,
   "metadata": {
    "colab": {
     "base_uri": "https://localhost:8080/",
     "height": 168
    },
    "colab_type": "code",
    "id": "PzhPhyH-BV_5",
    "outputId": "3dfead5d-1320-46dc-ba67-c9684866a053"
   },
   "outputs": [
    {
     "name": "stdout",
     "output_type": "stream",
     "text": [
      "Cv scores 0.8606965875511435 and train Scores 0.9781650032690492 alpha 1e-05\n",
      "Cv scores 0.8838478037732653 and train Scores 0.9770621783664217 alpha 0.0001\n",
      "Cv scores 0.907242024865822 and train Scores 0.9748294559289173 alpha 0.001\n",
      "Cv scores 0.9262034459121267 and train Scores 0.9696987690495694 alpha 0.01\n",
      "Cv scores 0.9330799746159493 and train Scores 0.9569375472692427 alpha 0.1\n",
      "Cv scores 0.9039336736443507 and train Scores 0.9143577313960183 alpha 1\n",
      "Cv scores 0.7497245903534913 and train Scores 0.753585020546704 alpha 10\n",
      "Cv scores 0.6818128766861781 and train Scores 0.6815615272123995 alpha 100\n",
      "Cv scores 0.6499506252729027 and train Scores 0.6483698426770687 alpha 1000\n"
     ]
    }
   ],
   "source": [
    "from sklearn.metrics import roc_auc_score\n",
    "from sklearn.naive_bayes import MultinomialNB\n",
    "alpha = [0.00001,0.0001,0.001,0.01,0.1,1,10,100,1000]\n",
    "\n",
    "cv_scores = []\n",
    "\n",
    "train_scores = []\n",
    "\n",
    "i=0\n",
    "\n",
    "for a in alpha:\n",
    "  multiNB = MultinomialNB(alpha = a)\n",
    "  multiNB.fit(X_train_bow,y_train)\n",
    "  scores = roc_auc_score(np.array(y_cv),multiNB.predict_proba(X_cv_bow)[:,1])\n",
    "  cv_scores.append(scores)\n",
    "  scores = roc_auc_score(np.array(y_train),multiNB.predict_proba(X_train_bow)[:,1])\n",
    "  train_scores.append(scores)\n",
    "  \n",
    "  print(\"Cv scores {} and train Scores {} alpha {}\".format(cv_scores[i],train_scores[i],a))\n",
    "  i +=1\n",
    " \n",
    "  \n",
    "  \n",
    "  \n"
   ]
  },
  {
   "cell_type": "code",
   "execution_count": 60,
   "metadata": {
    "colab": {
     "base_uri": "https://localhost:8080/",
     "height": 362
    },
    "colab_type": "code",
    "id": "n0AQyDJINp92",
    "outputId": "5dd47400-62e6-473d-a391-2c697ce445aa"
   },
   "outputs": [
    {
     "data": {
      "image/png": "[encoded data removed]",
      "text/plain": [
       "<Figure size 576x396 with 1 Axes>"
      ]
     },
     "metadata": {
      "tags": []
     },
     "output_type": "display_data"
    }
   ],
   "source": [
    "plt.title(\"Alpha vs AUC\")\n",
    "plt.plot(range(len(alpha)),cv_scores,label = \"CV AUC\")\n",
    "plt.plot(range(len(alpha)),train_scores,label = \"Train AUC\")\n",
    "plt.xticks(range(len(alpha)),alpha)\n",
    "plt.legend()\n",
    "plt.show()"
   ]
  },
  {
   "cell_type": "code",
   "execution_count": 23,
   "metadata": {
    "colab": {
     "base_uri": "https://localhost:8080/",
     "height": 34
    },
    "colab_type": "code",
    "id": "7A8P96zLT604",
    "outputId": "de20603a-4270-419e-ef81-75132fd274fa"
   },
   "outputs": [
    {
     "data": {
      "text/plain": [
       "MultinomialNB(alpha=0.01, class_prior=None, fit_prior=True)"
      ]
     },
     "execution_count": 23,
     "metadata": {
      "tags": []
     },
     "output_type": "execute_result"
    }
   ],
   "source": [
    "# fit the model with best alpha\n",
    "multiNB = MultinomialNB(alpha = 0.01)\n",
    "multiNB.fit(X_train_bow,y_train)"
   ]
  },
  {
   "cell_type": "code",
   "execution_count": 0,
   "metadata": {
    "colab": {},
    "colab_type": "code",
    "id": "_vFeMGhHXOJ9"
   },
   "outputs": [],
   "source": [
    "pred = multiNB.predict(X_test_bow)"
   ]
  },
  {
   "cell_type": "code",
   "execution_count": 0,
   "metadata": {
    "colab": {},
    "colab_type": "code",
    "id": "bUNOr_hVXbST"
   },
   "outputs": [],
   "source": [
    "from sklearn.metrics import confusion_matrix\n",
    "import seaborn as sn\n",
    "def plot_confusion_matrix(data1,data2):\n",
    "    cm = confusion_matrix(data1,data2)\n",
    "    labels = ['negative','positive']\n",
    "    sn.heatmap(cm, annot=True, xticklabels = labels, yticklabels = labels,fmt='g')\n",
    "    plt.title(\"Confusion Matrix\")\n",
    "    plt.xlabel(\"Predicted Label\")\n",
    "    plt.ylabel(\"Original Label\")\n",
    "    plt.show()"
   ]
  },
  {
   "cell_type": "code",
   "execution_count": 26,
   "metadata": {
    "colab": {
     "base_uri": "https://localhost:8080/",
     "height": 376
    },
    "colab_type": "code",
    "id": "49nSeaPEXrJv",
    "outputId": "c055ad10-6e18-4109-d63a-311e7e008f56"
   },
   "outputs": [
    {
     "data": {
      "image/png": "[encoded data removed]",
      "text/plain": [
       "<Figure size 576x396 with 2 Axes>"
      ]
     },
     "metadata": {
      "tags": []
     },
     "output_type": "display_data"
    }
   ],
   "source": [
    "plot_confusion_matrix(y_test,pred)"
   ]
  },
  {
   "cell_type": "code",
   "execution_count": 27,
   "metadata": {
    "colab": {
     "base_uri": "https://localhost:8080/",
     "height": 376
    },
    "colab_type": "code",
    "id": "b6EgKpCaXuCe",
    "outputId": "bab6d3ab-01fa-452b-e553-187529594759"
   },
   "outputs": [
    {
     "data": {
      "image/png": "[encoded data removed]",
      "text/plain": [
       "<Figure size 576x396 with 1 Axes>"
      ]
     },
     "metadata": {
      "tags": []
     },
     "output_type": "display_data"
    }
   ],
   "source": [
    "from sklearn.metrics import roc_curve,auc\n",
    "train_fpr,train_tpr,thresholds = roc_curve(y_train,multiNB.predict_proba(X_train_bow)[:,1])\n",
    "test_fpr,test_tpr,thresholds = roc_curve(y_test,multiNB.predict_proba(X_test_bow)[:,1])\n",
    "plt.plot(train_fpr,train_tpr,label=\"Train AUC\"+str(auc(train_fpr,train_tpr)))\n",
    "plt.plot(test_fpr,test_tpr,label=\"Test AUC\"+str(auc(test_fpr,test_tpr)))\n",
    "plt.legend()\n",
    "plt.xlabel(\"Alpha:Hyperparameter\")\n",
    "plt.ylabel(\"AUC\") \n",
    "plt.title(\"ERROR PLOTS\")\n",
    "plt.show()"
   ]
  },
  {
   "cell_type": "markdown",
   "metadata": {
    "colab_type": "text",
    "id": "4DCQ1RwczEj-"
   },
   "source": [
    "#Postive and Negative Class Top 10 features"
   ]
  },
  {
   "cell_type": "code",
   "execution_count": 0,
   "metadata": {
    "colab": {},
    "colab_type": "code",
    "id": "8vc2A1iAzCmS"
   },
   "outputs": [],
   "source": [
    "features = pd.DataFrame(data = multiNB.feature_log_prob_.T,index=bow.get_feature_names(), columns=['negative','positive'])\n",
    "positive_features = features.sort_values(by='positive', ascending=False)[0:10]\n",
    "negative_features = features.sort_values(by='negative', ascending=False)[0:10]\n"
   ]
  },
  {
   "cell_type": "code",
   "execution_count": 52,
   "metadata": {
    "colab": {
     "base_uri": "https://localhost:8080/",
     "height": 343
    },
    "colab_type": "code",
    "id": "N-lGo3Sg6Et3",
    "outputId": "766b164c-1b08-44a3-edb4-3d60012dad27"
   },
   "outputs": [
    {
     "data": {
      "text/html": [
       "<div>\n",
       "<style scoped>\n",
       "    .dataframe tbody tr th:only-of-type {\n",
       "        vertical-align: middle;\n",
       "    }\n",
       "\n",
       "    .dataframe tbody tr th {\n",
       "        vertical-align: top;\n",
       "    }\n",
       "\n",
       "    .dataframe thead th {\n",
       "        text-align: right;\n",
       "    }\n",
       "</style>\n",
       "<table border=\"1\" class=\"dataframe\">\n",
       "  <thead>\n",
       "    <tr style=\"text-align: right;\">\n",
       "      <th></th>\n",
       "      <th>negative</th>\n",
       "      <th>positive</th>\n",
       "    </tr>\n",
       "  </thead>\n",
       "  <tbody>\n",
       "    <tr>\n",
       "      <th>like</th>\n",
       "      <td>-4.243731</td>\n",
       "      <td>-4.410216</td>\n",
       "    </tr>\n",
       "    <tr>\n",
       "      <th>tast</th>\n",
       "      <td>-4.086586</td>\n",
       "      <td>-4.413325</td>\n",
       "    </tr>\n",
       "    <tr>\n",
       "      <th>love</th>\n",
       "      <td>-5.569773</td>\n",
       "      <td>-4.421187</td>\n",
       "    </tr>\n",
       "    <tr>\n",
       "      <th>great</th>\n",
       "      <td>-5.917212</td>\n",
       "      <td>-4.456688</td>\n",
       "    </tr>\n",
       "    <tr>\n",
       "      <th>good</th>\n",
       "      <td>-4.946944</td>\n",
       "      <td>-4.492576</td>\n",
       "    </tr>\n",
       "    <tr>\n",
       "      <th>flavor</th>\n",
       "      <td>-4.744969</td>\n",
       "      <td>-4.609720</td>\n",
       "    </tr>\n",
       "    <tr>\n",
       "      <th>product</th>\n",
       "      <td>-4.364717</td>\n",
       "      <td>-4.697014</td>\n",
       "    </tr>\n",
       "    <tr>\n",
       "      <th>use</th>\n",
       "      <td>-5.085779</td>\n",
       "      <td>-4.703895</td>\n",
       "    </tr>\n",
       "    <tr>\n",
       "      <th>one</th>\n",
       "      <td>-4.723411</td>\n",
       "      <td>-4.802537</td>\n",
       "    </tr>\n",
       "    <tr>\n",
       "      <th>tri</th>\n",
       "      <td>-4.850635</td>\n",
       "      <td>-4.880493</td>\n",
       "    </tr>\n",
       "  </tbody>\n",
       "</table>\n",
       "</div>"
      ],
      "text/plain": [
       "         negative  positive\n",
       "like    -4.243731 -4.410216\n",
       "tast    -4.086586 -4.413325\n",
       "love    -5.569773 -4.421187\n",
       "great   -5.917212 -4.456688\n",
       "good    -4.946944 -4.492576\n",
       "flavor  -4.744969 -4.609720\n",
       "product -4.364717 -4.697014\n",
       "use     -5.085779 -4.703895\n",
       "one     -4.723411 -4.802537\n",
       "tri     -4.850635 -4.880493"
      ]
     },
     "execution_count": 52,
     "metadata": {
      "tags": []
     },
     "output_type": "execute_result"
    }
   ],
   "source": [
    "positive_features"
   ]
  },
  {
   "cell_type": "code",
   "execution_count": 53,
   "metadata": {
    "colab": {
     "base_uri": "https://localhost:8080/",
     "height": 343
    },
    "colab_type": "code",
    "id": "0lenNTRAX1sV",
    "outputId": "0d7b03a7-d18d-4a66-9e3e-fd137e6dc47b"
   },
   "outputs": [
    {
     "data": {
      "text/html": [
       "<div>\n",
       "<style scoped>\n",
       "    .dataframe tbody tr th:only-of-type {\n",
       "        vertical-align: middle;\n",
       "    }\n",
       "\n",
       "    .dataframe tbody tr th {\n",
       "        vertical-align: top;\n",
       "    }\n",
       "\n",
       "    .dataframe thead th {\n",
       "        text-align: right;\n",
       "    }\n",
       "</style>\n",
       "<table border=\"1\" class=\"dataframe\">\n",
       "  <thead>\n",
       "    <tr style=\"text-align: right;\">\n",
       "      <th></th>\n",
       "      <th>negative</th>\n",
       "      <th>positive</th>\n",
       "    </tr>\n",
       "  </thead>\n",
       "  <tbody>\n",
       "    <tr>\n",
       "      <th>tast</th>\n",
       "      <td>-4.086586</td>\n",
       "      <td>-4.413325</td>\n",
       "    </tr>\n",
       "    <tr>\n",
       "      <th>like</th>\n",
       "      <td>-4.243731</td>\n",
       "      <td>-4.410216</td>\n",
       "    </tr>\n",
       "    <tr>\n",
       "      <th>product</th>\n",
       "      <td>-4.364717</td>\n",
       "      <td>-4.697014</td>\n",
       "    </tr>\n",
       "    <tr>\n",
       "      <th>one</th>\n",
       "      <td>-4.723411</td>\n",
       "      <td>-4.802537</td>\n",
       "    </tr>\n",
       "    <tr>\n",
       "      <th>flavor</th>\n",
       "      <td>-4.744969</td>\n",
       "      <td>-4.609720</td>\n",
       "    </tr>\n",
       "    <tr>\n",
       "      <th>tri</th>\n",
       "      <td>-4.850635</td>\n",
       "      <td>-4.880493</td>\n",
       "    </tr>\n",
       "    <tr>\n",
       "      <th>would</th>\n",
       "      <td>-4.865116</td>\n",
       "      <td>-5.335811</td>\n",
       "    </tr>\n",
       "    <tr>\n",
       "      <th>good</th>\n",
       "      <td>-4.946944</td>\n",
       "      <td>-4.492576</td>\n",
       "    </tr>\n",
       "    <tr>\n",
       "      <th>buy</th>\n",
       "      <td>-4.967000</td>\n",
       "      <td>-5.215527</td>\n",
       "    </tr>\n",
       "    <tr>\n",
       "      <th>coffe</th>\n",
       "      <td>-5.051741</td>\n",
       "      <td>-4.962818</td>\n",
       "    </tr>\n",
       "  </tbody>\n",
       "</table>\n",
       "</div>"
      ],
      "text/plain": [
       "         negative  positive\n",
       "tast    -4.086586 -4.413325\n",
       "like    -4.243731 -4.410216\n",
       "product -4.364717 -4.697014\n",
       "one     -4.723411 -4.802537\n",
       "flavor  -4.744969 -4.609720\n",
       "tri     -4.850635 -4.880493\n",
       "would   -4.865116 -5.335811\n",
       "good    -4.946944 -4.492576\n",
       "buy     -4.967000 -5.215527\n",
       "coffe   -5.051741 -4.962818"
      ]
     },
     "execution_count": 53,
     "metadata": {
      "tags": []
     },
     "output_type": "execute_result"
    }
   ],
   "source": [
    "negative_features"
   ]
  },
  {
   "cell_type": "markdown",
   "metadata": {
    "colab_type": "text",
    "id": "XA0UrnGgzr5R"
   },
   "source": [
    "# Apply TFIDF "
   ]
  },
  {
   "cell_type": "code",
   "execution_count": 66,
   "metadata": {
    "colab": {
     "base_uri": "https://localhost:8080/",
     "height": 151
    },
    "colab_type": "code",
    "id": "pPpZv0IcZIFa",
    "outputId": "c32cb5e8-7e6f-4dc2-d71e-41d9753e052a"
   },
   "outputs": [
    {
     "name": "stdout",
     "output_type": "stream",
     "text": [
      "Shape of independent varibles\n",
      "(44890, 726866)\n",
      "(33000, 726866)\n",
      "(22110, 726866)\n",
      "Shape of dependent varibles\n",
      "(44890,)\n",
      "(33000,)\n",
      "(22110,)\n"
     ]
    }
   ],
   "source": [
    "# try count vectorizer\n",
    "\n",
    "from sklearn.feature_extraction.text import TfidfVectorizer\n",
    "\n",
    "tfidf = TfidfVectorizer(ngram_range = (1,2))\n",
    "\n",
    "X_train_tfidf = tfidf.fit_transform(X_train)\n",
    "\n",
    "X_train_tfidf = preprocessing.normalize(X_train_tfidf)\n",
    "\n",
    "X_test_tfidf = tfidf.transform(X_test)\n",
    "\n",
    "X_test_tfidf = preprocessing.normalize(X_test_tfidf)\n",
    "\n",
    "X_cv_tfidf = tfidf.transform(X_cv)\n",
    "\n",
    "X_cv_tfidf = preprocessing.normalize(X_cv_tfidf)\n",
    "\n",
    "print(\"Shape of independent varibles\")\n",
    "print(X_train_tfidf.shape)\n",
    "print(X_test_tfidf.shape)\n",
    "print(X_cv_tfidf.shape)\n",
    "\n",
    "print(\"Shape of dependent varibles\")\n",
    "print(y_train.shape)\n",
    "print(y_test.shape)\n",
    "print(y_cv.shape)"
   ]
  },
  {
   "cell_type": "code",
   "execution_count": 67,
   "metadata": {
    "colab": {
     "base_uri": "https://localhost:8080/",
     "height": 168
    },
    "colab_type": "code",
    "id": "OmCGCvb30h88",
    "outputId": "4a22db1f-b664-4d14-b7cf-7ac5789c2038"
   },
   "outputs": [
    {
     "name": "stdout",
     "output_type": "stream",
     "text": [
      "Cv scores 0.8286171668804495 and train Scores 0.9999997726241818 alpha 1e-05\n",
      "Cv scores 0.8515482271585326 and train Scores 0.9999997502593473 alpha 0.0001\n",
      "Cv scores 0.8839716042549235 and train Scores 0.9999996123428673 alpha 0.001\n",
      "Cv scores 0.9203630808146022 and train Scores 0.999998468008832 alpha 0.01\n",
      "Cv scores 0.9181884170288552 and train Scores 0.9997678231973646 alpha 0.1\n",
      "Cv scores 0.7906129337086798 and train Scores 0.9307674963763097 alpha 1\n",
      "Cv scores 0.7019411636972914 and train Scores 0.7559002543138886 alpha 10\n",
      "Cv scores 0.6618628159434716 and train Scores 0.6857299111722074 alpha 100\n",
      "Cv scores 0.6470764113904861 and train Scores 0.663791887103329 alpha 1000\n"
     ]
    }
   ],
   "source": [
    "from sklearn.metrics import roc_auc_score\n",
    "from sklearn.naive_bayes import MultinomialNB\n",
    "alpha = [0.00001,0.0001,0.001,0.01,0.1,1,10,100,1000]\n",
    "\n",
    "cv_scores = []\n",
    "\n",
    "train_scores = []\n",
    "\n",
    "i=0\n",
    "\n",
    "for a in alpha:\n",
    "  multiNB = MultinomialNB(alpha = a)\n",
    "  multiNB.fit(X_train_tfidf,y_train)\n",
    "  scores = roc_auc_score(np.array(y_cv),multiNB.predict_proba(X_cv_tfidf)[:,1])\n",
    "  cv_scores.append(scores)\n",
    "  scores = roc_auc_score(np.array(y_train),multiNB.predict_proba(X_train_tfidf)[:,1])\n",
    "  train_scores.append(scores)\n",
    "  \n",
    "  print(\"Cv scores {} and train Scores {} alpha {}\".format(cv_scores[i],train_scores[i],a))\n",
    "  i +=1\n",
    " \n",
    "  \n",
    "  \n",
    "  \n"
   ]
  },
  {
   "cell_type": "code",
   "execution_count": 68,
   "metadata": {
    "colab": {
     "base_uri": "https://localhost:8080/",
     "height": 362
    },
    "colab_type": "code",
    "id": "fL6CxjlW7tuz",
    "outputId": "21b05287-267f-45a5-aae9-ef26db3ef2b8"
   },
   "outputs": [
    {
     "data": {
      "image/png": "[encoded data removed]",
      "text/plain": [
       "<Figure size 576x396 with 1 Axes>"
      ]
     },
     "metadata": {
      "tags": []
     },
     "output_type": "display_data"
    }
   ],
   "source": [
    "plt.title(\"Alpha vs AUC\")\n",
    "plt.plot(range(len(alpha)),cv_scores,label = \"CV AUC\")\n",
    "plt.plot(range(len(alpha)),train_scores,label = \"Train AUC\")\n",
    "plt.xticks(range(len(alpha)),alpha)\n",
    "plt.legend()\n",
    "plt.show()"
   ]
  },
  {
   "cell_type": "code",
   "execution_count": 69,
   "metadata": {
    "colab": {
     "base_uri": "https://localhost:8080/",
     "height": 34
    },
    "colab_type": "code",
    "id": "_BnBBblc09_E",
    "outputId": "1e1fa9f0-8542-4d3e-ef47-c3f24827178a"
   },
   "outputs": [
    {
     "data": {
      "text/plain": [
       "MultinomialNB(alpha=0.1, class_prior=None, fit_prior=True)"
      ]
     },
     "execution_count": 69,
     "metadata": {
      "tags": []
     },
     "output_type": "execute_result"
    }
   ],
   "source": [
    "multiNB = MultinomialNB(alpha = 0.1)\n",
    "multiNB.fit(X_train_tfidf,y_train)"
   ]
  },
  {
   "cell_type": "code",
   "execution_count": 0,
   "metadata": {
    "colab": {},
    "colab_type": "code",
    "id": "k09EWnx81oGY"
   },
   "outputs": [],
   "source": [
    " pred = multiNB.predict(X_test_tfidf)"
   ]
  },
  {
   "cell_type": "code",
   "execution_count": 71,
   "metadata": {
    "colab": {
     "base_uri": "https://localhost:8080/",
     "height": 376
    },
    "colab_type": "code",
    "id": "glHn21XS1uBN",
    "outputId": "02f8f407-1210-462e-ec09-8222af67b57a"
   },
   "outputs": [
    {
     "data": {
      "image/png": "[encoded data removed]",
      "text/plain": [
       "<Figure size 576x396 with 2 Axes>"
      ]
     },
     "metadata": {
      "tags": []
     },
     "output_type": "display_data"
    }
   ],
   "source": [
    "plot_confusion_matrix(y_test,pred)"
   ]
  },
  {
   "cell_type": "code",
   "execution_count": 72,
   "metadata": {
    "colab": {
     "base_uri": "https://localhost:8080/",
     "height": 376
    },
    "colab_type": "code",
    "id": "PhXj1Eyn3O_N",
    "outputId": "a87170b8-b2a1-494b-c3b8-f1c38b8f9525"
   },
   "outputs": [
    {
     "data": {
      "image/png": "[encoded data removed]",
      "text/plain": [
       "<Figure size 576x396 with 1 Axes>"
      ]
     },
     "metadata": {
      "tags": []
     },
     "output_type": "display_data"
    }
   ],
   "source": [
    "from sklearn.metrics import roc_curve,auc\n",
    "train_fpr,train_tpr,thresholds = roc_curve(y_train,multiNB.predict_proba(X_train_tfidf)[:,1])\n",
    "test_fpr,test_tpr,thresholds = roc_curve(y_test,multiNB.predict_proba(X_test_tfidf)[:,1])\n",
    "plt.plot(train_fpr,train_tpr,label=\"Train AUC\"+str(auc(train_fpr,train_tpr)))\n",
    "plt.plot(test_fpr,test_tpr,label=\"Test AUC\"+str(auc(test_fpr,test_tpr)))\n",
    "plt.legend()\n",
    "plt.xlabel(\"Alpha:Hyperparameter\")\n",
    "plt.ylabel(\"AUC\") \n",
    "plt.title(\"ERROR PLOTS\")\n",
    "plt.show()"
   ]
  },
  {
   "cell_type": "markdown",
   "metadata": {
    "colab_type": "text",
    "id": "-MAIhHzu3clb"
   },
   "source": [
    "#Get top 10 Postive class and negative features"
   ]
  },
  {
   "cell_type": "code",
   "execution_count": 0,
   "metadata": {
    "colab": {},
    "colab_type": "code",
    "id": "sXQwQ_Sk8GZL"
   },
   "outputs": [],
   "source": [
    "features = pd.DataFrame(data = multiNB.feature_log_prob_.T,index=tfidf.get_feature_names(), columns=['negative','positive'])\n",
    "positive_features = features.sort_values(by='positive', ascending=False)[0:10]\n",
    "negative_features = features.sort_values(by='negative', ascending=False)[0:10]\n"
   ]
  },
  {
   "cell_type": "code",
   "execution_count": 74,
   "metadata": {
    "colab": {
     "base_uri": "https://localhost:8080/",
     "height": 343
    },
    "colab_type": "code",
    "id": "DiiJq6xC3YK8",
    "outputId": "513d76e7-d1ee-45f9-8d7d-d0c864f95793"
   },
   "outputs": [
    {
     "data": {
      "text/html": [
       "<div>\n",
       "<style scoped>\n",
       "    .dataframe tbody tr th:only-of-type {\n",
       "        vertical-align: middle;\n",
       "    }\n",
       "\n",
       "    .dataframe tbody tr th {\n",
       "        vertical-align: top;\n",
       "    }\n",
       "\n",
       "    .dataframe thead th {\n",
       "        text-align: right;\n",
       "    }\n",
       "</style>\n",
       "<table border=\"1\" class=\"dataframe\">\n",
       "  <thead>\n",
       "    <tr style=\"text-align: right;\">\n",
       "      <th></th>\n",
       "      <th>negative</th>\n",
       "      <th>positive</th>\n",
       "    </tr>\n",
       "  </thead>\n",
       "  <tbody>\n",
       "    <tr>\n",
       "      <th>love</th>\n",
       "      <td>-8.220225</td>\n",
       "      <td>-6.421106</td>\n",
       "    </tr>\n",
       "    <tr>\n",
       "      <th>great</th>\n",
       "      <td>-8.541558</td>\n",
       "      <td>-6.424119</td>\n",
       "    </tr>\n",
       "    <tr>\n",
       "      <th>tast</th>\n",
       "      <td>-6.804795</td>\n",
       "      <td>-6.476228</td>\n",
       "    </tr>\n",
       "    <tr>\n",
       "      <th>like</th>\n",
       "      <td>-6.966108</td>\n",
       "      <td>-6.481654</td>\n",
       "    </tr>\n",
       "    <tr>\n",
       "      <th>good</th>\n",
       "      <td>-7.604122</td>\n",
       "      <td>-6.498021</td>\n",
       "    </tr>\n",
       "    <tr>\n",
       "      <th>tea</th>\n",
       "      <td>-7.618679</td>\n",
       "      <td>-6.521716</td>\n",
       "    </tr>\n",
       "    <tr>\n",
       "      <th>flavor</th>\n",
       "      <td>-7.327803</td>\n",
       "      <td>-6.545738</td>\n",
       "    </tr>\n",
       "    <tr>\n",
       "      <th>coffe</th>\n",
       "      <td>-7.331321</td>\n",
       "      <td>-6.586403</td>\n",
       "    </tr>\n",
       "    <tr>\n",
       "      <th>use</th>\n",
       "      <td>-7.669609</td>\n",
       "      <td>-6.638739</td>\n",
       "    </tr>\n",
       "    <tr>\n",
       "      <th>product</th>\n",
       "      <td>-6.979092</td>\n",
       "      <td>-6.649988</td>\n",
       "    </tr>\n",
       "  </tbody>\n",
       "</table>\n",
       "</div>"
      ],
      "text/plain": [
       "         negative  positive\n",
       "love    -8.220225 -6.421106\n",
       "great   -8.541558 -6.424119\n",
       "tast    -6.804795 -6.476228\n",
       "like    -6.966108 -6.481654\n",
       "good    -7.604122 -6.498021\n",
       "tea     -7.618679 -6.521716\n",
       "flavor  -7.327803 -6.545738\n",
       "coffe   -7.331321 -6.586403\n",
       "use     -7.669609 -6.638739\n",
       "product -6.979092 -6.649988"
      ]
     },
     "execution_count": 74,
     "metadata": {
      "tags": []
     },
     "output_type": "execute_result"
    }
   ],
   "source": [
    "positive_features"
   ]
  },
  {
   "cell_type": "code",
   "execution_count": 75,
   "metadata": {
    "colab": {
     "base_uri": "https://localhost:8080/",
     "height": 343
    },
    "colab_type": "code",
    "id": "adO7DpmU3vYt",
    "outputId": "965ba13e-66e2-4dea-d0d7-9a68fbb7d3cb"
   },
   "outputs": [
    {
     "data": {
      "text/html": [
       "<div>\n",
       "<style scoped>\n",
       "    .dataframe tbody tr th:only-of-type {\n",
       "        vertical-align: middle;\n",
       "    }\n",
       "\n",
       "    .dataframe tbody tr th {\n",
       "        vertical-align: top;\n",
       "    }\n",
       "\n",
       "    .dataframe thead th {\n",
       "        text-align: right;\n",
       "    }\n",
       "</style>\n",
       "<table border=\"1\" class=\"dataframe\">\n",
       "  <thead>\n",
       "    <tr style=\"text-align: right;\">\n",
       "      <th></th>\n",
       "      <th>negative</th>\n",
       "      <th>positive</th>\n",
       "    </tr>\n",
       "  </thead>\n",
       "  <tbody>\n",
       "    <tr>\n",
       "      <th>tast</th>\n",
       "      <td>-6.804795</td>\n",
       "      <td>-6.476228</td>\n",
       "    </tr>\n",
       "    <tr>\n",
       "      <th>like</th>\n",
       "      <td>-6.966108</td>\n",
       "      <td>-6.481654</td>\n",
       "    </tr>\n",
       "    <tr>\n",
       "      <th>product</th>\n",
       "      <td>-6.979092</td>\n",
       "      <td>-6.649988</td>\n",
       "    </tr>\n",
       "    <tr>\n",
       "      <th>one</th>\n",
       "      <td>-7.324016</td>\n",
       "      <td>-6.747760</td>\n",
       "    </tr>\n",
       "    <tr>\n",
       "      <th>flavor</th>\n",
       "      <td>-7.327803</td>\n",
       "      <td>-6.545738</td>\n",
       "    </tr>\n",
       "    <tr>\n",
       "      <th>would</th>\n",
       "      <td>-7.328294</td>\n",
       "      <td>-7.141155</td>\n",
       "    </tr>\n",
       "    <tr>\n",
       "      <th>coffe</th>\n",
       "      <td>-7.331321</td>\n",
       "      <td>-6.586403</td>\n",
       "    </tr>\n",
       "    <tr>\n",
       "      <th>tri</th>\n",
       "      <td>-7.423863</td>\n",
       "      <td>-6.799505</td>\n",
       "    </tr>\n",
       "    <tr>\n",
       "      <th>buy</th>\n",
       "      <td>-7.433813</td>\n",
       "      <td>-7.023799</td>\n",
       "    </tr>\n",
       "    <tr>\n",
       "      <th>order</th>\n",
       "      <td>-7.462088</td>\n",
       "      <td>-7.072065</td>\n",
       "    </tr>\n",
       "  </tbody>\n",
       "</table>\n",
       "</div>"
      ],
      "text/plain": [
       "         negative  positive\n",
       "tast    -6.804795 -6.476228\n",
       "like    -6.966108 -6.481654\n",
       "product -6.979092 -6.649988\n",
       "one     -7.324016 -6.747760\n",
       "flavor  -7.327803 -6.545738\n",
       "would   -7.328294 -7.141155\n",
       "coffe   -7.331321 -6.586403\n",
       "tri     -7.423863 -6.799505\n",
       "buy     -7.433813 -7.023799\n",
       "order   -7.462088 -7.072065"
      ]
     },
     "execution_count": 75,
     "metadata": {
      "tags": []
     },
     "output_type": "execute_result"
    }
   ],
   "source": [
    "negative_features"
   ]
  },
  {
   "cell_type": "code",
   "execution_count": 0,
   "metadata": {
    "colab": {},
    "colab_type": "code",
    "id": "M__x1yhU4IL_"
   },
   "outputs": [],
   "source": [
    "from prettytable import PrettyTable\n",
    "\n",
    "table = PrettyTable()\n",
    "\n",
    "table.field_names = ['Type','Train_AUC','Test_AUC',]\n",
    "\n",
    "table.add_row(['Bag Of Words',96.96,92.56])\n",
    "table.add_row(['TFIDF',99.97,92.39,])"
   ]
  },
  {
   "cell_type": "code",
   "execution_count": 77,
   "metadata": {
    "colab": {
     "base_uri": "https://localhost:8080/",
     "height": 118
    },
    "colab_type": "code",
    "id": "Ke6bMW35Sqea",
    "outputId": "90f436c9-4753-407d-f636-6d2650b78a8f"
   },
   "outputs": [
    {
     "name": "stdout",
     "output_type": "stream",
     "text": [
      "+--------------+-----------+----------+\n",
      "|     Type     | Train_AUC | Test_AUC |\n",
      "+--------------+-----------+----------+\n",
      "| Bag Of Words |   96.96   |  92.56   |\n",
      "|    TFIDF     |   99.97   |  92.39   |\n",
      "+--------------+-----------+----------+\n"
     ]
    }
   ],
   "source": [
    "print(table)"
   ]
  },
  {
   "cell_type": "markdown",
   "metadata": {
    "colab_type": "text",
    "id": "UJMk-R8BU5IY"
   },
   "source": [
    "The model with Bag of Words doing well and has highest test accuracy"
   ]
  }
 ],
 "metadata": {
  "colab": {
   "collapsed_sections": [],
   "name": "Naive_Bayes_Amazon_food_reviews.ipynb",
   "provenance": [],
   "version": "0.3.2"
  },
  "kernelspec": {
   "display_name": "Python 3",
   "language": "python",
   "name": "python3"
  },
  "language_info": {
   "codemirror_mode": {
    "name": "ipython",
    "version": 3
   },
   "file_extension": ".py",
   "mimetype": "text/x-python",
   "name": "python",
   "nbconvert_exporter": "python",
   "pygments_lexer": "ipython3",
   "version": "3.6.5"
  }
 },
 "nbformat": 4,
 "nbformat_minor": 1
}
